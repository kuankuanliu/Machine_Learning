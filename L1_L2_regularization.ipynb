{
  "nbformat": 4,
  "nbformat_minor": 0,
  "metadata": {
    "colab": {
      "provenance": []
    },
    "kernelspec": {
      "name": "python3",
      "display_name": "Python 3"
    },
    "language_info": {
      "name": "python"
    }
  },
  "cells": [
    {
      "cell_type": "markdown",
      "source": [
        "# AI534 Implementation Assignment 2###\n",
        "\n",
        "**Deadline**: Sunday, Oct. 29, by 11:59pm\n",
        "\n",
        "**Submission**: Submit 1) your completed notebook in ipynb format, and 2) a PDF export of the completed notebook with outputs.\n",
        "\n",
        "**Late Submission**: Please see the syllabus for the late submission policy.\n",
        "\n",
        "In this assignment, we will implement and experiment with logistic regression with L2 and L1 regularization to predict whether a health insurance customer will purchase car insurance as well based on a set of features.\n",
        "\n",
        "You may modify the starter code as you see fit, including changing the signatures of functions and adding/removing helper functions. However, please make sure that your TA can understand what you are doing and why."
      ],
      "metadata": {
        "id": "zOK-6wmkFuv6"
      }
    },
    {
      "cell_type": "markdown",
      "source": [
        "First lets import the necessary packages."
      ],
      "metadata": {
        "id": "aP84hVzY97rb"
      }
    },
    {
      "cell_type": "code",
      "source": [
        "import matplotlib.pyplot as plt\n",
        "import numpy as np\n",
        "import pandas as pd\n",
        "# add more imports if necessary"
      ],
      "metadata": {
        "id": "mfC82i5Bw_Cm"
      },
      "execution_count": null,
      "outputs": []
    },
    {
      "cell_type": "markdown",
      "source": [
        "# Loading data and perform feature normalization for numerical features\n",
        "\n",
        "---\n",
        "\n",
        "On canvas, we have provided three different data files for this assignment: IA2-train.csv (for training), IA2-dev.csv(for validation) and IA2-train-noisy.csv (for noisy training). Download them and upload them to your google drive. Then mount the google drive from your google colab notebook:\n"
      ],
      "metadata": {
        "id": "7Z0sSMySHB-Z"
      }
    },
    {
      "cell_type": "code",
      "source": [
        "from google.colab import drive\n",
        "drive.mount('/content/gdrive')\n",
        "\n",
        "train_path = '/content/gdrive/My Drive/AI534/IA2-train.csv' # DO NOT MODIFY THIS. Please make sure your data has this exact path\n",
        "val_path = '/content/gdrive/My Drive/AI534/IA2-dev.csv' # DO NOT MODIFY THIS. Please make sure your data has this exact path\n",
        "noisy_train_path = '/content/gdrive/My Drive/AI534/IA2-train-noisy.csv' # DO NOT MODIFY THIS. Please make sure your data has this exact path"
      ],
      "metadata": {
        "id": "E6K8DsDcwjS6",
        "colab": {
          "base_uri": "https://localhost:8080/"
        },
        "outputId": "a7e3d882-d001-4e91-8b01-ccb13a220434"
      },
      "execution_count": null,
      "outputs": [
        {
          "output_type": "stream",
          "name": "stdout",
          "text": [
            "Mounted at /content/gdrive\n"
          ]
        }
      ]
    },
    {
      "cell_type": "markdown",
      "source": [
        "You have one additional preprocessing step to do, which is to perform feature normalization (z-score) for 3 numerical features (\"Age\", \"Annual_Premium\", \"Vintage\")."
      ],
      "metadata": {
        "id": "nsuGx9oFxRu3"
      }
    },
    {
      "cell_type": "code",
      "source": [
        "# your code goes here\n",
        "train_data = pd.read_csv(train_path)\n",
        "val_data   = pd.read_csv(val_path)\n",
        "noisy_train=pd.read_csv(noisy_train_path)"
      ],
      "metadata": {
        "id": "9uTz8ldzx0EM"
      },
      "execution_count": null,
      "outputs": []
    },
    {
      "cell_type": "code",
      "source": [
        "processed_train_data = train_data.copy()\n",
        "processed_val_data   = val_data.copy()\n",
        "processed_noisy_train   = noisy_train.copy()\n",
        "\n",
        "normalized=[\"Age\", \"Annual_Premium\", \"Vintage\"]\n",
        "\n",
        "mean_values          = processed_train_data[normalized].mean()\n",
        "std_deviation_values = processed_train_data[normalized].std()\n",
        "\n",
        "# Apply z-score normalization\n",
        "processed_train_data[normalized] = (processed_train_data[normalized] - mean_values) / std_deviation_values\n",
        "processed_val_data[normalized] = (processed_val_data[normalized] - mean_values) / std_deviation_values\n",
        "processed_noisy_train[normalized] = (processed_noisy_train[normalized] - mean_values) / std_deviation_values\n",
        "\n",
        "#should speedup training without impacting quality too much\n",
        "processed_train_data = processed_train_data.astype('float32')\n",
        "processed_val_data = processed_val_data.astype('float32')\n",
        "processed_noisy_train = processed_noisy_train.astype('float32')\n",
        "\n",
        "print(processed_train_data.dtypes)"
      ],
      "metadata": {
        "colab": {
          "base_uri": "https://localhost:8080/"
        },
        "id": "TpU08f5EgPRP",
        "outputId": "cc951017-14a8-4310-fbc5-dd4da10852bc"
      },
      "execution_count": null,
      "outputs": [
        {
          "output_type": "stream",
          "name": "stdout",
          "text": [
            "dummy                       float32\n",
            "Gender                      float32\n",
            "Age                         float32\n",
            "Driving_License             float32\n",
            "Previously_Insured          float32\n",
            "                             ...   \n",
            "Policy_Sales_Channel_158    float32\n",
            "Policy_Sales_Channel_159    float32\n",
            "Policy_Sales_Channel_160    float32\n",
            "Policy_Sales_Channel_163    float32\n",
            "Response                    float32\n",
            "Length: 198, dtype: object\n"
          ]
        }
      ]
    },
    {
      "cell_type": "markdown",
      "source": [
        "# Part 1 (35 pts) Logstic regression with L2 (Ridge) regularization\n",
        "\n",
        "For this part of the assignment, you will implement and experiment with Logistic regression with L2 regularization (Algorithm 1 in Assignment 2 Reference Information).\n"
      ],
      "metadata": {
        "id": "C4djL2J-By8Y"
      }
    },
    {
      "cell_type": "markdown",
      "source": [
        "## Impelement Logistic regression with L2 regularization\n",
        "As a recommendation, your implemented function should consider the following inputs:\n",
        "1. The training data\n",
        "2. The regularization parameter $\\lambda$\n",
        "3. The learning rate\n",
        "4. Max iterations (recommend to start with 5000)\n",
        "5. Threshold for change in loss (this will be used for early stopping: if the change in loss is less than the threshold, it is considered to have converged. Please use a threhold of $10^{-7}$. )\n",
        "\n",
        "Your function should output the learned weight vector. But it is also a good idea to output the sequence of losses so that you can visualize the convergence process to ensure proper convergence. You should also implement a divergence detection, if the loss starts to diverge, terminate and raise an alarm.\n",
        "\n"
      ],
      "metadata": {
        "id": "T0edcBa0MtVP"
      }
    },
    {
      "cell_type": "code",
      "source": [
        "from tqdm import tqdm\n",
        "from sklearn.metrics import accuracy_score\n",
        "def sigmoid(z):\n",
        "    return 1 / (1 + np.exp(-z))\n",
        "\n",
        "def logistic_regression_with_l2(X, y, lambda_reg, learning_rate, max_iterations, threshold):\n",
        "    m, n = X.shape           # m is the total number of training examples, n is the number of features\n",
        "    w = np.zeros(n)          # Initializing weights to zero\n",
        "    losses = []\n",
        "\n",
        "    for iteration in tqdm(range(max_iterations)):\n",
        "        #make predictions\n",
        "        z = np.dot(X, w)\n",
        "        y_pred = sigmoid(z)\n",
        "\n",
        "        gradient = (1 / m) * np.dot(X.T, y_pred - y) + (lambda_reg / m) * w\n",
        "        #dont regularize bias\n",
        "        gradient[0] -= (lambda_reg / m) * w[0]\n",
        "\n",
        "        w -= learning_rate * gradient\n",
        "\n",
        "\n",
        "        # Compute the loss\n",
        "        loss = (-1 / m) * (np.dot(y, np.log(y_pred)) + np.dot(1 - y, np.log(1 - y_pred))\n",
        "                          + (lambda_reg / 2) * np.sum(w[1:] ** 2))\n",
        "        losses.append(loss)\n",
        "\n",
        "        # Check for convergence\n",
        "        if iteration > 0 and abs(losses[-1] - losses[-2]) < threshold:\n",
        "            print(f\"Converged after {iteration} iterations.\")\n",
        "            return w, losses\n",
        "\n",
        "        # Check for divergence\n",
        "        if iteration > 0 and losses[-1] > losses[-2]:\n",
        "            print(f\"Diverged after {iteration} iterations.\")\n",
        "            raise Exception(\"Divergence detected!\")\n",
        "\n",
        "    print(\"Reached the maximum number of iterations.\")\n",
        "    return w, losses\n",
        "\n",
        "def predict(X, w):\n",
        "    z = np.dot(X, w)\n",
        "    y_pred = sigmoid(z)\n",
        "    predictions = (y_pred >= 0.5).astype(int)\n",
        "    return predictions"
      ],
      "metadata": {
        "id": "sc2kX8JxXLiI"
      },
      "execution_count": null,
      "outputs": []
    },
    {
      "cell_type": "code",
      "source": [
        "# Your code goes here\n",
        "cols = [col for col in processed_train_data.columns if col != 'Response']\n",
        "\n",
        "X_train      = processed_train_data[cols].values\n",
        "X_validation = processed_val_data[cols].values\n",
        "X_noisy      = processed_noisy_train[cols].values\n",
        "\n",
        "#target vectors\n",
        "Y_train      = processed_train_data['Response'].values\n",
        "Y_validation = processed_val_data['Response'].values\n",
        "Y_noisy      = processed_noisy_train['Response'].values\n",
        "\n",
        "w,losses=logistic_regression_with_l2(X_train,Y_train,1e-3,1e-3,5000,1e-7)     # Training logistic regression model\n",
        "\n",
        "print(\"Trained Weights:\", w)\n",
        "\n",
        "plt.plot(losses)\n",
        "plt.title(\"Mean Squared Error\")\n",
        "plt.xlabel(\"Iteration (Epoch)\")\n",
        "plt.ylabel(\"Mean Squared Error\")\n",
        "plt.show()"
      ],
      "metadata": {
        "id": "t3PH0wZcNXxC",
        "colab": {
          "base_uri": "https://localhost:8080/",
          "height": 1000
        },
        "outputId": "1c3dfa6c-3008-48a3-847b-7be72b95552e"
      },
      "execution_count": null,
      "outputs": [
        {
          "output_type": "stream",
          "name": "stderr",
          "text": [
            "100%|██████████| 5000/5000 [00:19<00:00, 258.54it/s]\n"
          ]
        },
        {
          "output_type": "stream",
          "name": "stdout",
          "text": [
            "Reached the maximum number of iterations.\n",
            "Trained Weights: [-8.30366146e-02  6.14677714e-03  1.05650996e-01 -8.04697082e-02\n",
            " -4.95747525e-01  4.46697510e-01  5.29119229e-02 -3.28022689e-02\n",
            " -3.05171451e-03 -8.05978358e-04  3.19523963e-04  7.71845696e-03\n",
            "  2.04741250e-03  1.10839427e-03 -8.12602511e-03 -1.63824343e-03\n",
            " -2.19173283e-02 -4.77126141e-03 -3.75338324e-03 -5.40550785e-03\n",
            " -8.88889148e-04 -5.77348769e-04  1.26330701e-03 -1.58486599e-02\n",
            " -1.39036318e-03 -4.51246674e-03  8.24910906e-04  3.36352591e-03\n",
            " -1.93530132e-03 -6.07622944e-03 -3.48659726e-03  2.15173014e-03\n",
            "  2.33269495e-03 -5.24576835e-03 -1.43534886e-03 -2.75419057e-03\n",
            "  8.90155512e-02 -5.93869944e-03 -1.40771595e-02 -5.96887984e-04\n",
            " -3.57424133e-03 -9.99084623e-03  3.16566308e-03  3.14571466e-03\n",
            " -8.93238515e-03 -8.49897359e-03  4.41693546e-03  4.30781013e-03\n",
            " -2.82058165e-04 -1.27427047e-03  3.64076813e-04  2.22016927e-04\n",
            " -1.07012717e-03 -4.33552252e-03 -1.75475617e-02 -6.59602227e-03\n",
            " -7.77203901e-03 -1.74680711e-03 -2.29996533e-02  7.33931381e-04\n",
            " -6.84377179e-04  1.03166341e-01 -2.37982306e-01  5.17793830e-02\n",
            " -9.85596266e-04  0.00000000e+00  2.32896854e-03  2.44173392e-03\n",
            " -2.52344959e-03 -2.61958501e-03 -1.73683018e-04 -1.43032767e-04\n",
            " -5.80892057e-03  2.08275048e-04 -1.51228396e-03  6.85471810e-04\n",
            " -2.40956528e-03 -3.79102163e-03  3.39811229e-04 -1.16668626e-03\n",
            "  2.35744666e-04  0.00000000e+00 -5.08163218e-04 -1.39289974e-03\n",
            " -3.37556764e-04  1.03721446e-03  3.14840988e-03  9.02225319e-02\n",
            "  0.00000000e+00  0.00000000e+00 -1.55148509e-03 -1.24837448e-03\n",
            "  2.74633959e-03  0.00000000e+00 -3.64477039e-05  0.00000000e+00\n",
            " -2.19255204e-04  0.00000000e+00  0.00000000e+00  3.39659421e-04\n",
            " -1.56455861e-04  0.00000000e+00  2.00230509e-04  0.00000000e+00\n",
            " -3.76963295e-04  3.54096460e-04 -4.70912878e-04  0.00000000e+00\n",
            "  0.00000000e+00  0.00000000e+00  2.02281993e-04  0.00000000e+00\n",
            " -2.61241342e-05 -6.23388123e-04  3.36034647e-04  0.00000000e+00\n",
            "  0.00000000e+00  3.31019021e-04  1.28044136e-03 -2.56521272e-03\n",
            "  0.00000000e+00 -8.67275105e-04 -4.78082456e-04 -4.70028134e-04\n",
            " -3.80430684e-04  0.00000000e+00 -7.68142714e-04  0.00000000e+00\n",
            " -4.76825125e-04 -3.70469646e-04  0.00000000e+00  0.00000000e+00\n",
            "  3.78420487e-04  0.00000000e+00  0.00000000e+00  0.00000000e+00\n",
            "  0.00000000e+00  2.49369813e-04  0.00000000e+00  0.00000000e+00\n",
            "  3.57326574e-04  0.00000000e+00  0.00000000e+00  0.00000000e+00\n",
            "  0.00000000e+00  0.00000000e+00  0.00000000e+00  3.65015291e-04\n",
            "  0.00000000e+00 -7.00255381e-04 -3.74061012e-04 -6.46705734e-04\n",
            "  0.00000000e+00  3.58529339e-04 -4.85702346e-04  0.00000000e+00\n",
            "  0.00000000e+00 -1.08858927e-03  0.00000000e+00  0.00000000e+00\n",
            " -1.47523128e-03  1.81425315e-05 -3.05361464e-03  0.00000000e+00\n",
            "  8.84287596e-02 -1.51788436e-03  0.00000000e+00  2.62250517e-04\n",
            " -5.06114102e-04  0.00000000e+00  3.81601203e-04 -4.87865438e-04\n",
            "  0.00000000e+00  0.00000000e+00  0.00000000e+00 -8.44038517e-04\n",
            " -2.62806626e-04 -4.70026171e-04  0.00000000e+00 -1.30192406e-03\n",
            " -5.06462109e-04  5.99985766e-04 -4.14816984e-04 -6.09477647e-04\n",
            " -4.74843901e-04  6.80970497e-04 -7.49158749e-03 -2.41826085e-01\n",
            " -8.31144899e-04  1.61932691e-02  4.01559564e-03  2.14323716e-02\n",
            "  2.53413454e-02  3.44316016e-04  0.00000000e+00 -5.91038844e-02\n",
            "  1.00493232e-02]\n"
          ]
        },
        {
          "output_type": "display_data",
          "data": {
            "text/plain": [
              "<Figure size 640x480 with 1 Axes>"
            ],
            "image/png": "[encoded data removed]"
          },
          "metadata": {}
        }
      ]
    },
    {
      "cell_type": "markdown",
      "source": [
        "##Experiment with different regularization parameters\n",
        "For this part, you will need to run your L2 logistic regression algorithm on the training data with different regularization parameters $\\lambda\\in \\{10^i: i\\in[-5, 0]\\}$. This is the minimim range of values required. Feel free to experiment with more extreme or in-between values to help you answer the questions.\n",
        "\n",
        "**Learning Rate Tuning Guidelines:**\n",
        "For different values of $\\lambda$, you'll need varying learning rates. I recommend starting with $\\gamma = 1$ for very small $\\lambda$s like $10^{-5}, 10^{-4}$. For larger $\\lambda$ values like $10^{-3}$, consider a smaller learning rate like $\\gamma = 0.1$. You will need to further reduce the learning rate as $\\lambda$ gets bigger.\n",
        "\n",
        "For each $\\lambda$ value, you are required to run the logistic regression to convergence, record the resulting model (the weight vector), evaluate it on the training and validation data and record the accuracies."
      ],
      "metadata": {
        "id": "DIn4qhdOftK9"
      }
    },
    {
      "cell_type": "code",
      "source": [
        "l_curve = {}                                           # Store MSE loss for different learning rate\n",
        "weights   = {}                                         # Store weight learned for different learning rate\n",
        "\n",
        "for lambda_reg in [10**i for i in range(-5, 1)]:\n",
        "  # set different learning rate for different range of lambda value\n",
        "  if lambda_reg <= 1e-4:\n",
        "    learning_rate = 1.0\n",
        "  elif lambda_reg <= 1e-3:\n",
        "    learning_rate = 0.11\n",
        "  else:\n",
        "    learning_rate = 0.01\n",
        "\n",
        "  w,l=logistic_regression_with_l2(X_train,Y_train,lambda_reg,learning_rate,50000,1e-7)\n",
        "  l_curve[str(lambda_reg)] = l                          # store sequence of T MSE in dictionary\n",
        "  weights[str(lambda_reg)]   = w                        # store trained weight in dictionary"
      ],
      "metadata": {
        "colab": {
          "base_uri": "https://localhost:8080/"
        },
        "id": "UsM0Y0eNQSg9",
        "outputId": "a8046329-3835-4e1b-8757-d644911aecc5"
      },
      "execution_count": null,
      "outputs": [
        {
          "output_type": "stream",
          "name": "stderr",
          "text": [
            " 18%|█▊        | 8877/50000 [00:33<02:35, 263.96it/s]\n"
          ]
        },
        {
          "output_type": "stream",
          "name": "stdout",
          "text": [
            "Converged after 8877 iterations.\n"
          ]
        },
        {
          "output_type": "stream",
          "name": "stderr",
          "text": [
            " 18%|█▊        | 8878/50000 [00:31<02:26, 280.84it/s]\n"
          ]
        },
        {
          "output_type": "stream",
          "name": "stdout",
          "text": [
            "Converged after 8878 iterations.\n"
          ]
        },
        {
          "output_type": "stream",
          "name": "stderr",
          "text": [
            " 36%|███▋      | 18156/50000 [01:05<01:54, 279.15it/s]\n"
          ]
        },
        {
          "output_type": "stream",
          "name": "stdout",
          "text": [
            "Converged after 18156 iterations.\n"
          ]
        },
        {
          "output_type": "stream",
          "name": "stderr",
          "text": [
            " 78%|███████▊  | 39147/50000 [02:32<00:42, 256.41it/s]\n"
          ]
        },
        {
          "output_type": "stream",
          "name": "stdout",
          "text": [
            "Converged after 39147 iterations.\n"
          ]
        },
        {
          "output_type": "stream",
          "name": "stderr",
          "text": [
            " 79%|███████▉  | 39450/50000 [02:24<00:38, 272.10it/s]\n"
          ]
        },
        {
          "output_type": "stream",
          "name": "stdout",
          "text": [
            "Converged after 39450 iterations.\n"
          ]
        },
        {
          "output_type": "stream",
          "name": "stderr",
          "text": [
            " 84%|████████▍ | 42012/50000 [02:30<00:28, 278.61it/s]"
          ]
        },
        {
          "output_type": "stream",
          "name": "stdout",
          "text": [
            "Converged after 42012 iterations.\n"
          ]
        },
        {
          "output_type": "stream",
          "name": "stderr",
          "text": [
            "\n"
          ]
        }
      ]
    },
    {
      "cell_type": "code",
      "source": [
        "for i in l_curve:\n",
        "  y = l_curve[i]\n",
        "  x = range(len(y))\n",
        "  plt.plot(x, y, label=f'{i}')\n",
        "  plt.title(f'L2 loss')\n",
        "plt.legend(loc=\"upper right\")\n",
        "plt.show()"
      ],
      "metadata": {
        "colab": {
          "base_uri": "https://localhost:8080/",
          "height": 452
        },
        "id": "GqHnWZ7UQjS-",
        "outputId": "15aac18f-7ce8-4ca9-a0fd-e60da9234850"
      },
      "execution_count": null,
      "outputs": [
        {
          "output_type": "display_data",
          "data": {
            "text/plain": [
              "<Figure size 640x480 with 1 Axes>"
            ],
            "image/png": "[encoded data removed]"
          },
          "metadata": {}
        }
      ]
    },
    {
      "cell_type": "markdown",
      "source": [
        "## Calculate training and validation accuracy"
      ],
      "metadata": {
        "id": "Z0D4v52c6sui"
      }
    },
    {
      "cell_type": "code",
      "source": [
        "train_accuracies = []\n",
        "val_accuracies = []\n",
        "\n",
        "lambda_values = [10**i for i in range(-5, 1)]\n",
        "for lmd in lambda_values:\n",
        "    w = weights[str(lmd)]\n",
        "\n",
        "    # Evaluate the model on the training data\n",
        "    y_train_pred = predict(X_train, w)\n",
        "    train_accuracy = accuracy_score(Y_train, y_train_pred)\n",
        "    train_accuracies.append(train_accuracy)\n",
        "\n",
        "    # Evaluate the model on the validation data\n",
        "    y_val_pred = predict(X_validation, w)\n",
        "    val_accuracy = accuracy_score(Y_validation, y_val_pred)\n",
        "    val_accuracies.append(val_accuracy)\n",
        "    print(f\"Lambda: {lmd}, Train Accuracy: {train_accuracy}, Validation Accuracy: {val_accuracy}\")"
      ],
      "metadata": {
        "id": "__7TAkQB6oTs",
        "colab": {
          "base_uri": "https://localhost:8080/"
        },
        "outputId": "fc525206-43e7-4947-9df8-c9b9586b95ae"
      },
      "execution_count": null,
      "outputs": [
        {
          "output_type": "stream",
          "name": "stdout",
          "text": [
            "Lambda: 1e-05, Train Accuracy: 0.8021666666666667, Validation Accuracy: 0.7912\n",
            "Lambda: 0.0001, Train Accuracy: 0.8021666666666667, Validation Accuracy: 0.7912\n",
            "Lambda: 0.001, Train Accuracy: 0.8008333333333333, Validation Accuracy: 0.7929\n",
            "Lambda: 0.01, Train Accuracy: 0.7968333333333333, Validation Accuracy: 0.7932\n",
            "Lambda: 0.1, Train Accuracy: 0.7968333333333333, Validation Accuracy: 0.7932\n",
            "Lambda: 1, Train Accuracy: 0.7968333333333333, Validation Accuracy: 0.7938\n"
          ]
        }
      ]
    },
    {
      "cell_type": "markdown",
      "source": [
        "### 1.1 Impact on training and validation accuracy\n",
        "\n",
        "Plot the training accuracy and validation accuracy of the learned L2 regularized logistic regression model as a function of $\\lambda$.\n",
        "When plotting, use a logarithmic scale for the x-axis to represent $\\lambda$. In other words, each tick mark on the x-axis should correspond to a unique integar $i$ and be labeled as $10^{-i}$. This will allow us to better visualize how the model performance changes across different orders of magnitude for $\\lambda$.  \n",
        "\n",
        "Please plot the two curves in the same figure using different colors for easy comparison. Provide clear legend to indicate which curve is which."
      ],
      "metadata": {
        "id": "IHbzTPFkNNp9"
      }
    },
    {
      "cell_type": "code",
      "source": [
        "# Plot the training and validation accuracies\n",
        "plt.figure(figsize=(10, 6))\n",
        "plt.semilogx(lambda_values, train_accuracies, marker='o', label='Training Accuracy')\n",
        "plt.semilogx(lambda_values, val_accuracies, marker='o', label='Validation Accuracy')\n",
        "plt.xlabel('λ (log scale)')\n",
        "plt.ylabel('Accuracy')\n",
        "plt.title('Training and Validation Accuracy vs. λ')\n",
        "plt.legend()\n",
        "plt.grid(True)\n",
        "plt.show()"
      ],
      "metadata": {
        "id": "oW7FWwnKQ_Sh",
        "colab": {
          "base_uri": "https://localhost:8080/",
          "height": 569
        },
        "outputId": "4195ea90-3849-4bcc-889e-5b5b378a6c29"
      },
      "execution_count": null,
      "outputs": [
        {
          "output_type": "display_data",
          "data": {
            "text/plain": [
              "<Figure size 1000x600 with 1 Axes>"
            ],
            "image/png": "[encoded data removed]"
          },
          "metadata": {}
        }
      ]
    },
    {
      "cell_type": "markdown",
      "source": [
        "**Question**\n",
        "\n",
        "(a) Which $\\lambda$ value leads to the best training and validation accuracy respectively? Which one should you use if you are to pick a model for deployment?\n",
        "\n",
        "(b) What trend do you observe for the training and validation accuracy respectively as we increae $\\lambda$? Provide your explanation for this observed trend.\n"
      ],
      "metadata": {
        "id": "0l6zfscrfBgs"
      }
    },
    {
      "cell_type": "markdown",
      "source": [
        "**Your answer goes here** <br>\n",
        "a. The $\\lambda$ values that lead to the best training accuracy are $10^{-5}$ and $10^{-4}$, while the best validation accuracy is seen at $10^{0}$. I would choose λ equal to $10^{0}$ during deployment since it has the greatest accuracy on unseen data which is more important in production.<br>\n",
        "\n",
        "b.  As we increase the value of $\\lambda$, training accuracy gradually decreases because a higher value of $\\lambda$ prevents overfitting and pushes weights to zero. But the validation accuracy increases as lambda increases for the same reason. Since the moddel is not overfit it can get more out of continued training."
      ],
      "metadata": {
        "id": "otogNnOaTNCp"
      }
    },
    {
      "cell_type": "markdown",
      "source": [
        "###1.2 Impact on feature weights\n",
        "For each value of $\\lambda$, present the top five features based on the magnitude of their weights $|w_j|$, excluding the bias term $w_0$. Organize your results into a table. Each column should be dedicated to a specific $\\lambda$ value, and rows should indicate the rank of the feature. Ensure that each cell in the table contains both the feature name and its corresponding weight $w_j$.\n",
        "\n",
        "For example:\n",
        "\n",
        "| Rank  | $\\lambda = 10^{-4}$      | $\\lambda = 10^{-3}$      | $\\lambda = 10^{-2}$      |\n",
        "|-------|--------------------------|--------------------------|--------------------------|\n",
        "| 1     | feature_a, 0.8           | feature_b, 0.7           | feature_c, 0.6           |\n",
        "| 2     | feature_d, 0.7           | feature_e, 0.6           | feature_f, 0.5           |\n",
        "| 3     | feature_g, 0.6           | feature_h, 0.5           | feature_i, 0.4           |\n",
        "| 4     | feature_j, 0.5           | feature_k, 0.4           | feature_l, 0.3           |\n",
        "| 5     | feature_m, 0.4           | feature_n, 0.3           | feature_o, 0.2           |\n",
        "\n",
        "The easiest way is to create a dataframe for this table and print the dataframe."
      ],
      "metadata": {
        "id": "ZrZaz5OUNpyF"
      }
    },
    {
      "cell_type": "code",
      "source": [
        "#Your code goes here\n",
        "top_features = {}\n",
        "\n",
        "for lambda_reg in lambda_values:\n",
        "    # Get the weights for the current λ sans bias\n",
        "    w = weights[str(lambda_reg)][1:]                                 # select respective weight for different lambda value\n",
        "    top_feature_indices = np.argsort(np.abs(w))[::-1][:5]            # selecting the top-5 highest absolute weight\n",
        "\n",
        "    top_features[lambda_reg] = [(f\"feature_{j}\", w[j]) for j in top_feature_indices]\n",
        "\n",
        "#DataFrame to display the results\n",
        "df = pd.DataFrame(top_features)\n",
        "df.index = [\"1\", \"2\", \"3\", \"4\", \"5\"]\n",
        "df.columns.name = 'Rank'\n",
        "df.index.name = 'λ'\n",
        "\n",
        "#looks awful but easier to parse\n",
        "#print(df)\n",
        "display(df)"
      ],
      "metadata": {
        "id": "QhpNixB_Smdl",
        "colab": {
          "base_uri": "https://localhost:8080/",
          "height": 238
        },
        "outputId": "2bf71dc3-c604-40c6-9da2-88d01d4b3952"
      },
      "execution_count": null,
      "outputs": [
        {
          "output_type": "display_data",
          "data": {
            "text/plain": [
              "Rank                            0.00001                             0.00010  \\\n",
              "λ                                                                             \n",
              "1       (feature_3, -3.285838299942143)    (feature_3, -3.2858173068703724)   \n",
              "2       (feature_4, 2.2933042074441254)      (feature_4, 2.293302759547191)   \n",
              "3     (feature_194, -1.894181354871499)  (feature_194, -1.8941632902171432)   \n",
              "4     (feature_76, -1.8763724437280076)   (feature_76, -1.8763463819387418)   \n",
              "5      (feature_41, 1.3818629010692636)    (feature_41, 1.3818279281194685)   \n",
              "\n",
              "Rank                             0.00100                            0.01000  \\\n",
              "λ                                                                             \n",
              "1       (feature_3, -3.2792575947373375)   (feature_3, -2.8936564233039674)   \n",
              "2        (feature_4, 2.2528637878297832)     (feature_4, 2.256420223942928)   \n",
              "3     (feature_194, -1.9024743357792342)  (feature_194, -1.350569262277087)   \n",
              "4     (feature_186, -0.9127749645197305)  (feature_186, -0.779262277988191)   \n",
              "5       (feature_10, 0.8871613775113081)  (feature_61, -0.6261304828939994)   \n",
              "\n",
              "Rank                             0.10000                             1.00000  \n",
              "λ                                                                             \n",
              "1       (feature_3, -2.8903348342406736)    (feature_3, -2.8491602716211952)  \n",
              "2         (feature_4, 2.254146326309521)     (feature_4, 2.2299817185169717)  \n",
              "3     (feature_194, -1.3516265038782085)   (feature_194, -1.351853012569335)  \n",
              "4     (feature_186, -0.7790463317969104)  (feature_186, -0.7754680865146281)  \n",
              "5      (feature_61, -0.6247868925687845)    (feature_61, -0.612428542366623)  "
            ],
            "text/html": [
              "\n",
              "  <div id=\"df-ddddffbb-be37-4486-a289-805fb592f01d\" class=\"colab-df-container\">\n",
              "    <div>\n",
              "<style scoped>\n",
              "    .dataframe tbody tr th:only-of-type {\n",
              "        vertical-align: middle;\n",
              "    }\n",
              "\n",
              "    .dataframe tbody tr th {\n",
              "        vertical-align: top;\n",
              "    }\n",
              "\n",
              "    .dataframe thead th {\n",
              "        text-align: right;\n",
              "    }\n",
              "</style>\n",
              "<table border=\"1\" class=\"dataframe\">\n",
              "  <thead>\n",
              "    <tr style=\"text-align: right;\">\n",
              "      <th>Rank</th>\n",
              "      <th>0.00001</th>\n",
              "      <th>0.00010</th>\n",
              "      <th>0.00100</th>\n",
              "      <th>0.01000</th>\n",
              "      <th>0.10000</th>\n",
              "      <th>1.00000</th>\n",
              "    </tr>\n",
              "    <tr>\n",
              "      <th>λ</th>\n",
              "      <th></th>\n",
              "      <th></th>\n",
              "      <th></th>\n",
              "      <th></th>\n",
              "      <th></th>\n",
              "      <th></th>\n",
              "    </tr>\n",
              "  </thead>\n",
              "  <tbody>\n",
              "    <tr>\n",
              "      <th>1</th>\n",
              "      <td>(feature_3, -3.285838299942143)</td>\n",
              "      <td>(feature_3, -3.2858173068703724)</td>\n",
              "      <td>(feature_3, -3.2792575947373375)</td>\n",
              "      <td>(feature_3, -2.8936564233039674)</td>\n",
              "      <td>(feature_3, -2.8903348342406736)</td>\n",
              "      <td>(feature_3, -2.8491602716211952)</td>\n",
              "    </tr>\n",
              "    <tr>\n",
              "      <th>2</th>\n",
              "      <td>(feature_4, 2.2933042074441254)</td>\n",
              "      <td>(feature_4, 2.293302759547191)</td>\n",
              "      <td>(feature_4, 2.2528637878297832)</td>\n",
              "      <td>(feature_4, 2.256420223942928)</td>\n",
              "      <td>(feature_4, 2.254146326309521)</td>\n",
              "      <td>(feature_4, 2.2299817185169717)</td>\n",
              "    </tr>\n",
              "    <tr>\n",
              "      <th>3</th>\n",
              "      <td>(feature_194, -1.894181354871499)</td>\n",
              "      <td>(feature_194, -1.8941632902171432)</td>\n",
              "      <td>(feature_194, -1.9024743357792342)</td>\n",
              "      <td>(feature_194, -1.350569262277087)</td>\n",
              "      <td>(feature_194, -1.3516265038782085)</td>\n",
              "      <td>(feature_194, -1.351853012569335)</td>\n",
              "    </tr>\n",
              "    <tr>\n",
              "      <th>4</th>\n",
              "      <td>(feature_76, -1.8763724437280076)</td>\n",
              "      <td>(feature_76, -1.8763463819387418)</td>\n",
              "      <td>(feature_186, -0.9127749645197305)</td>\n",
              "      <td>(feature_186, -0.779262277988191)</td>\n",
              "      <td>(feature_186, -0.7790463317969104)</td>\n",
              "      <td>(feature_186, -0.7754680865146281)</td>\n",
              "    </tr>\n",
              "    <tr>\n",
              "      <th>5</th>\n",
              "      <td>(feature_41, 1.3818629010692636)</td>\n",
              "      <td>(feature_41, 1.3818279281194685)</td>\n",
              "      <td>(feature_10, 0.8871613775113081)</td>\n",
              "      <td>(feature_61, -0.6261304828939994)</td>\n",
              "      <td>(feature_61, -0.6247868925687845)</td>\n",
              "      <td>(feature_61, -0.612428542366623)</td>\n",
              "    </tr>\n",
              "  </tbody>\n",
              "</table>\n",
              "</div>\n",
              "    <div class=\"colab-df-buttons\">\n",
              "\n",
              "  <div class=\"colab-df-container\">\n",
              "    <button class=\"colab-df-convert\" onclick=\"convertToInteractive('df-ddddffbb-be37-4486-a289-805fb592f01d')\"\n",
              "            title=\"Convert this dataframe to an interactive table.\"\n",
              "            style=\"display:none;\">\n",
              "\n",
              "  <svg xmlns=\"http://www.w3.org/2000/svg\" height=\"24px\" viewBox=\"0 -960 960 960\">\n",
              "    <path d=\"M120-120v-720h720v720H120Zm60-500h600v-160H180v160Zm220 220h160v-160H400v160Zm0 220h160v-160H400v160ZM180-400h160v-160H180v160Zm440 0h160v-160H620v160ZM180-180h160v-160H180v160Zm440 0h160v-160H620v160Z\"/>\n",
              "  </svg>\n",
              "    </button>\n",
              "\n",
              "  <style>\n",
              "    .colab-df-container {\n",
              "      display:flex;\n",
              "      gap: 12px;\n",
              "    }\n",
              "\n",
              "    .colab-df-convert {\n",
              "      background-color: #E8F0FE;\n",
              "      border: none;\n",
              "      border-radius: 50%;\n",
              "      cursor: pointer;\n",
              "      display: none;\n",
              "      fill: #1967D2;\n",
              "      height: 32px;\n",
              "      padding: 0 0 0 0;\n",
              "      width: 32px;\n",
              "    }\n",
              "\n",
              "    .colab-df-convert:hover {\n",
              "      background-color: #E2EBFA;\n",
              "      box-shadow: 0px 1px 2px rgba(60, 64, 67, 0.3), 0px 1px 3px 1px rgba(60, 64, 67, 0.15);\n",
              "      fill: #174EA6;\n",
              "    }\n",
              "\n",
              "    .colab-df-buttons div {\n",
              "      margin-bottom: 4px;\n",
              "    }\n",
              "\n",
              "    [theme=dark] .colab-df-convert {\n",
              "      background-color: #3B4455;\n",
              "      fill: #D2E3FC;\n",
              "    }\n",
              "\n",
              "    [theme=dark] .colab-df-convert:hover {\n",
              "      background-color: #434B5C;\n",
              "      box-shadow: 0px 1px 3px 1px rgba(0, 0, 0, 0.15);\n",
              "      filter: drop-shadow(0px 1px 2px rgba(0, 0, 0, 0.3));\n",
              "      fill: #FFFFFF;\n",
              "    }\n",
              "  </style>\n",
              "\n",
              "    <script>\n",
              "      const buttonEl =\n",
              "        document.querySelector('#df-ddddffbb-be37-4486-a289-805fb592f01d button.colab-df-convert');\n",
              "      buttonEl.style.display =\n",
              "        google.colab.kernel.accessAllowed ? 'block' : 'none';\n",
              "\n",
              "      async function convertToInteractive(key) {\n",
              "        const element = document.querySelector('#df-ddddffbb-be37-4486-a289-805fb592f01d');\n",
              "        const dataTable =\n",
              "          await google.colab.kernel.invokeFunction('convertToInteractive',\n",
              "                                                    [key], {});\n",
              "        if (!dataTable) return;\n",
              "\n",
              "        const docLinkHtml = 'Like what you see? Visit the ' +\n",
              "          '<a target=\"_blank\" href=https://colab.research.google.com/notebooks/data_table.ipynb>data table notebook</a>'\n",
              "          + ' to learn more about interactive tables.';\n",
              "        element.innerHTML = '';\n",
              "        dataTable['output_type'] = 'display_data';\n",
              "        await google.colab.output.renderOutput(dataTable, element);\n",
              "        const docLink = document.createElement('div');\n",
              "        docLink.innerHTML = docLinkHtml;\n",
              "        element.appendChild(docLink);\n",
              "      }\n",
              "    </script>\n",
              "  </div>\n",
              "\n",
              "\n",
              "<div id=\"df-e49c0683-4676-45e1-8b1f-6d9e553931ab\">\n",
              "  <button class=\"colab-df-quickchart\" onclick=\"quickchart('df-e49c0683-4676-45e1-8b1f-6d9e553931ab')\"\n",
              "            title=\"Suggest charts.\"\n",
              "            style=\"display:none;\">\n",
              "\n",
              "<svg xmlns=\"http://www.w3.org/2000/svg\" height=\"24px\"viewBox=\"0 0 24 24\"\n",
              "     width=\"24px\">\n",
              "    <g>\n",
              "        <path d=\"M19 3H5c-1.1 0-2 .9-2 2v14c0 1.1.9 2 2 2h14c1.1 0 2-.9 2-2V5c0-1.1-.9-2-2-2zM9 17H7v-7h2v7zm4 0h-2V7h2v10zm4 0h-2v-4h2v4z\"/>\n",
              "    </g>\n",
              "</svg>\n",
              "  </button>\n",
              "\n",
              "<style>\n",
              "  .colab-df-quickchart {\n",
              "      --bg-color: #E8F0FE;\n",
              "      --fill-color: #1967D2;\n",
              "      --hover-bg-color: #E2EBFA;\n",
              "      --hover-fill-color: #174EA6;\n",
              "      --disabled-fill-color: #AAA;\n",
              "      --disabled-bg-color: #DDD;\n",
              "  }\n",
              "\n",
              "  [theme=dark] .colab-df-quickchart {\n",
              "      --bg-color: #3B4455;\n",
              "      --fill-color: #D2E3FC;\n",
              "      --hover-bg-color: #434B5C;\n",
              "      --hover-fill-color: #FFFFFF;\n",
              "      --disabled-bg-color: #3B4455;\n",
              "      --disabled-fill-color: #666;\n",
              "  }\n",
              "\n",
              "  .colab-df-quickchart {\n",
              "    background-color: var(--bg-color);\n",
              "    border: none;\n",
              "    border-radius: 50%;\n",
              "    cursor: pointer;\n",
              "    display: none;\n",
              "    fill: var(--fill-color);\n",
              "    height: 32px;\n",
              "    padding: 0;\n",
              "    width: 32px;\n",
              "  }\n",
              "\n",
              "  .colab-df-quickchart:hover {\n",
              "    background-color: var(--hover-bg-color);\n",
              "    box-shadow: 0 1px 2px rgba(60, 64, 67, 0.3), 0 1px 3px 1px rgba(60, 64, 67, 0.15);\n",
              "    fill: var(--button-hover-fill-color);\n",
              "  }\n",
              "\n",
              "  .colab-df-quickchart-complete:disabled,\n",
              "  .colab-df-quickchart-complete:disabled:hover {\n",
              "    background-color: var(--disabled-bg-color);\n",
              "    fill: var(--disabled-fill-color);\n",
              "    box-shadow: none;\n",
              "  }\n",
              "\n",
              "  .colab-df-spinner {\n",
              "    border: 2px solid var(--fill-color);\n",
              "    border-color: transparent;\n",
              "    border-bottom-color: var(--fill-color);\n",
              "    animation:\n",
              "      spin 1s steps(1) infinite;\n",
              "  }\n",
              "\n",
              "  @keyframes spin {\n",
              "    0% {\n",
              "      border-color: transparent;\n",
              "      border-bottom-color: var(--fill-color);\n",
              "      border-left-color: var(--fill-color);\n",
              "    }\n",
              "    20% {\n",
              "      border-color: transparent;\n",
              "      border-left-color: var(--fill-color);\n",
              "      border-top-color: var(--fill-color);\n",
              "    }\n",
              "    30% {\n",
              "      border-color: transparent;\n",
              "      border-left-color: var(--fill-color);\n",
              "      border-top-color: var(--fill-color);\n",
              "      border-right-color: var(--fill-color);\n",
              "    }\n",
              "    40% {\n",
              "      border-color: transparent;\n",
              "      border-right-color: var(--fill-color);\n",
              "      border-top-color: var(--fill-color);\n",
              "    }\n",
              "    60% {\n",
              "      border-color: transparent;\n",
              "      border-right-color: var(--fill-color);\n",
              "    }\n",
              "    80% {\n",
              "      border-color: transparent;\n",
              "      border-right-color: var(--fill-color);\n",
              "      border-bottom-color: var(--fill-color);\n",
              "    }\n",
              "    90% {\n",
              "      border-color: transparent;\n",
              "      border-bottom-color: var(--fill-color);\n",
              "    }\n",
              "  }\n",
              "</style>\n",
              "\n",
              "  <script>\n",
              "    async function quickchart(key) {\n",
              "      const quickchartButtonEl =\n",
              "        document.querySelector('#' + key + ' button');\n",
              "      quickchartButtonEl.disabled = true;  // To prevent multiple clicks.\n",
              "      quickchartButtonEl.classList.add('colab-df-spinner');\n",
              "      try {\n",
              "        const charts = await google.colab.kernel.invokeFunction(\n",
              "            'suggestCharts', [key], {});\n",
              "      } catch (error) {\n",
              "        console.error('Error during call to suggestCharts:', error);\n",
              "      }\n",
              "      quickchartButtonEl.classList.remove('colab-df-spinner');\n",
              "      quickchartButtonEl.classList.add('colab-df-quickchart-complete');\n",
              "    }\n",
              "    (() => {\n",
              "      let quickchartButtonEl =\n",
              "        document.querySelector('#df-e49c0683-4676-45e1-8b1f-6d9e553931ab button');\n",
              "      quickchartButtonEl.style.display =\n",
              "        google.colab.kernel.accessAllowed ? 'block' : 'none';\n",
              "    })();\n",
              "  </script>\n",
              "</div>\n",
              "    </div>\n",
              "  </div>\n"
            ]
          },
          "metadata": {}
        }
      ]
    },
    {
      "cell_type": "markdown",
      "source": [
        "**Question**\n",
        "\n",
        "1. Do you observe any difference is the top features with different $\\lambda$ values?\n",
        "2. Do you observe any difference in the weights of the top features for different $\\lambda$ values?\n",
        "3. Please provide your own explanation/interpretation of the observed differences."
      ],
      "metadata": {
        "id": "QMienw7hSpjn"
      }
    },
    {
      "cell_type": "markdown",
      "source": [
        "**Your answer goes here**<br>\n",
        "1. Yes, with higher regularization values feature \"186\", and \"61\"  become more prominent, removing features, \"41\", and \"76\" from the top 5 list.<br>\n",
        "\n",
        "2.  Yes, with higher regularization values there seems to be a general decrease in the largest weights. Feature 3 goes from having a weight of $-3.285$ to having a weight of $-2.849$. Other features see a simmilar decrease, and with higher regularizarion values, the top 5 goes from having all 5 weights with a magnitude greater than 1 to just 3.<br>\n",
        "\n",
        "3.  The observed differences in top features and their weights reflect the impact of L2 regularization on larger weights, pushing them to be smaller. The changes in top features suggest that regularization can shrink or amplify the impact of different features in the model.<br>"
      ],
      "metadata": {
        "id": "qloa-NvMTKVH"
      }
    },
    {
      "cell_type": "markdown",
      "source": [
        "###1.3 sparsity of weights\n",
        "\n",
        "For each different value of $\\lambda$, compute the sparsity of the learned classifier as the number of feature weights that approxmately equal zero ($\\leq 10^{-6}$) and report the sparsity number for each $\\lambda$ value."
      ],
      "metadata": {
        "id": "K_rCHiS4TVPt"
      }
    },
    {
      "cell_type": "code",
      "source": [
        "# Your code goes here\n",
        "for lambda_reg in lambda_values:\n",
        "    # Get the weights for the current λ\n",
        "    w = weights[str(lambda_reg)]\n",
        "\n",
        "    # Count the number of feature weights that are approximately equal to zero\n",
        "    num_zero_weights = np.sum(np.abs(w) <= 1e-6)\n",
        "    print(f\"λ = {lambda_reg}: Sparsity = {num_zero_weights}\")\n",
        "\n"
      ],
      "metadata": {
        "id": "rkMFgQ38T96l",
        "colab": {
          "base_uri": "https://localhost:8080/"
        },
        "outputId": "b5c8d074-ffa5-4fb9-9861-6b7dce76c4a5"
      },
      "execution_count": null,
      "outputs": [
        {
          "output_type": "stream",
          "name": "stdout",
          "text": [
            "λ = 1e-05: Sparsity = 47\n",
            "λ = 0.0001: Sparsity = 47\n",
            "λ = 0.001: Sparsity = 47\n",
            "λ = 0.01: Sparsity = 47\n",
            "λ = 0.1: Sparsity = 47\n",
            "λ = 1: Sparsity = 47\n"
          ]
        }
      ]
    },
    {
      "cell_type": "markdown",
      "source": [
        "# **Question**\n",
        "\n",
        "1. When we have very small $\\lambda$ values, does your learned model have zero weights for some features?  If so, why would it be that way?\n",
        "2. What trend do you observe for the sparsity of the model as we increase $\\lambda$? If we further increase $\\lambda$ to even larger values, what do you expect to happen to the sparsity value? Why?\n"
      ],
      "metadata": {
        "id": "1qgi8wxLsLue"
      }
    },
    {
      "cell_type": "markdown",
      "source": [
        "**Your answer goes here**\n",
        "1. Even with small $\\lambda$ values, the learned model has many weights that are close to zero. This just means that they only have a small correlation with the predictions of the training data. I suspect that these may be related to one-hot encoding.\n",
        "\n",
        "2. There seems to be no trend at $1e^{-6}$. All trained models have a sparsity of 47. Testing some other values I noticed that there is a difference at larger values, with $1e^{-4}$ showing a clear trend of models with higher regularization to be more sparse. I would expect this trend to continue with larger regularization values as there would be more of a push for smaller weights. Perhaps on datasets where such a large number of itterations is impractical a larger difference may be noticed."
      ],
      "metadata": {
        "id": "cUV1m5yeUJgw"
      }
    },
    {
      "cell_type": "markdown",
      "source": [
        "# Part 2. (40 pts) Logistic regression with L1 regularization.\n",
        "\n",
        "In this part, we will repeat the part 1 but with L1 regularization. Please refer to the algorithm 2 in the Assignment 2 Reference Information file for the details of the algorithm."
      ],
      "metadata": {
        "id": "3DXrFWL_up5F"
      }
    },
    {
      "cell_type": "markdown",
      "source": [
        "## Impelement Logistic regression with L1 regularization\n",
        "As a recommendation, your implemented function should consider the following inputs:\n",
        "1. The training data\n",
        "2. The regularization parameter $\\lambda$\n",
        "3. The learning rate\n",
        "4. Max iterations (recommend to start with 5000)\n",
        "5. Threshold for change in loss (this will be used for early stopping: if the change in loss is less than the threshold, it is considered to have converged. Please use a threshold of $10^{-7}$. )\n",
        "\n",
        "Your function should output the learned weight vector. But it is also a good idea to output the sequence of losses so that you can visualize the convergence process.\n",
        "You should also implement a divergence detection, if the loss starts to diverge, terminate and raise an alarm.\n"
      ],
      "metadata": {
        "id": "tjXJLpLNvLY1"
      }
    },
    {
      "cell_type": "code",
      "source": [
        "from tqdm import tqdm\n",
        "import numpy as np\n",
        "from sklearn.metrics import accuracy_score\n",
        "\n",
        "def sigmoid(z):\n",
        "    return 1 / (1 + np.exp(-z))\n",
        "\n",
        "def logistic_regression_with_l1(X, y, lambda_reg, learning_rate, max_iterations, threshold):\n",
        "    m, n = X.shape\n",
        "    w = np.zeros(n)\n",
        "    losses = []\n",
        "\n",
        "    for iteration in tqdm(range(max_iterations)):\n",
        "        z = np.dot(X, w)\n",
        "        y_pred = sigmoid(z)\n",
        "\n",
        "        # Gradient\n",
        "        gradient = (1 / m) * np.dot(X.T, y_pred - y)\n",
        "        gradient[1:] += (lambda_reg / m) * np.sign(w[1:])\n",
        "\n",
        "        w -= learning_rate * gradient\n",
        "\n",
        "        # Compute the loss\n",
        "        loss = (-1 / m) * (np.dot(y, np.log(y_pred)) + np.dot(1 - y, np.log(1 - y_pred))\n",
        "                          + lambda_reg * np.sum(np.abs(w[1:])))\n",
        "\n",
        "        losses.append(loss)\n",
        "\n",
        "        # Check for convergence\n",
        "        if iteration > 0 and abs(losses[-1] - losses[-2]) < threshold:\n",
        "            print(f\"Converged after {iteration} iterations.\")\n",
        "            return w, losses\n",
        "\n",
        "        # Check for divergence\n",
        "        if iteration > 0 and losses[-1] > losses[-2]:\n",
        "            print(f\"Diverged after {iteration} iterations.\")\n",
        "            raise Exception(\"Divergence detected!\")\n",
        "\n",
        "    print(\"Reached the maximum number of iterations.\")\n",
        "    return w, losses\n",
        "\n",
        "def predict(X, w):\n",
        "    z = np.dot(X, w)\n",
        "    y_pred = sigmoid(z)\n",
        "    predictions = (y_pred >= 0.5).astype(int)\n",
        "    return predictions\n"
      ],
      "metadata": {
        "id": "tZOt2YfzvY2V"
      },
      "execution_count": null,
      "outputs": []
    },
    {
      "cell_type": "code",
      "source": [
        "# Your code goes here\n",
        "cols = [col for col in processed_train_data.columns if col != 'Response']\n",
        "\n",
        "X_train      = processed_train_data[cols].values\n",
        "X_validation = processed_val_data[cols].values\n",
        "X_noisy      = processed_noisy_train[cols].values\n",
        "\n",
        "#target vectors\n",
        "Y_train      = processed_train_data['Response'].values\n",
        "Y_validation = processed_val_data['Response'].values\n",
        "Y_noisy      = processed_noisy_train['Response'].values\n",
        "\n",
        "w,losses     = logistic_regression_with_l1(X_train,Y_train,1e-3,1e-3, 5000, 1e-7)     # Training logistic regression model\n",
        "\n",
        "print(\"Trained Weights:\", w)\n",
        "\n",
        "plt.plot(losses)\n",
        "plt.title(\"Mean Squared Error\")\n",
        "plt.xlabel(\"Iteration (Epoch)\")\n",
        "plt.ylabel(\"Mean Squared Error\")\n",
        "plt.show()"
      ],
      "metadata": {
        "colab": {
          "base_uri": "https://localhost:8080/",
          "height": 1000
        },
        "id": "X-ZXNDbYH3RL",
        "outputId": "9f10b912-24a4-4ccf-caa4-a02268524aaa"
      },
      "execution_count": null,
      "outputs": [
        {
          "output_type": "stream",
          "name": "stderr",
          "text": [
            "100%|██████████| 5000/5000 [00:18<00:00, 272.13it/s]\n"
          ]
        },
        {
          "output_type": "stream",
          "name": "stdout",
          "text": [
            "Reached the maximum number of iterations.\n",
            "Trained Weights: [-8.30365738e-02  6.14614333e-03  1.05650918e-01 -8.04688696e-02\n",
            " -4.95747169e-01  4.46697184e-01  5.29115195e-02 -3.28017807e-02\n",
            " -3.05088463e-03 -8.05146829e-04  3.19199989e-04  7.71763499e-03\n",
            "  2.04658425e-03  1.10756201e-03 -8.12521033e-03 -1.63741359e-03\n",
            " -2.19165254e-02 -4.77043639e-03 -3.75256201e-03 -5.40469026e-03\n",
            " -8.88061707e-04 -5.76525057e-04  1.26247737e-03 -1.58478543e-02\n",
            " -1.38953628e-03 -4.51163960e-03  8.24088019e-04  3.36269735e-03\n",
            " -1.93447060e-03 -6.07540916e-03 -3.48576862e-03  2.15090151e-03\n",
            "  2.33187010e-03 -5.24494363e-03 -1.43451871e-03 -2.75336518e-03\n",
            "  8.90150728e-02 -5.93788462e-03 -1.40763591e-02 -5.96058164e-04\n",
            " -3.57341476e-03 -9.99002653e-03  3.16483097e-03  3.14489106e-03\n",
            " -8.93157224e-03 -8.49815581e-03  4.41610930e-03  4.30698749e-03\n",
            " -2.81226768e-04 -1.27345992e-03  3.63243924e-04  2.21187262e-04\n",
            " -1.06929613e-03 -4.33470321e-03 -1.75467632e-02 -6.59520306e-03\n",
            " -7.77121475e-03 -1.74597801e-03 -2.29988483e-02  7.33099013e-04\n",
            " -6.83544415e-04  1.03165900e-01 -2.37981958e-01  5.17786508e-02\n",
            " -9.84766483e-04  0.00000000e+00  2.32813894e-03  2.44090360e-03\n",
            " -2.52261935e-03 -2.61875514e-03 -1.72850866e-04 -1.42200046e-04\n",
            " -5.80809328e-03  2.07443348e-04 -1.51162186e-03  6.84639487e-04\n",
            " -2.40873460e-03 -3.79019084e-03  3.38978386e-04 -1.16585403e-03\n",
            "  2.34912002e-04  0.00000000e+00 -5.07330178e-04 -1.39206777e-03\n",
            " -3.36724126e-04  1.03638397e-03  3.14758569e-03  9.02219319e-02\n",
            "  0.00000000e+00  0.00000000e+00 -1.55065306e-03 -1.24754300e-03\n",
            "  2.74550972e-03  0.00000000e+00 -3.56157511e-05  0.00000000e+00\n",
            " -2.18422239e-04  0.00000000e+00  0.00000000e+00  3.38826733e-04\n",
            " -1.55623167e-04  0.00000000e+00  1.99398064e-04  0.00000000e+00\n",
            " -3.76130261e-04  3.53263516e-04 -4.70080022e-04  0.00000000e+00\n",
            "  0.00000000e+00  0.00000000e+00  2.01452459e-04  0.00000000e+00\n",
            " -2.52923531e-05 -6.22921204e-04  3.35201977e-04  0.00000000e+00\n",
            "  0.00000000e+00  3.30186384e-04  1.27960971e-03 -2.56438056e-03\n",
            "  0.00000000e+00 -8.66442580e-04 -4.77249561e-04 -4.69195325e-04\n",
            " -3.79597820e-04  0.00000000e+00 -7.67310212e-04  0.00000000e+00\n",
            " -4.75992174e-04 -3.69636948e-04  0.00000000e+00  0.00000000e+00\n",
            "  3.77587532e-04  0.00000000e+00  0.00000000e+00  0.00000000e+00\n",
            "  0.00000000e+00  2.48536990e-04  0.00000000e+00  0.00000000e+00\n",
            "  3.56493740e-04  0.00000000e+00  0.00000000e+00  0.00000000e+00\n",
            "  0.00000000e+00  0.00000000e+00  0.00000000e+00  3.64182471e-04\n",
            "  0.00000000e+00 -6.99423085e-04 -3.73228034e-04 -6.45872936e-04\n",
            "  0.00000000e+00  3.57696566e-04 -4.84869685e-04  0.00000000e+00\n",
            "  0.00000000e+00 -1.08775684e-03  0.00000000e+00  0.00000000e+00\n",
            " -1.47440041e-03  1.81137338e-05 -3.05355643e-03  0.00000000e+00\n",
            "  8.84281260e-02 -1.51705151e-03  0.00000000e+00  2.61418129e-04\n",
            " -5.05281154e-04  0.00000000e+00  3.80768304e-04 -4.87032470e-04\n",
            "  0.00000000e+00  0.00000000e+00  0.00000000e+00 -8.43206029e-04\n",
            " -2.61974793e-04 -4.69193806e-04  0.00000000e+00 -1.30109232e-03\n",
            " -5.05629169e-04  5.99153471e-04 -4.13984028e-04 -6.08644376e-04\n",
            " -4.74011065e-04  6.80139049e-04 -7.49076902e-03 -2.41825668e-01\n",
            " -8.30313685e-04  1.61924547e-02  4.01476734e-03  2.14315542e-02\n",
            "  2.53405334e-02  3.43484384e-04  0.00000000e+00 -5.91031404e-02\n",
            "  1.00485000e-02]\n"
          ]
        },
        {
          "output_type": "display_data",
          "data": {
            "text/plain": [
              "<Figure size 640x480 with 1 Axes>"
            ],
            "image/png": "[encoded data removed]"
          },
          "metadata": {}
        }
      ]
    },
    {
      "cell_type": "markdown",
      "source": [
        "##Experiment with different regularization parameters\n",
        "For this part, you will need to run your L1 logistic regression algorithm on the training data with different regularization parameters $\\lambda\\in \\{10^i: i\\in[-6, -1]\\}$. You are welcome to experiment with more extreme or in-between values to help you answer the questions. But be advised using larger $\\lambda$ values in this case makes it difficult to converge.\n",
        "\n",
        "**Learning Rate Tuning Guidelines:**\n",
        "For L1 regularization, I recommend starting with $\\gamma = 2$ for very small $\\lambda$s like $10^{-6}, 10^{-5}$, and decreasing the learning for larger $\\lambda$ values.\n",
        "\n",
        "For each $\\lambda$ value, you are required to run L1 logistic regression to convergence, record the resulting model (weights), evaluate it on the training and validation data, and record the accuracies."
      ],
      "metadata": {
        "id": "o-ALab8qvbYO"
      }
    },
    {
      "cell_type": "code",
      "source": [
        "# Your code goes here\n",
        "cols = [col for col in processed_train_data.columns if col != 'Response']\n",
        "\n",
        "X_train      = processed_train_data[cols].values\n",
        "X_validation = processed_val_data[cols].values\n",
        "X_noisy = processed_noisy_train[cols].values\n",
        "\n",
        "#target vectors\n",
        "Y_train      = processed_train_data['Response'].values\n",
        "Y_validation = processed_val_data['Response'].values\n",
        "Y_noisy = processed_noisy_train['Response'].values\n",
        "\n",
        "l_c = {}                                          # Store MSE loss for different learning rate\n",
        "wt = {}                                           # Store weight learned for different learning rate\n",
        "\n",
        "for lambda_r in [10**i for i in range(-6, 0)]:\n",
        "  if lambda_r <= 1e-5:\n",
        "    learning_r = 2\n",
        "  elif lambda_r <= 1e-3:\n",
        "    learning_r = 0.1\n",
        "  else:\n",
        "    learning_r = 0.01\n",
        "  w,l=logistic_regression_with_l1(X_train,Y_train, lambda_r, learning_r, 50000, 1e-7)\n",
        "  l_c[str(lambda_r)] = l                          # store sequence of T MSE in dictionary\n",
        "  wt[str(lambda_r)]   = w                         # store trained weight in dictionary\n",
        "\n",
        "# Plot the result\n",
        "for i in l_c:\n",
        "  y = l_c[i]\n",
        "  x = range(len(y))\n",
        "  plt.plot(x, y, label=f'{i}')\n",
        "  plt.title(f'11 loss')\n",
        "plt.legend(loc=\"upper right\")\n",
        "plt.show()\n",
        "\n",
        "# Calculate training and validation accuracy\n",
        "lambda_val = [10 ** i for i in range(-6, 0)]\n",
        "trainl1_accuracies = []\n",
        "val_a = []\n",
        "\n",
        "for lambda_reg in lambda_val:\n",
        "    w = wt[str(lambda_reg)]\n",
        "    trainl1_accuracy = accuracy_score(Y_train, predict(X_train, w))\n",
        "    val_accur = accuracy_score(Y_validation, predict(X_validation, w))\n",
        "    trainl1_accuracies.append(trainl1_accuracy)\n",
        "    val_a.append(val_accur)"
      ],
      "metadata": {
        "id": "QruW29Nn1zFL",
        "colab": {
          "base_uri": "https://localhost:8080/",
          "height": 696
        },
        "outputId": "54e25b6b-3846-4ccd-af5b-47dfb85996b2"
      },
      "execution_count": null,
      "outputs": [
        {
          "output_type": "stream",
          "name": "stderr",
          "text": [
            " 15%|█▌        | 7549/50000 [00:27<02:36, 271.20it/s]\n"
          ]
        },
        {
          "output_type": "stream",
          "name": "stdout",
          "text": [
            "Converged after 7549 iterations.\n"
          ]
        },
        {
          "output_type": "stream",
          "name": "stderr",
          "text": [
            " 15%|█▌        | 7549/50000 [00:27<02:32, 279.11it/s]\n"
          ]
        },
        {
          "output_type": "stream",
          "name": "stdout",
          "text": [
            "Converged after 7549 iterations.\n"
          ]
        },
        {
          "output_type": "stream",
          "name": "stderr",
          "text": [
            " 37%|███▋      | 18655/50000 [01:06<01:51, 281.22it/s]\n"
          ]
        },
        {
          "output_type": "stream",
          "name": "stdout",
          "text": [
            "Converged after 18655 iterations.\n"
          ]
        },
        {
          "output_type": "stream",
          "name": "stderr",
          "text": [
            " 37%|███▋      | 18668/50000 [01:06<01:51, 280.95it/s]\n"
          ]
        },
        {
          "output_type": "stream",
          "name": "stdout",
          "text": [
            "Converged after 18668 iterations.\n"
          ]
        },
        {
          "output_type": "stream",
          "name": "stderr",
          "text": [
            " 78%|███████▊  | 39177/50000 [02:25<00:40, 269.48it/s]\n"
          ]
        },
        {
          "output_type": "stream",
          "name": "stdout",
          "text": [
            "Converged after 39177 iterations.\n"
          ]
        },
        {
          "output_type": "stream",
          "name": "stderr",
          "text": [
            " 79%|███████▉  | 39697/50000 [02:25<00:37, 272.83it/s]\n"
          ]
        },
        {
          "output_type": "stream",
          "name": "stdout",
          "text": [
            "Converged after 39697 iterations.\n"
          ]
        },
        {
          "output_type": "display_data",
          "data": {
            "text/plain": [
              "<Figure size 640x480 with 1 Axes>"
            ],
            "image/png": "[encoded data removed]"
          },
          "metadata": {}
        }
      ]
    },
    {
      "cell_type": "markdown",
      "source": [
        "### 2.1 Impact on training and validation accuracy\n",
        "Plot the training accuracy and validation accuracy of the learned L1 regularized logistic regression model as a function of $\\lambda$. When plotting, use a logarithmic scale for the x-axis to represent $\\lambda$. In other words, each tick mark on the x-axis should correspond to a unique integar $i$ and be labeled as  $10^{−i}$ . This will allow us to better visualize how the model performance changes across different orders of magnitude for $\\lambda$.\n",
        "\n",
        "Please plot the two curves in the same figure using different colors for easy comparison. Provide clear legend to indicate which curve is which."
      ],
      "metadata": {
        "id": "WP15VwDh11e6"
      }
    },
    {
      "cell_type": "code",
      "source": [
        "# Your code goes here\n",
        "print(trainl1_accuracies)\n",
        "print(val_a)\n",
        "plt.figure(figsize=(10, 6))\n",
        "plt.semilogx(lambda_val, trainl1_accuracies, label='L1 Training Accuracy', marker='o')\n",
        "plt.semilogx(lambda_val, val_a, label='Validation Accuracy', marker='x')\n",
        "plt.xlabel('Lambda')\n",
        "plt.ylabel('Accuracy')\n",
        "plt.title('Accuracy vs Lambda')\n",
        "plt.legend()\n",
        "plt.xticks(lambda_val, labels=[str(i) for i in lambda_val])\n",
        "plt.grid(True)\n",
        "plt.show()\n"
      ],
      "metadata": {
        "id": "njX32s4Q3xdy",
        "colab": {
          "base_uri": "https://localhost:8080/",
          "height": 605
        },
        "outputId": "e80f53e1-9873-4c9a-8fe7-9752e6203184"
      },
      "execution_count": null,
      "outputs": [
        {
          "output_type": "stream",
          "name": "stdout",
          "text": [
            "[0.802, 0.802, 0.8011666666666667, 0.8011666666666667, 0.7968333333333333, 0.7973333333333333]\n",
            "[0.7913, 0.7913, 0.7931, 0.7931, 0.7932, 0.7934]\n"
          ]
        },
        {
          "output_type": "display_data",
          "data": {
            "text/plain": [
              "<Figure size 1000x600 with 1 Axes>"
            ],
            "image/png": "[encoded data removed]"
          },
          "metadata": {}
        }
      ]
    },
    {
      "cell_type": "markdown",
      "source": [
        "**Question**\n",
        "\n",
        "(a) Which $\\lambda$ value leads to the best training and validatoin accuracy respectively? Which one should you use if you are to pick a model for deployment?\n",
        "\n",
        "(b) What trend do you observe for the training and validation accuracy respectively as we increae $\\lambda$? Provide your explanation for this observed trend.\n",
        "\n",
        "(c) What are some differences in the results between L1 and L2 regularized logistic regression? Which one achieved the best training accuracy? Which one achieved the best validation accuracy? Provide your own explanation for the observed differences.\n",
        "\n",
        "\n",
        "\n"
      ],
      "metadata": {
        "id": "dKpnfLh230m4"
      }
    },
    {
      "cell_type": "markdown",
      "source": [
        "**Your answer goes here** <br>\n",
        "\n",
        "a) The $\\lambda$ values that lead to the best training accuracy are  $10^{−6}$  and  $10^{−5}$ , while the best validation accuracy is seen at  0.1 . I would choose $\\lambda$ equal to  0.1  during deployment since it has the greatest accuracy on unseen data which is more important in production.\n",
        "\n",
        "b) When lambda is increasing, the training accuracy is decreasing. The validation accuracy starts lower at the smallest (${10^{-6}}$) lambda values, and then it increases after lambda greater than ${10^{-5}}$.\n",
        "\n",
        "c) There is a small accuracy difference between L1 and L2 regression. However, L2's training and validation accuracy are a little bit higher than L1. And they have the same property: when the lambda increases, the training accuracy will decrease and the validation accuracy will increase.\n"
      ],
      "metadata": {
        "id": "aH54ckNf5u9n"
      }
    },
    {
      "cell_type": "markdown",
      "source": [
        "###2.2 Impact on feature weights\n",
        "For each value of $\\lambda$, present the top five features based on the magnitude of their weights $|w_j|$, excluding the bias term $w_0$. Organize your results into a table. Each column should be dedicated to a specific $\\lambda$ value, and rows should indicate the rank of the feature. Ensure that each cell in the table contains both the feature name and its corresponding weight $w_j$.\n",
        "\n",
        "For example:\n",
        "\n",
        "| Rank  | $\\lambda = 10^{-4}$      | $\\lambda = 10^{-3}$      | $\\lambda = 10^{-2}$      |\n",
        "|-------|--------------------------|--------------------------|--------------------------|\n",
        "| 1     | feature_a, 0.8           | feature_b, 0.7           | feature_c, 0.6           |\n",
        "| 2     | feature_d, 0.7           | feature_e, 0.6           | feature_f, 0.5           |\n",
        "| 3     | feature_g, 0.6           | feature_h, 0.5           | feature_i, 0.4           |\n",
        "| 4     | feature_j, 0.5           | feature_k, 0.4           | feature_l, 0.3           |\n",
        "| 5     | feature_m, 0.4           | feature_n, 0.3           | feature_o, 0.2           |"
      ],
      "metadata": {
        "id": "9Czbhsql7x7v"
      }
    },
    {
      "cell_type": "code",
      "source": [
        "#Your code goes here\n",
        "top_features = {}\n",
        "\n",
        "for lambda_reg in lambda_val:\n",
        "    # Get the weights for the current λ sans bias\n",
        "    w = wt[str(lambda_reg)][1:]\n",
        "\n",
        "    top_feature_indices = np.argsort(np.abs(w))[::-1][:5]\n",
        "\n",
        "    top_features[lambda_reg] = [(f\"feature_{j}\", w[j]) for j in top_feature_indices]\n",
        "\n",
        "#DataFrame to display the results\n",
        "df = pd.DataFrame(top_features)\n",
        "df.index = [\"1\", \"2\", \"3\", \"4\", \"5\"]\n",
        "df.columns.name = 'Rank'\n",
        "df.index.name = 'λ'\n",
        "\n",
        "#looks awful but easier to parse\n",
        "#print(df)\n",
        "display(df)"
      ],
      "metadata": {
        "id": "1dWQcu5J76ZI",
        "colab": {
          "base_uri": "https://localhost:8080/",
          "height": 238
        },
        "outputId": "2fe93400-5a7b-4c99-e9de-347f79cdd7ea"
      },
      "execution_count": null,
      "outputs": [
        {
          "output_type": "display_data",
          "data": {
            "text/plain": [
              "Rank                            0.000001                            0.000010  \\\n",
              "λ                                                                              \n",
              "1       (feature_3, -3.2835077713977063)    (feature_3, -3.2835070225390592)   \n",
              "2        (feature_4, 2.3027896528270806)     (feature_4, 2.3027892612142087)   \n",
              "3      (feature_76, -2.1290784435213834)    (feature_76, -2.129072614760798)   \n",
              "4     (feature_194, -1.8757840424842593)  (feature_194, -1.8757863788741247)   \n",
              "5       (feature_74, 1.6211947114293073)    (feature_74, 1.6211797051439527)   \n",
              "\n",
              "Rank                            0.000100                            0.001000  \\\n",
              "λ                                                                              \n",
              "1       (feature_3, -3.2754141719467555)     (feature_3, -3.275404814609077)   \n",
              "2        (feature_4, 2.2520500525740297)     (feature_4, 2.2520233260857485)   \n",
              "3     (feature_194, -1.8964999900018966)  (feature_194, -1.8965205558303173)   \n",
              "4     (feature_186, -0.9112368959356094)  (feature_186, -0.9112605097858486)   \n",
              "5       (feature_10, 0.8850017487476635)    (feature_10, 0.8849441099519144)   \n",
              "\n",
              "Rank                            0.010000                            0.100000  \n",
              "λ                                                                             \n",
              "1       (feature_3, -2.8944607592400464)     (feature_3, -2.897760488829747)  \n",
              "2        (feature_4, 2.2566096970353673)      (feature_4, 2.255878204134697)  \n",
              "3     (feature_194, -1.3510909378669087)  (feature_194, -1.3560439156609334)  \n",
              "4       (feature_186, -0.77943182040521)  (feature_186, -0.7806766336891289)  \n",
              "5      (feature_61, -0.6260592292637182)   (feature_61, -0.6241429994311216)  "
            ],
            "text/html": [
              "\n",
              "  <div id=\"df-22aca563-25d7-4e3c-bcc0-a8edf8d4bb1d\" class=\"colab-df-container\">\n",
              "    <div>\n",
              "<style scoped>\n",
              "    .dataframe tbody tr th:only-of-type {\n",
              "        vertical-align: middle;\n",
              "    }\n",
              "\n",
              "    .dataframe tbody tr th {\n",
              "        vertical-align: top;\n",
              "    }\n",
              "\n",
              "    .dataframe thead th {\n",
              "        text-align: right;\n",
              "    }\n",
              "</style>\n",
              "<table border=\"1\" class=\"dataframe\">\n",
              "  <thead>\n",
              "    <tr style=\"text-align: right;\">\n",
              "      <th>Rank</th>\n",
              "      <th>0.000001</th>\n",
              "      <th>0.000010</th>\n",
              "      <th>0.000100</th>\n",
              "      <th>0.001000</th>\n",
              "      <th>0.010000</th>\n",
              "      <th>0.100000</th>\n",
              "    </tr>\n",
              "    <tr>\n",
              "      <th>λ</th>\n",
              "      <th></th>\n",
              "      <th></th>\n",
              "      <th></th>\n",
              "      <th></th>\n",
              "      <th></th>\n",
              "      <th></th>\n",
              "    </tr>\n",
              "  </thead>\n",
              "  <tbody>\n",
              "    <tr>\n",
              "      <th>1</th>\n",
              "      <td>(feature_3, -3.2835077713977063)</td>\n",
              "      <td>(feature_3, -3.2835070225390592)</td>\n",
              "      <td>(feature_3, -3.2754141719467555)</td>\n",
              "      <td>(feature_3, -3.275404814609077)</td>\n",
              "      <td>(feature_3, -2.8944607592400464)</td>\n",
              "      <td>(feature_3, -2.897760488829747)</td>\n",
              "    </tr>\n",
              "    <tr>\n",
              "      <th>2</th>\n",
              "      <td>(feature_4, 2.3027896528270806)</td>\n",
              "      <td>(feature_4, 2.3027892612142087)</td>\n",
              "      <td>(feature_4, 2.2520500525740297)</td>\n",
              "      <td>(feature_4, 2.2520233260857485)</td>\n",
              "      <td>(feature_4, 2.2566096970353673)</td>\n",
              "      <td>(feature_4, 2.255878204134697)</td>\n",
              "    </tr>\n",
              "    <tr>\n",
              "      <th>3</th>\n",
              "      <td>(feature_76, -2.1290784435213834)</td>\n",
              "      <td>(feature_76, -2.129072614760798)</td>\n",
              "      <td>(feature_194, -1.8964999900018966)</td>\n",
              "      <td>(feature_194, -1.8965205558303173)</td>\n",
              "      <td>(feature_194, -1.3510909378669087)</td>\n",
              "      <td>(feature_194, -1.3560439156609334)</td>\n",
              "    </tr>\n",
              "    <tr>\n",
              "      <th>4</th>\n",
              "      <td>(feature_194, -1.8757840424842593)</td>\n",
              "      <td>(feature_194, -1.8757863788741247)</td>\n",
              "      <td>(feature_186, -0.9112368959356094)</td>\n",
              "      <td>(feature_186, -0.9112605097858486)</td>\n",
              "      <td>(feature_186, -0.77943182040521)</td>\n",
              "      <td>(feature_186, -0.7806766336891289)</td>\n",
              "    </tr>\n",
              "    <tr>\n",
              "      <th>5</th>\n",
              "      <td>(feature_74, 1.6211947114293073)</td>\n",
              "      <td>(feature_74, 1.6211797051439527)</td>\n",
              "      <td>(feature_10, 0.8850017487476635)</td>\n",
              "      <td>(feature_10, 0.8849441099519144)</td>\n",
              "      <td>(feature_61, -0.6260592292637182)</td>\n",
              "      <td>(feature_61, -0.6241429994311216)</td>\n",
              "    </tr>\n",
              "  </tbody>\n",
              "</table>\n",
              "</div>\n",
              "    <div class=\"colab-df-buttons\">\n",
              "\n",
              "  <div class=\"colab-df-container\">\n",
              "    <button class=\"colab-df-convert\" onclick=\"convertToInteractive('df-22aca563-25d7-4e3c-bcc0-a8edf8d4bb1d')\"\n",
              "            title=\"Convert this dataframe to an interactive table.\"\n",
              "            style=\"display:none;\">\n",
              "\n",
              "  <svg xmlns=\"http://www.w3.org/2000/svg\" height=\"24px\" viewBox=\"0 -960 960 960\">\n",
              "    <path d=\"M120-120v-720h720v720H120Zm60-500h600v-160H180v160Zm220 220h160v-160H400v160Zm0 220h160v-160H400v160ZM180-400h160v-160H180v160Zm440 0h160v-160H620v160ZM180-180h160v-160H180v160Zm440 0h160v-160H620v160Z\"/>\n",
              "  </svg>\n",
              "    </button>\n",
              "\n",
              "  <style>\n",
              "    .colab-df-container {\n",
              "      display:flex;\n",
              "      gap: 12px;\n",
              "    }\n",
              "\n",
              "    .colab-df-convert {\n",
              "      background-color: #E8F0FE;\n",
              "      border: none;\n",
              "      border-radius: 50%;\n",
              "      cursor: pointer;\n",
              "      display: none;\n",
              "      fill: #1967D2;\n",
              "      height: 32px;\n",
              "      padding: 0 0 0 0;\n",
              "      width: 32px;\n",
              "    }\n",
              "\n",
              "    .colab-df-convert:hover {\n",
              "      background-color: #E2EBFA;\n",
              "      box-shadow: 0px 1px 2px rgba(60, 64, 67, 0.3), 0px 1px 3px 1px rgba(60, 64, 67, 0.15);\n",
              "      fill: #174EA6;\n",
              "    }\n",
              "\n",
              "    .colab-df-buttons div {\n",
              "      margin-bottom: 4px;\n",
              "    }\n",
              "\n",
              "    [theme=dark] .colab-df-convert {\n",
              "      background-color: #3B4455;\n",
              "      fill: #D2E3FC;\n",
              "    }\n",
              "\n",
              "    [theme=dark] .colab-df-convert:hover {\n",
              "      background-color: #434B5C;\n",
              "      box-shadow: 0px 1px 3px 1px rgba(0, 0, 0, 0.15);\n",
              "      filter: drop-shadow(0px 1px 2px rgba(0, 0, 0, 0.3));\n",
              "      fill: #FFFFFF;\n",
              "    }\n",
              "  </style>\n",
              "\n",
              "    <script>\n",
              "      const buttonEl =\n",
              "        document.querySelector('#df-22aca563-25d7-4e3c-bcc0-a8edf8d4bb1d button.colab-df-convert');\n",
              "      buttonEl.style.display =\n",
              "        google.colab.kernel.accessAllowed ? 'block' : 'none';\n",
              "\n",
              "      async function convertToInteractive(key) {\n",
              "        const element = document.querySelector('#df-22aca563-25d7-4e3c-bcc0-a8edf8d4bb1d');\n",
              "        const dataTable =\n",
              "          await google.colab.kernel.invokeFunction('convertToInteractive',\n",
              "                                                    [key], {});\n",
              "        if (!dataTable) return;\n",
              "\n",
              "        const docLinkHtml = 'Like what you see? Visit the ' +\n",
              "          '<a target=\"_blank\" href=https://colab.research.google.com/notebooks/data_table.ipynb>data table notebook</a>'\n",
              "          + ' to learn more about interactive tables.';\n",
              "        element.innerHTML = '';\n",
              "        dataTable['output_type'] = 'display_data';\n",
              "        await google.colab.output.renderOutput(dataTable, element);\n",
              "        const docLink = document.createElement('div');\n",
              "        docLink.innerHTML = docLinkHtml;\n",
              "        element.appendChild(docLink);\n",
              "      }\n",
              "    </script>\n",
              "  </div>\n",
              "\n",
              "\n",
              "<div id=\"df-d4810189-d1d8-4c99-be19-d646ec14eb51\">\n",
              "  <button class=\"colab-df-quickchart\" onclick=\"quickchart('df-d4810189-d1d8-4c99-be19-d646ec14eb51')\"\n",
              "            title=\"Suggest charts.\"\n",
              "            style=\"display:none;\">\n",
              "\n",
              "<svg xmlns=\"http://www.w3.org/2000/svg\" height=\"24px\"viewBox=\"0 0 24 24\"\n",
              "     width=\"24px\">\n",
              "    <g>\n",
              "        <path d=\"M19 3H5c-1.1 0-2 .9-2 2v14c0 1.1.9 2 2 2h14c1.1 0 2-.9 2-2V5c0-1.1-.9-2-2-2zM9 17H7v-7h2v7zm4 0h-2V7h2v10zm4 0h-2v-4h2v4z\"/>\n",
              "    </g>\n",
              "</svg>\n",
              "  </button>\n",
              "\n",
              "<style>\n",
              "  .colab-df-quickchart {\n",
              "      --bg-color: #E8F0FE;\n",
              "      --fill-color: #1967D2;\n",
              "      --hover-bg-color: #E2EBFA;\n",
              "      --hover-fill-color: #174EA6;\n",
              "      --disabled-fill-color: #AAA;\n",
              "      --disabled-bg-color: #DDD;\n",
              "  }\n",
              "\n",
              "  [theme=dark] .colab-df-quickchart {\n",
              "      --bg-color: #3B4455;\n",
              "      --fill-color: #D2E3FC;\n",
              "      --hover-bg-color: #434B5C;\n",
              "      --hover-fill-color: #FFFFFF;\n",
              "      --disabled-bg-color: #3B4455;\n",
              "      --disabled-fill-color: #666;\n",
              "  }\n",
              "\n",
              "  .colab-df-quickchart {\n",
              "    background-color: var(--bg-color);\n",
              "    border: none;\n",
              "    border-radius: 50%;\n",
              "    cursor: pointer;\n",
              "    display: none;\n",
              "    fill: var(--fill-color);\n",
              "    height: 32px;\n",
              "    padding: 0;\n",
              "    width: 32px;\n",
              "  }\n",
              "\n",
              "  .colab-df-quickchart:hover {\n",
              "    background-color: var(--hover-bg-color);\n",
              "    box-shadow: 0 1px 2px rgba(60, 64, 67, 0.3), 0 1px 3px 1px rgba(60, 64, 67, 0.15);\n",
              "    fill: var(--button-hover-fill-color);\n",
              "  }\n",
              "\n",
              "  .colab-df-quickchart-complete:disabled,\n",
              "  .colab-df-quickchart-complete:disabled:hover {\n",
              "    background-color: var(--disabled-bg-color);\n",
              "    fill: var(--disabled-fill-color);\n",
              "    box-shadow: none;\n",
              "  }\n",
              "\n",
              "  .colab-df-spinner {\n",
              "    border: 2px solid var(--fill-color);\n",
              "    border-color: transparent;\n",
              "    border-bottom-color: var(--fill-color);\n",
              "    animation:\n",
              "      spin 1s steps(1) infinite;\n",
              "  }\n",
              "\n",
              "  @keyframes spin {\n",
              "    0% {\n",
              "      border-color: transparent;\n",
              "      border-bottom-color: var(--fill-color);\n",
              "      border-left-color: var(--fill-color);\n",
              "    }\n",
              "    20% {\n",
              "      border-color: transparent;\n",
              "      border-left-color: var(--fill-color);\n",
              "      border-top-color: var(--fill-color);\n",
              "    }\n",
              "    30% {\n",
              "      border-color: transparent;\n",
              "      border-left-color: var(--fill-color);\n",
              "      border-top-color: var(--fill-color);\n",
              "      border-right-color: var(--fill-color);\n",
              "    }\n",
              "    40% {\n",
              "      border-color: transparent;\n",
              "      border-right-color: var(--fill-color);\n",
              "      border-top-color: var(--fill-color);\n",
              "    }\n",
              "    60% {\n",
              "      border-color: transparent;\n",
              "      border-right-color: var(--fill-color);\n",
              "    }\n",
              "    80% {\n",
              "      border-color: transparent;\n",
              "      border-right-color: var(--fill-color);\n",
              "      border-bottom-color: var(--fill-color);\n",
              "    }\n",
              "    90% {\n",
              "      border-color: transparent;\n",
              "      border-bottom-color: var(--fill-color);\n",
              "    }\n",
              "  }\n",
              "</style>\n",
              "\n",
              "  <script>\n",
              "    async function quickchart(key) {\n",
              "      const quickchartButtonEl =\n",
              "        document.querySelector('#' + key + ' button');\n",
              "      quickchartButtonEl.disabled = true;  // To prevent multiple clicks.\n",
              "      quickchartButtonEl.classList.add('colab-df-spinner');\n",
              "      try {\n",
              "        const charts = await google.colab.kernel.invokeFunction(\n",
              "            'suggestCharts', [key], {});\n",
              "      } catch (error) {\n",
              "        console.error('Error during call to suggestCharts:', error);\n",
              "      }\n",
              "      quickchartButtonEl.classList.remove('colab-df-spinner');\n",
              "      quickchartButtonEl.classList.add('colab-df-quickchart-complete');\n",
              "    }\n",
              "    (() => {\n",
              "      let quickchartButtonEl =\n",
              "        document.querySelector('#df-d4810189-d1d8-4c99-be19-d646ec14eb51 button');\n",
              "      quickchartButtonEl.style.display =\n",
              "        google.colab.kernel.accessAllowed ? 'block' : 'none';\n",
              "    })();\n",
              "  </script>\n",
              "</div>\n",
              "    </div>\n",
              "  </div>\n"
            ]
          },
          "metadata": {}
        }
      ]
    },
    {
      "cell_type": "markdown",
      "source": [
        "**Question**\n",
        "\n",
        "1. Do you observe any difference is the top features with different $\\lambda$ values?\n",
        "2. Do you observe any difference in the weights of the top features for different $\\lambda$ values?\n",
        "3. Please provide your own explanation/interpretation of the observed differences.\n",
        "4. What are some differences for this part of the results comparing L1 and L2 regularization? Provide your own explanation for such differences.\n"
      ],
      "metadata": {
        "id": "ibv19RIT791s"
      }
    },
    {
      "cell_type": "markdown",
      "source": [
        "**Your answer goes here**\n",
        "\n",
        "1) When lambda increases, features 76, and 74 drop out from the top list, while features 186, and 61 emerge as more significant.\n",
        "\n",
        "2) Yes, with higher regularization values there seems to be a general decrease in the largest weights. Feature 3 goes from having a weight of $-3.283$ to having a weight of $-2.89$. Other features see a simmilar decrease, and with higher regularizarion values, the top 5 go from having all 5 weights with a magnitude greater than 1 to just 3.\n",
        "\n",
        "3) The observed differences in top features and their weights reflect the impact of L1 regularization on larger weights, pushing them to be smaller. The changes in top features suggest that regularization can shrink or amplify the impact of different features in the model.\n",
        "\n",
        "4) The main difference is that L1 and L2 regularization select different features to become more prominent for some values of lambda. Eventually the same 5 features become the most prominent.\n"
      ],
      "metadata": {
        "id": "7Azz6YUb8epJ"
      }
    },
    {
      "cell_type": "markdown",
      "source": [
        "###2.3 Sparsity of weights\n",
        "\n",
        "For each different value of $\\lambda$, compute the sparsity of the learned L1 regularized logistic regression classifier as the number of feature weights that approxmately equal zero ($\\leq 10^{-6}$) and report the sparsity number for each $\\lambda$ value."
      ],
      "metadata": {
        "id": "pbEGWb2r8lT-"
      }
    },
    {
      "cell_type": "code",
      "source": [
        "# Your code goes here\n",
        "for lambda_reg in lambda_val:\n",
        "    # Get the weights for the current λ\n",
        "    w = wt[str(lambda_reg)]\n",
        "\n",
        "    # Count the number of feature weights that are approximately equal to zero\n",
        "    num_zero_weights = np.sum(np.abs(w[1:]) <= 1e-6)\n",
        "    print(f\"λ = {lambda_reg}: Sparsity = {num_zero_weights}\")"
      ],
      "metadata": {
        "id": "Fr7Z43bH8veX",
        "colab": {
          "base_uri": "https://localhost:8080/"
        },
        "outputId": "a7b5a88f-09d0-4fe0-ad61-a7dbd77cfa6e"
      },
      "execution_count": null,
      "outputs": [
        {
          "output_type": "stream",
          "name": "stdout",
          "text": [
            "λ = 1e-06: Sparsity = 47\n",
            "λ = 1e-05: Sparsity = 47\n",
            "λ = 0.0001: Sparsity = 47\n",
            "λ = 0.001: Sparsity = 47\n",
            "λ = 0.01: Sparsity = 48\n",
            "λ = 0.1: Sparsity = 59\n"
          ]
        }
      ]
    },
    {
      "cell_type": "markdown",
      "source": [
        "**Question**\n",
        "\n",
        "1. What trend do you observe for the sparsity of the L1 regularized model as we change $\\lambda$? If we further increase $\\lambda$, what do you expect? Why?\n",
        "2. What are some differences for this part of the results comparing L1 and L2 regularization? Provide your own explanation for such differences.\n"
      ],
      "metadata": {
        "id": "HOW68szl8yNG"
      }
    },
    {
      "cell_type": "markdown",
      "source": [
        "**Your answer goes here**\n",
        "\n",
        "1) As the $\\lambda$ values used increase, the sparsity of the model increases. I expect that as $\\lambda$ further increases that we would see this trend continue as the L1 regularization adds a penalty proportional to the absolute value of the coefficients. When increasing lamda, the penalty for having non-zero coefficients increase as well.\n",
        "\n",
        "2) When comparing to the results from the L2 model, the L2 model seems consistent. The L2 model didn't get more\n",
        " sparse as the lamba value increased. This is likely becuase L2 regularization is penalizing the square of the weights and therefore putting proportionally less pressure on pushing already small weights to zero. For an example weight of 0.01, L1 regularization would impose a penality of 0.01 while L2 regularization would impose a penality of $(0.01)^2=0.0001$."
      ],
      "metadata": {
        "id": "2B_am07d9Ei7"
      }
    },
    {
      "cell_type": "markdown",
      "source": [
        "# Part 3. (25 pts) Impact of Noise\n",
        "For this part, you will be training both L1 and L2 logistic regression models using the noisy training data. For L2, you should consider the same set of $\\lambda$ values as part 1. For L1, you will find it to be extremely difficult to converge to a meaningful solution for $\\lambda=0.1$, so you will use the same set of values as part 2 but exclude $\\lambda=0.1$.  For each regularization method, please plot the model's training and validation accuracy against the regularization parameter $\\lambda$."
      ],
      "metadata": {
        "id": "u84B_DIRYdRy"
      }
    },
    {
      "cell_type": "code",
      "source": [
        "# Your code goes here\n",
        "\n",
        "# Calcualte l2 gradient and loss\n",
        "def l2_regularization(lambda_reg, w):\n",
        "\n",
        "  gradient_term     = (lambda_reg) * w                             # L2 Gradient Calcualtion\n",
        "  loss_term         = (lambda_reg / 2) * np.sum(np.square(w[1:]))  # L2 Loss calculation\n",
        "  gradient_term[0]  = 0                                            # Since w[0] is a bias not weight we assign the bias l2 gradient term to zero\n",
        "\n",
        "  return gradient_term, loss_term                                  # Return L2 gradient and loss\n",
        "\n",
        "def l1_regularization(lambda_reg, w):\n",
        "  gradient_term    = lambda_reg * np.sign(w)                   # L1 Gradient calcualtion\n",
        "  loss_term        = lambda_reg * np.sum(np.abs(w[1:]))        # L1 Loss calculation\n",
        "  gradient_term[0] = 0                                         # Since w[0] is a bias not weight we assign the bias l1 gradient term to zero\n",
        "\n",
        "  return gradient_term, loss_term                              # Return L1 gradient and loss\n",
        "\n",
        "# Calcualte gradient with regularization and update weights\n",
        "def apply_gradient_decent(X, Y, w, lr, reg_par, reg = 'L1'):\n",
        "  m                      = X.shape[0]                          # Total number of training examples\n",
        "  Z                      = np.dot(X, w)\n",
        "  Y_pred                 = sigmoid(Z)\n",
        "\n",
        "  # calculate gradient\n",
        "  gradient_reg, loss_reg = l1_regularization(reg_par, w) if reg =='L1' else l2_regularization(reg_par, w)\n",
        "  gradient               = (1 / m) * (np.dot(X.T, (Y_pred - Y)) + gradient_reg)\n",
        "\n",
        "  # Update weight\n",
        "  w -= lr * gradient\n",
        "\n",
        "  # Loss calculation\n",
        "  loss                   = (-1 / m) * (np.sum(Y * np.log(Y_pred) + (1 - Y) * np.log(1 - Y_pred)) + loss_reg)\n",
        "\n",
        "  return w, gradient, loss\n",
        "\n",
        "def calculate_acc(X, Y, w):\n",
        "  Y_pred = (sigmoid(np.dot(X, w)) >= threshold).astype(np.int8)\n",
        "  return np.mean((Y - Y_pred)==0.0)\n",
        "\n",
        "def train_model(X, Y, lr, reg_par, reg = 'L2'):\n",
        "  w = np.zeros((X.shape[-1], 1))\n",
        "  losses = []\n",
        "  acc_train = []\n",
        "  acc_val   = []\n",
        "\n",
        "  for epoch in range(num_iteration):\n",
        "    w, gradient, loss = apply_gradient_decent(X, Y, w, lr, reg_par, reg)\n",
        "    losses.append(loss)\n",
        "\n",
        "      # print(f\"Loss: {loss} | train_acc: {train_acc} | val_acc: {val_acc} \")\n",
        "\n",
        "    if len(losses) > 2:\n",
        "      if np.abs(losses[-1] - losses[-2]) < conv_thresh:\n",
        "        print(f\"Model converged at {epoch} iteration\")\n",
        "        train_acc = calculate_acc(X, Y, w)\n",
        "        val_acc   = calculate_acc(X_validation, Y_validation, w)\n",
        "\n",
        "        acc_train.append(train_acc)\n",
        "        acc_val.append(val_acc)\n",
        "        break\n",
        "\n",
        "  return losses, acc_train, acc_val\n"
      ],
      "metadata": {
        "id": "gWLBfdJ0jyiK"
      },
      "execution_count": null,
      "outputs": []
    },
    {
      "cell_type": "code",
      "source": [
        "# Your code goes here\n",
        "\n",
        "# Data Preprocessing\n",
        "cols = [col for col in processed_train_data.columns if col != 'Response']\n",
        "\n",
        "X_train      = processed_train_data[cols].values\n",
        "X_validation = processed_val_data[cols].values\n",
        "X_noisy      = processed_noisy_train[cols].values\n",
        "\n",
        "#target vectors\n",
        "Y_train      = processed_train_data['Response'].values[..., np.newaxis]\n",
        "Y_validation = processed_val_data['Response'].values[..., np.newaxis]\n",
        "Y_noisy      = processed_noisy_train['Response'].values[..., np.newaxis]\n",
        "\n",
        "# Initiallize weights\n",
        "\n",
        "num_iteration = 100000\n",
        "conv_thresh   = 1e-7\n",
        "threshold     = 0.5"
      ],
      "metadata": {
        "id": "JDPOK-QTFQLL"
      },
      "execution_count": null,
      "outputs": []
    },
    {
      "cell_type": "code",
      "source": [
        "acc_train_all  = []\n",
        "acc_val_all    = []\n",
        "losses_all     = []\n",
        "\n",
        "lambda_range   = [10**i for i in range(-5, 1)]\n",
        "\n",
        "for lambda_reg in tqdm(lambda_range):\n",
        "  if lambda_reg <= 1e-4:\n",
        "    lr = 1.0\n",
        "  elif lambda_reg <= 1e-3:\n",
        "    lr = 0.1\n",
        "  else:\n",
        "    lr = 0.01\n",
        "  losses, acc_train, acc_val = train_model(X_noisy, Y_noisy, lr, lambda_reg, reg = 'L2')\n",
        "  acc_train_all.append(acc_train[-1])\n",
        "  acc_val_all.append(acc_val[-1])"
      ],
      "metadata": {
        "colab": {
          "base_uri": "https://localhost:8080/"
        },
        "id": "tNgCw4pkPK_e",
        "outputId": "0dfe38b2-68cf-4224-c4e5-c1299416a5ce"
      },
      "execution_count": null,
      "outputs": [
        {
          "output_type": "stream",
          "name": "stderr",
          "text": [
            " 17%|█▋        | 1/6 [00:48<04:04, 48.92s/it]"
          ]
        },
        {
          "output_type": "stream",
          "name": "stdout",
          "text": [
            "Model converged at 13729 iteration\n"
          ]
        },
        {
          "output_type": "stream",
          "name": "stderr",
          "text": [
            "\r 33%|███▎      | 2/6 [01:39<03:20, 50.19s/it]"
          ]
        },
        {
          "output_type": "stream",
          "name": "stdout",
          "text": [
            "Model converged at 13731 iteration\n"
          ]
        },
        {
          "output_type": "stream",
          "name": "stderr",
          "text": [
            "\r 50%|█████     | 3/6 [02:42<02:47, 55.76s/it]"
          ]
        },
        {
          "output_type": "stream",
          "name": "stdout",
          "text": [
            "Model converged at 17397 iteration\n"
          ]
        },
        {
          "output_type": "stream",
          "name": "stderr",
          "text": [
            "\r 67%|██████▋   | 4/6 [03:47<01:58, 59.34s/it]"
          ]
        },
        {
          "output_type": "stream",
          "name": "stdout",
          "text": [
            "Model converged at 18343 iteration\n"
          ]
        },
        {
          "output_type": "stream",
          "name": "stderr",
          "text": [
            "\r 83%|████████▎ | 5/6 [04:56<01:03, 63.00s/it]"
          ]
        },
        {
          "output_type": "stream",
          "name": "stdout",
          "text": [
            "Model converged at 18378 iteration\n"
          ]
        },
        {
          "output_type": "stream",
          "name": "stderr",
          "text": [
            "100%|██████████| 6/6 [06:04<00:00, 60.83s/it]"
          ]
        },
        {
          "output_type": "stream",
          "name": "stdout",
          "text": [
            "Model converged at 18710 iteration\n"
          ]
        },
        {
          "output_type": "stream",
          "name": "stderr",
          "text": [
            "\n"
          ]
        }
      ]
    },
    {
      "cell_type": "code",
      "source": [
        "plt.figure(figsize=(10, 6))\n",
        "plt.semilogx(lambda_range, acc_train_all, label='L2 Training Accuracy', marker='o')\n",
        "plt.semilogx(lambda_range, acc_val_all, label='Validation Accuracy', marker='x')\n",
        "plt.xlabel('Lambda')\n",
        "plt.ylabel('Accuracy')\n",
        "plt.title('Accuracy vs Lambda (L2)')\n",
        "plt.legend()\n",
        "plt.xticks(lambda_range, labels=[str(i) for i in lambda_range])\n",
        "plt.grid(True)\n",
        "plt.show()"
      ],
      "metadata": {
        "colab": {
          "base_uri": "https://localhost:8080/",
          "height": 564
        },
        "id": "kAuUHe9-Og2B",
        "outputId": "f4b65acf-e370-4bfc-ff53-88c4aca442f6"
      },
      "execution_count": null,
      "outputs": [
        {
          "output_type": "display_data",
          "data": {
            "text/plain": [
              "<Figure size 1000x600 with 1 Axes>"
            ],
            "image/png": "[encoded data removed]"
          },
          "metadata": {}
        }
      ]
    },
    {
      "cell_type": "code",
      "source": [
        "acc_train_all  = []\n",
        "acc_val_all    = []\n",
        "losses_all     = []\n",
        "\n",
        "lambda_range   = [10 ** i for i in range(-6, 0)]\n",
        "\n",
        "for lambda_reg in tqdm(lambda_range):\n",
        "  if lambda_reg <= 1e-4:\n",
        "    lr = 1.0\n",
        "  elif lambda_reg <= 1e-3:\n",
        "    lr = 0.1\n",
        "  else:\n",
        "    lr = 0.01\n",
        "  losses, acc_train, acc_val = train_model(X_noisy, Y_noisy, lr, lambda_reg, reg = 'L1')\n",
        "  acc_train_all.append(acc_train[-1])\n",
        "  acc_val_all.append(acc_val[-1])\n",
        "\n",
        "plt.figure(figsize=(10, 6))\n",
        "plt.semilogx(lambda_range, acc_train_all, label='L1 Training Accuracy', marker='o')\n",
        "plt.semilogx(lambda_range, acc_val_all, label='Validation Accuracy', marker='x')\n",
        "plt.xlabel('Lambda')\n",
        "plt.ylabel('Accuracy')\n",
        "plt.title('Accuracy vs Lambda (L1)')\n",
        "plt.legend()\n",
        "plt.xticks(lambda_range, labels=[str(i) for i in lambda_range])\n",
        "plt.grid(True)\n",
        "plt.show()"
      ],
      "metadata": {
        "colab": {
          "base_uri": "https://localhost:8080/",
          "height": 686
        },
        "id": "RY7IqTzrUYsw",
        "outputId": "ee649bfb-77c6-4c83-de69-bd521effbb2e"
      },
      "execution_count": null,
      "outputs": [
        {
          "output_type": "stream",
          "name": "stderr",
          "text": [
            " 17%|█▋        | 1/6 [00:52<04:24, 52.89s/it]"
          ]
        },
        {
          "output_type": "stream",
          "name": "stdout",
          "text": [
            "Model converged at 13729 iteration\n"
          ]
        },
        {
          "output_type": "stream",
          "name": "stderr",
          "text": [
            "\r 33%|███▎      | 2/6 [01:40<03:19, 49.93s/it]"
          ]
        },
        {
          "output_type": "stream",
          "name": "stdout",
          "text": [
            "Model converged at 13729 iteration\n"
          ]
        },
        {
          "output_type": "stream",
          "name": "stderr",
          "text": [
            "\r 50%|█████     | 3/6 [02:31<02:30, 50.22s/it]"
          ]
        },
        {
          "output_type": "stream",
          "name": "stdout",
          "text": [
            "Model converged at 13733 iteration\n"
          ]
        },
        {
          "output_type": "stream",
          "name": "stderr",
          "text": [
            "\r 67%|██████▋   | 4/6 [03:33<01:49, 54.93s/it]"
          ]
        },
        {
          "output_type": "stream",
          "name": "stdout",
          "text": [
            "Model converged at 17408 iteration\n"
          ]
        },
        {
          "output_type": "stream",
          "name": "stderr",
          "text": [
            "\r 83%|████████▎ | 5/6 [04:37<00:58, 58.36s/it]"
          ]
        },
        {
          "output_type": "stream",
          "name": "stdout",
          "text": [
            "Model converged at 18383 iteration\n"
          ]
        },
        {
          "output_type": "stream",
          "name": "stderr",
          "text": [
            "100%|██████████| 6/6 [05:45<00:00, 57.62s/it]"
          ]
        },
        {
          "output_type": "stream",
          "name": "stdout",
          "text": [
            "Model converged at 18722 iteration\n"
          ]
        },
        {
          "output_type": "stream",
          "name": "stderr",
          "text": [
            "\n"
          ]
        },
        {
          "output_type": "display_data",
          "data": {
            "text/plain": [
              "<Figure size 1000x600 with 1 Axes>"
            ],
            "image/png": "[encoded data removed]"
          },
          "metadata": {}
        }
      ]
    },
    {
      "cell_type": "markdown",
      "source": [
        "**Question**\n",
        "Your experiments should reveal that when trained with the noisy data, both L1 and L2 regulated logistic regression models would have substantially reduced training accuracies, but the validation accuracies will only suffer a mild reduction.  \n",
        "\n",
        "Here I provide two possible explanations for this phenonmenon:\n",
        "1. This is due to the use of regularization, which reduces the model's ability to overfit to the noise.\n",
        "2. This is due to the similicity of the model, which just could not overfit to the noise very well.\n",
        "\n",
        "For this case, what do you think is the main cause for the observe phenomenon? Why?\n",
        "\n",
        "Please design another experiment that will allow you to figure out which of the two possibilities plays a more critical role in the observed phenomenon. You do not have to run this experiment, but need to explain the experiment and why it would help.\n"
      ],
      "metadata": {
        "id": "OL-EIkrVizZb"
      }
    },
    {
      "cell_type": "markdown",
      "source": [
        "**Your answer goes here.**\n",
        "\n",
        "In the above experiment, we can clearly see that the training accuracy for both the L1 and L2 regularizations is below 63%, but the validation accuracy is around 78%. Therefore, there is a huge reduction in training accuracy while there is a small reduction in validation accuracy for both L1 and L2 regularization. Also, we can observe that there is very little or no effect of different lambdas on validation accuracy for both regularizations. So, it shows that regularization has little influence on the model.\n",
        "\n",
        "We can do one more experiment to verify which phenonmenon either regularization or simplicity of the model\n",
        "\n",
        "**Experiment:<br>**\n",
        "Train three versions of logistic regression models on noisy data:\n",
        "\n",
        "**L1 Regularized Logistic Regression:** As before, train a logistic regression model with L1 regularization.\n",
        "\n",
        "**L2 Regularized Logistic Regression:** Train a logistic regression model with L2 regularization.\n",
        "\n",
        "**Non-Regularized Logistic Regression:** Train a logistic regression model without any regularization.\n",
        "\n",
        "Now, compare the training and validation accuracy of all three models. If regularization is the primary cause of the observed phenomenon, you would expect the non-regularized model to have a higher training accuracy (as it's more prone to overfitting the noise) and a lower validation accuracy (as it may generalize poorly), but for the L1 and L2 regularized models, it will have reduced training accuracy (which prevents overfitting) and relatively higher validation accuracy (increase generalization). This would support the hypothesis that **regularization** is responsible for the observed phenomenon.\n",
        "\n",
        "However, if the non-regularized model has reduced training accuracy and relatively higher validation accuracy as a result of L1 and L2 regularization, then this would support the hypothesis that **model simplicity** plays a more critical role in the observed phenomenon.\n",
        "\n"
      ],
      "metadata": {
        "id": "EmKd-MT8u34x"
      }
    }
  ]
}