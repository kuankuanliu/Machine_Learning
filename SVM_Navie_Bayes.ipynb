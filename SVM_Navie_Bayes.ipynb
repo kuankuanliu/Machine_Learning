{
 "cells": [
  {
   "cell_type": "markdown",
   "metadata": {
    "id": "zOK-6wmkFuv6"
   },
   "source": [
    "# AI534 Implementation Assignment 3###\n",
    "\n",
    "**Deadline**: Sunday, Nov. 19, by 11:59pm\n",
    "\n",
    "**Submission**: Submit 1) your completed notebook in ipynb format, and 2) a PDF export of the completed notebook with outputs.\n",
    "\n",
    "**Late Submission**: Please see the syllabus for the late submission policy.\n",
    "\n",
    "In this assignment, you will use the sklearn package to experiment with Support Vector Machines and Naive Bayes models. The experiments will utilize the validation data to perform parameter tuning and explore the impact of different parameters on the models' behavior.\n",
    "\n",
    "You may modify the starter code as you see fit, including changing existing or adding new code blocks. However, please ensure that your modifications are clear so that your TA can easily understand what you are doing and why."
   ]
  },
  {
   "cell_type": "markdown",
   "metadata": {
    "id": "J7zBMGIZp_Cr"
   },
   "source": [
    "First let's import the packages needed for this assignment."
   ]
  },
  {
   "cell_type": "code",
   "execution_count": null,
   "metadata": {
    "id": "uxYTpds7jgwe"
   },
   "outputs": [],
   "source": [
    "import pandas as pd\n",
    "import numpy as np\n",
    "import matplotlib.pyplot as plt\n",
    "\n",
    "from sklearn import svm\n",
    "from sklearn.naive_bayes import MultinomialNB\n",
    "from sklearn.feature_extraction.text import TfidfVectorizer\n",
    "from sklearn.metrics import accuracy_score\n",
    "\n",
    "import seaborn as sns\n"
   ]
  },
  {
   "cell_type": "markdown",
   "metadata": {
    "id": "XTy88JS_qJHg"
   },
   "source": [
    "# Data\n",
    "The data for this assignment consists of a natural language sentiment dataset sourced from Twitter. The first column indicates sentiment of the tweets (zero representing negative sentiment and one for positive sentiment) and the second column contains the text of the tweets.\n",
    "\n",
    "Two datasets are provided on Canvas: a training set named 'IA3-training.csv' and a validation set named 'IA3-dev.csv'. You will use the training set to build your models and the validation set to tune the parameters and observe their impacts."
   ]
  },
  {
   "cell_type": "markdown",
   "metadata": {
    "id": "53t1CXu5VK4k"
   },
   "source": [
    "Let's load the data."
   ]
  },
  {
   "cell_type": "code",
   "execution_count": null,
   "metadata": {
    "colab": {
     "base_uri": "https://localhost:8080/"
    },
    "id": "E6K8DsDcwjS6",
    "outputId": "31b24bc1-5d46-4176-80a6-5cfcb51404ca"
   },
   "outputs": [
    {
     "name": "stdout",
     "output_type": "stream",
     "text": [
      "Mounted at /content/gdrive\n"
     ]
    }
   ],
   "source": [
    "from google.colab import drive\n",
    "drive.mount('/content/gdrive')\n",
    "\n",
    "train_path = '/content/gdrive/My Drive/AI534/IA3-train.csv' # DO NOT MODIFY THIS. Please make sure your data has this exact path\n",
    "val_path   = '/content/gdrive/My Drive/AI534/IA3-dev.csv'   # DO NOT MODIFY THIS. Please make sure your data has this exact path\n",
    "\n",
    "train_data = pd.read_csv(train_path)\n",
    "val_data   = pd.read_csv(val_path)"
   ]
  },
  {
   "cell_type": "markdown",
   "metadata": {
    "id": "VDHJMP7mtF3L"
   },
   "source": [
    "# Part 0: Preprocessing to form BoW Representation (5 pts)\n",
    "In this part, you will take the text of the tweets and convert it to the bag-of-words (BoW) representation that can be processed by the model you will train. First, you will build your BoW vocabulary using the training set and represent your training set using *tf-idf*.\n",
    "\n",
    "Here ***tf*** stands for term frequecy and is defined as follows for a document $d$ and term $t$:\n",
    "\n",
    "$TF(t,d) = \\frac{\\mbox{Num. of times } t \\mbox{ appears in } d}{\\mbox{Total number of terms in }d}$\n",
    "\n",
    "and ***idf*** stands for inverse document frequency and is defined as follows for a term $t$ and a document collection $D$\n",
    "\n",
    "$IDF(t, D) = \\log(\\frac{N}{|\\{d\\in D: t\\in d\\}|}) $\n",
    "\n",
    "\n",
    "where $N$ is the total number of documents in $D$, and $|\\{d\\in D: t\\in d\\}|$ is the number of documents that contain term $t$."
   ]
  },
  {
   "cell_type": "markdown",
   "metadata": {
    "id": "cfxECUTqiziU"
   },
   "source": [
    "\n",
    "Specifically, you will be using the **TfidfVectorizer** class from the sklearn.feature_extraction.text package (https://scikit-learn.org/stable/modules/generated/sklearn.feature_extraction.text.TfidfVectorizer.html#). For this assignment, you should set '***stop_words=english***', other parameters can remain at their default values.\n",
    "\n",
    "The specific methods you will need to use include:\n",
    "\n",
    "*   ***fit_transform()***:  You will apply this function to the training text to learn the vocabulary and the inverse document frequency, and generate the tf-idf representation for the training documents.\n",
    "\n",
    "*   ***transform()***: you will apply this function to the validation text to generate the tf-idf representation for the validation documents, using a vocabulary and inverse document frequency that are already learned from the training data.\n",
    "\n",
    "Note that both of the above methods return a sparse matrix representation of the documents. This format can be directly used by the SVM package and the Naive Bayes Package for learning. Using a sparse matrix for your document representation is computationally much more efficient, especially for SVM models."
   ]
  },
  {
   "cell_type": "code",
   "execution_count": null,
   "metadata": {
    "id": "KelbPLaAjT5Y"
   },
   "outputs": [],
   "source": [
    "# Your code goes here\n",
    "tweets_train  = train_data['text'].values.tolist()     # Converting all the training tweets into list\n",
    "tweets_val    = val_data['text'].values.tolist()       # Converting all the valiation tweets into list\n",
    "\n",
    "vectorizer    = TfidfVectorizer(stop_words='english')  # Creating instance\n",
    "\n",
    "X_train       = vectorizer.fit_transform(tweets_train) # Creating tf-idf for the training documents\n",
    "X_val         = vectorizer.transform(tweets_val)       # Generating tf-idf for validation documents\n",
    "\n",
    "Y_train       = train_data['sentiment'].values         # Sentiments label from training data\n",
    "Y_val         = val_data['sentiment'].values           # Sentiments label from validation data"
   ]
  },
  {
   "cell_type": "markdown",
   "metadata": {
    "id": "sy9Jv2k_p3Gb"
   },
   "source": [
    "**Question**\n",
    "1. Examine the types of words present in each of the three categories: 'common', 'positive', and 'negative'. Describe the nature and characteristics of these words.\n",
    "2. Reflect on how a linear classification model might utilize the words from each category. What are your expectations regarding the sign (positive or negative) and magnitude (size) of the weights that would be assigned to these words by the model?"
   ]
  },
  {
   "cell_type": "code",
   "execution_count": null,
   "metadata": {
    "colab": {
     "base_uri": "https://localhost:8080/"
    },
    "id": "MwTr_1U7mc3Q",
    "outputId": "e84f6270-cc4f-456a-cb03-73093d124882"
   },
   "outputs": [
    {
     "name": "stderr",
     "output_type": "stream",
     "text": [
      "  0%|          | 58/85371 [00:00<03:18, 428.77it/s]"
     ]
    },
    {
     "name": "stdout",
     "output_type": "stream",
     "text": [
      "###Examples from Positive Words###\n",
      "['pleasure', 'thnx', 'prove', 'cool', 'fuck', 'letting', 'phones', 'smiling', 'suck', 'hate', 'shortly', 'fav', 'appreciated', 'welcome', 'thankyou', 'nope', 'hilarious', 'apology', 'lets', 'respect']\n",
      "###Examples from Negative Words###\n",
      "['embarrassing', 'bish', 'hello', 'ticks', 'outta', 'thread', 'fuck', 'xx', 'certainly', 'noooooooooooooooooooooope', 'jetblue', 'hell', 'solution', 'false', 'united', 'southwestair', 'shared', 'dmed', 'wheelchairs', 'usairways', 'americanair']\n",
      "###Examples from Common Words###\n",
      "{'fuck'}\n"
     ]
    },
    {
     "name": "stderr",
     "output_type": "stream",
     "text": [
      "\n"
     ]
    }
   ],
   "source": [
    "# Answer 1)\n",
    "from tqdm import tqdm\n",
    "\n",
    "all_features = vectorizer.get_feature_names_out()       # bag of words (vocabulary)\n",
    "tf_idf_score = X_train.data                             # Score of training words\n",
    "\n",
    "sorted_index  = np.argsort(tf_idf_score)[::-1]          # Arranging the array in decending order\n",
    "tf_idf_indexs = X_train.indices[sorted_index]\n",
    "\n",
    "top_positive_word = []\n",
    "top_negative_word = []\n",
    "\n",
    "for ind in tqdm(tf_idf_indexs):                         # loop through highest tf-idf score\n",
    "  word = all_features[ind]\n",
    "\n",
    "  for ind, X in enumerate(tweets_train):\n",
    "\n",
    "    if word in X:\n",
    "      if (Y_train[ind] == 1) and (len(top_positive_word) <= 20):     # if the training label of the collection is positive\n",
    "        top_positive_word.append(word)\n",
    "        top_positive_word = list(set(top_positive_word))             # filter redundant words\n",
    "        break\n",
    "\n",
    "      elif (Y_train[ind] == 0) and (len(top_negative_word) <= 20):   # if the training label of the collection is negative\n",
    "        top_negative_word.append(word)\n",
    "        top_negative_word = list(set(top_negative_word))             # filter redundant words\n",
    "        break\n",
    "\n",
    "  if (len(top_positive_word) >= 20) and (len(top_negative_word) >= 20):\n",
    "    break\n",
    "\n",
    "print('###Examples from Positive Words###')\n",
    "print(top_positive_word)\n",
    "\n",
    "print('###Examples from Negative Words###')\n",
    "print(top_negative_word)\n",
    "\n",
    "print('###Examples from Common Words###')\n",
    "print(set(top_positive_word) - set(set(top_positive_word) - set(top_negative_word))) # Extracting only the common words from both positive and negative words"
   ]
  },
  {
   "cell_type": "markdown",
   "metadata": {
    "id": "lRedNvbKuWGb"
   },
   "source": [
    "**Your answer goes here.**<br>\n",
    "Answer 1) <br>\n",
    "Nature and characteristics of these three categories is explained below:<br>\n",
    "1.  Common words: <br>\n",
    "This is a netural word which neither provides positive nor negative sentiment in the sentences. They are frequent and widely used in everyday language which essential for constructing sentences and conveying basic meaning but carries no siginificat semantic information. These words are mostly preposition, articles, conjunctions, etc.<br>\n",
    "Examples from our training data are <b>'is', 'in', 'of', 'there', 'was', 'and, at, etc.</b>\n",
    "\n",
    "2. Positive words:<br>\n",
    "Positive words are those that convey a positive sentiment or favorable meaning. These words provides overall positive tone to a piece of text.<br>\n",
    "Examples from our training data are <b>'great', 'love', 'save', 'thank', 'wonderful', 'hope', 'Nice'.</b>\n",
    "\n",
    "3. Negative words:\n",
    "Negative words are those that convey a negative sentiment or unfavorable meaning. These words provides overall negative tone to a piece of text.<br>\n",
    "Examples from our training data are <b>'Cancelled', 'unacceptable', 'Disappointed', 'error', 'miss'</b>\n",
    "\n",
    "Answer 2) <br>\n",
    "If we use the linear classification model and assign positive words as '1' and negative words as '0', then the negative words will have negative weights while positive words will have positive weights. And the strong sentiment words like 'great', 'wonderful', and 'love' that appear mostly in the positive sentiment in the training data will have a higher positive magnitude, while the words like 'disappointed' and 'cancelled' that appear repeatedly in the negative sentiment in the training data will have a higher negative magnitude."
   ]
  },
  {
   "cell_type": "markdown",
   "metadata": {
    "id": "hMNtcBhauj2L"
   },
   "source": [
    "# Part 1. (30 pts) Linear SVM.\n",
    "Use sklearn to train linear SVMs and tune the hyperparameter $c$ using grid search, considering $c = 10^i$ with $i$ ranging from -3 to 3, based on the validation accuracy. For each $c$ value, please\n",
    "1. build a linear SVM model using the svm.SVC class\n",
    "2. record the total number of support vectors of your model\n",
    "3. evaluate the model's accuracy on the training data and validation data respectively.\n",
    "\n",
    "\n",
    "Please produce the following two plots:\n",
    "1.   Accuracy vs. $c$. In this plot, please plot both the training and validation accuracy as a function of the $c$ parameter (using log scale for $c$)\n",
    "2.   Number of support vectors vs. $c$. In this plot, please plot the # of total support vectors for your SVM mdoel as a function of the $c$ parameter (using log scale for $c$)."
   ]
  },
  {
   "cell_type": "code",
   "execution_count": 109,
   "metadata": {
    "colab": {
     "base_uri": "https://localhost:8080/"
    },
    "id": "NgrKbR2uEoPI",
    "outputId": "2b801b5f-26cd-4bfe-f3f6-935ef8d96572"
   },
   "outputs": [
    {
     "name": "stdout",
     "output_type": "stream",
     "text": [
      "Number of Support Vectors: 3697\n",
      "Training Accuracy: 79.6333 | Validation Accuracy: 79.04\n"
     ]
    }
   ],
   "source": [
    "from os import access\n",
    "# Your code goes here.`\n",
    "c = 0.001\n",
    "\n",
    "def evaluate_SVM(c, predict_train=True):\n",
    "  # Building linear SVM\n",
    "  svm_model = svm.SVC(kernel='linear', C = c)\n",
    "  svm_model.fit(X_train, Y_train) # Fitting training data for SVM model\n",
    "\n",
    "  train_acc = 0.0\n",
    "  if predict_train:\n",
    "    # Predict Training accuracy\n",
    "    Y_train_pred = svm_model.predict(X_train)\n",
    "    train_acc    = accuracy_score(Y_train, Y_train_pred)\n",
    "\n",
    "  # Predict Validation accuracy\n",
    "  Y_val_pred   = svm_model.predict(X_val)\n",
    "  val_acc      = accuracy_score(Y_val, Y_val_pred)\n",
    "\n",
    "  return svm_model, train_acc, val_acc\n",
    "\n",
    "svm_model, train_acc, val_acc = evaluate_SVM(c)                                                           # Build SVM Model\n",
    "print(f\"Number of Support Vectors: {svm_model.support_vectors_.shape[0]}\")                                # Record total number of support vectors\n",
    "print(f\"Training Accuracy: {round(train_acc * 100, 4)} | Validation Accuracy: {round(val_acc*100, 4)}\")   # Evaluate the model's accuracy on the training data and validation data\n"
   ]
  },
  {
   "cell_type": "code",
   "execution_count": 111,
   "metadata": {
    "colab": {
     "base_uri": "https://localhost:8080/"
    },
    "id": "9dvuzwokjJhg",
    "outputId": "25a84cf2-9f5d-4097-ccb3-02014b50b830"
   },
   "outputs": [
    {
     "name": "stderr",
     "output_type": "stream",
     "text": [
      "100%|██████████| 7/7 [00:59<00:00,  8.53s/it]\n"
     ]
    }
   ],
   "source": [
    "import matplotlib.pyplot as plt\n",
    "from tqdm import tqdm\n",
    "\n",
    "\n",
    "# Creating a search grid for tunning hypterparamters c\n",
    "accuracies_train    = []      # Store training accuracy for different value of c\n",
    "accuracies_val      = []      # Store validation accuracy for different value of c\n",
    "num_support_vectors = []      # Store support vectors for different value of c\n",
    "\n",
    "c_range             = range(-3, 4)\n",
    "\n",
    "for i in tqdm(c_range):\n",
    "  c = 10**i\n",
    "\n",
    "  svm_model, train_acc, val_acc = evaluate_SVM(c)\n",
    "\n",
    "  accuracies_val.append(val_acc)                      # Store the validation accuracy\n",
    "  accuracies_train.append(train_acc)                  # Store the training accuracy\n",
    "\n",
    "  num_support_vectors.append(svm_model.support_vectors_.shape[0]) # Store number of support vectors"
   ]
  },
  {
   "cell_type": "code",
   "execution_count": 112,
   "metadata": {
    "colab": {
     "base_uri": "https://localhost:8080/",
     "height": 489
    },
    "id": "0Nxa6HlZrd50",
    "outputId": "66bd4f0f-268b-4b6f-a7c1-fd3f488da947"
   },
   "outputs": [
    {
     "name": "stdout",
     "output_type": "stream",
     "text": [
      "Value of c for Max accuracy: 1\n"
     ]
    },
    {
     "data": {
      "image/png": "[encoded data removed]",
      "text/plain": [
       "<Figure size 640x480 with 1 Axes>"
      ]
     },
     "metadata": {},
     "output_type": "display_data"
    }
   ],
   "source": [
    "# Plot accuracy vs log(c)for training and validation data\n",
    "c_all = [10**i for i in c_range]\n",
    "print(f\"Value of c for Max accuracy: {c_all[np.argmax(accuracies_val)]}\")\n",
    "\n",
    "plt.plot(np.log(c_all), accuracies_train, label='training', c='b')\n",
    "plt.plot(np.log(c_all), accuracies_val, label='validation', c='g')\n",
    "plt.title(\"Accuracy Vs log(c)\")\n",
    "plt.xlabel('log(c)')\n",
    "plt.ylabel('Accuracy')\n",
    "plt.legend()\n",
    "plt.show()"
   ]
  },
  {
   "cell_type": "code",
   "execution_count": 113,
   "metadata": {
    "colab": {
     "base_uri": "https://localhost:8080/",
     "height": 472
    },
    "id": "bpm62XAYsiJa",
    "outputId": "9f333fed-2ed8-449d-a649-55f56135e5a1"
   },
   "outputs": [
    {
     "data": {
      "image/png": "[encoded data removed]",
      "text/plain": [
       "<Figure size 640x480 with 1 Axes>"
      ]
     },
     "metadata": {},
     "output_type": "display_data"
    }
   ],
   "source": [
    "# plot number of support vectors vs log(c)\n",
    "\n",
    "plt.plot(np.log(c_all), num_support_vectors, label='training', c='b')\n",
    "plt.title(\"Number of Support Vectors Vs log(c)\")\n",
    "plt.xlabel('log(c)')\n",
    "plt.ylabel('num_support_vectors')\n",
    "plt.legend()\n",
    "plt.show()"
   ]
  },
  {
   "cell_type": "markdown",
   "metadata": {
    "id": "lHI18q2nEqIP"
   },
   "source": [
    "**Question**\n",
    "1. What trend do you theoretically expect to see for training and validation performance as we increase $c$? Why? Does the observed behavior match your expectation? If not, can you provide some explanation?\n",
    "2. What trend do you theoretically expect to see for the number of support vectors as we increase $c$? Why? Does the observed behavior match your expectation? If not, can you provide some explanation?  "
   ]
  },
  {
   "cell_type": "markdown",
   "metadata": {
    "id": "Dq9HRG17FTsM"
   },
   "source": [
    "**Your answer goes here**\n",
    "\n",
    "<b>Answer 1)</b> <br>\n",
    "<b>Theoretical:</b><br>\n",
    "Increasing the value of c tries to reduce the misclassification error by fitting each data point, which increases overfitting. Therefore, it increases training performance while generalization of the model decreases, reducing the validation performance of the model.\n",
    "\n",
    "<b>Practical Output:</b><br>\n",
    "Yes, our experiment matches our expectations. From the above plots, we can clearly observe that the training accuracy increased with increasing the value of 'c', while the validation accuracy only increased until 'c' equaled zero, after which its accuracy gradually decreased. Validation accuracy increased when the value of log(c) ranged from -6 to 0 because the model was underfitting, neglecting the misclassification error.\n",
    "\n",
    "\n",
    "<b> Answer 2) </b> <br>\n",
    "<b> Theoretical:</b>\n",
    "Increasing the value of c reduces number of support vectors since it tries to fit each training data points, reducing the margin. Reducing the margin reduces number of support vectors.\n",
    "\n",
    "<b>Practical Output:</b><br>\n",
    "Yes, our experience matches our theoretical expectations. From the plot between the number of support vectors and log(c), we can clearly see that the number of support vectors linearly increased to around 4000 and gradually decreased below 2600 and remained steady as we increased the value of c."
   ]
  },
  {
   "cell_type": "markdown",
   "metadata": {
    "id": "qbuVM4wIFXHs"
   },
   "source": [
    "Expand your search beyond the grid search for the parameter $c$.\n",
    "Here is the basic instruction:\n",
    "* **Boundary Expansion**: If the best-performing parameter choice is located at the edge of your current grid search range, extend this boundary outward. This approach helps to explore whether even better-performing parameters exist beyond the existing limits of your grid.\n",
    "\n",
    "* **Grid Refinement for Central Optima**: When the optimal parameter choice lies within the middle of your search grid, focus on refining the grid around this optimum. For instance, if your current best result is at $i=1$, consider adding intermediate points near the current best such as $i=0.5$ and $1.5$ to your search. This targeted refinement helps in achieving a more precise determination of the optimum within the identified range.\n",
    "\n",
    "Additionally, it's important to apply these strategies iteratively as needed. If subsequent searches reveal new boundaries or central optima, repeat the expansion or refinement process to continually hone in on the most effective parameters.\n",
    "\n"
   ]
  },
  {
   "cell_type": "code",
   "execution_count": 110,
   "metadata": {
    "colab": {
     "base_uri": "https://localhost:8080/"
    },
    "id": "xVXayLXuG-7_",
    "outputId": "ddecc818-cb1f-4db8-d330-4905684342da"
   },
   "outputs": [
    {
     "name": "stderr",
     "output_type": "stream",
     "text": [
      "100%|██████████| 6/6 [00:31<00:00,  5.24s/it]\n"
     ]
    },
    {
     "name": "stdout",
     "output_type": "stream",
     "text": [
      "min:-1.5, max:1.5, grid_step:0.5, C: 0.0 | accuracy: 0.9224\n"
     ]
    },
    {
     "name": "stderr",
     "output_type": "stream",
     "text": [
      "100%|██████████| 6/6 [00:29<00:00,  4.83s/it]\n"
     ]
    },
    {
     "name": "stdout",
     "output_type": "stream",
     "text": [
      "min:-0.375, max:0.375, grid_step:0.125, C: 0.0 | accuracy: 0.9224\n"
     ]
    },
    {
     "name": "stderr",
     "output_type": "stream",
     "text": [
      "100%|██████████| 6/6 [00:27<00:00,  4.64s/it]\n"
     ]
    },
    {
     "name": "stdout",
     "output_type": "stream",
     "text": [
      "min:0.1875, max:0.3125, grid_step:0.020833333333333332, C: 0.25 | accuracy: 0.9252\n"
     ]
    },
    {
     "name": "stderr",
     "output_type": "stream",
     "text": [
      "100%|██████████| 6/6 [00:29<00:00,  4.85s/it]\n"
     ]
    },
    {
     "name": "stdout",
     "output_type": "stream",
     "text": [
      "min:0.26302083333333337, max:0.27864583333333337, grid_step:0.0026041666666666665, C: 0.27083333333333337 | accuracy: 0.9256\n"
     ]
    },
    {
     "name": "stderr",
     "output_type": "stream",
     "text": [
      "100%|██████████| 6/6 [00:27<00:00,  4.65s/it]\n"
     ]
    },
    {
     "name": "stdout",
     "output_type": "stream",
     "text": [
      "min:0.25520833333333337, max:0.26302083333333337, grid_step:0.0026041666666666665, C: 0.26302083333333337 | accuracy: 0.9256\n"
     ]
    },
    {
     "name": "stderr",
     "output_type": "stream",
     "text": [
      "100%|██████████| 3/3 [00:14<00:00,  4.86s/it]\n"
     ]
    },
    {
     "name": "stdout",
     "output_type": "stream",
     "text": [
      "min:0.25781250000000006, max:0.27083333333333337, grid_step:0.0026041666666666665, C: 0.25781250000000006 | accuracy: 0.9256\n"
     ]
    },
    {
     "name": "stderr",
     "output_type": "stream",
     "text": [
      "100%|██████████| 5/5 [00:24<00:00,  4.81s/it]"
     ]
    },
    {
     "name": "stdout",
     "output_type": "stream",
     "text": [
      "min:0.25000000000000006, max:0.25781250000000006, grid_step:0.0026041666666666665, C: 0.25781250000000006 | accuracy: 0.9256\n",
      "Best value of c 1.8656635785769125 Best Accuracy:  0.9256\n"
     ]
    },
    {
     "name": "stderr",
     "output_type": "stream",
     "text": [
      "\n"
     ]
    }
   ],
   "source": [
    "# Your code goes here\n",
    "# Searching in the range of 0.25 to 1.75\n",
    "import matplotlib.pyplot as plt\n",
    "from tqdm import tqdm\n",
    "\n",
    "# Creating a search grid for tunning hypterparamters c\n",
    "accuracies_train    = []      # Store training accuracy for different value of c\n",
    "optimal_acc_all     = []      # Store validation accuracy for different value of c\n",
    "optimal_c_all       = []      # Store optimal value of c\n",
    "num_support_vectors = []      # Store support vectors for different value of c\n",
    "\n",
    "min_range           = -3\n",
    "max_range           = 3\n",
    "grid_step           = 1\n",
    "\n",
    "stop_c_val          = 0.00001\n",
    "prev_acc            = 0.0\n",
    "\n",
    "num_step            = 0\n",
    "prev_acc            = 1000\n",
    "\n",
    "same_acc_count      = 0\n",
    "\n",
    "while True:\n",
    "  c_range = np.arange(min_range, max_range, grid_step, dtype=float)\n",
    "  accuracies_val = []\n",
    "\n",
    "  for i in tqdm(c_range):\n",
    "\n",
    "    c = 10**i\n",
    "\n",
    "    svm_model, train_acc, val_acc = evaluate_SVM(c, predict_train=False)\n",
    "    accuracies_val.append(val_acc)                      # Store the validation accuracy\n",
    "\n",
    "  optimal_c   = c_range[np.argmax(accuracies_val)]\n",
    "  optimal_acc = np.max(accuracies_val)\n",
    "\n",
    "  num_step += 1\n",
    "\n",
    "  # calculate new range\n",
    "  if (optimal_c == c_range[0]):\n",
    "    min_range += -3 * grid_step\n",
    "    max_range = optimal_c\n",
    "\n",
    "  elif (optimal_c == c_range[1]):\n",
    "    max_range += 3 * grid_step\n",
    "    min_range = optimal_c\n",
    "\n",
    "  else:\n",
    "    grid_step = grid_step / (2*num_step)\n",
    "    min_range = optimal_c - 3 * grid_step\n",
    "    max_range = optimal_c + 3 * grid_step\n",
    "\n",
    "\n",
    "  print(f'min:{min_range}, max:{max_range}, grid_step:{grid_step}, C: {optimal_c} | accuracy: {optimal_acc}')\n",
    "\n",
    "  same_acc_count = (same_acc_count + 1) if abs(prev_acc - optimal_acc) < 1e-3 else 0\n",
    "\n",
    "  if same_acc_count > 3:\n",
    "    break\n",
    "  prev_acc = optimal_acc\n",
    "\n",
    "  optimal_acc_all.append(optimal_acc)\n",
    "  optimal_c_all.append(optimal_c)\n",
    "\n",
    "ind = np.argmax(optimal_acc_all)\n",
    "print(\"Best value of c\", 10**(optimal_c_all[ind]), \"Best Accuracy: \", optimal_acc_all[ind])"
   ]
  },
  {
   "cell_type": "markdown",
   "metadata": {
    "id": "oIozWHZjHAyj"
   },
   "source": [
    "**Question:**\n",
    "What is the best validation performance you are able to achieve using linear SVM on this dataset? What $c$ value is used?\n",
    "\n",
    "Answer: The best validation accuracy is 0.9256 using linear SVM on the given dataset. The value of c is 1.8656635785769125"
   ]
  },
  {
   "cell_type": "markdown",
   "metadata": {
    "id": "VYbHzZgxK-RS"
   },
   "source": [
    "For the best performing linear SVM model that you built, identify and report the ten words with the highest positive weight coefficients and the ten words with the highest negative weight coefficients, separately."
   ]
  },
  {
   "cell_type": "code",
   "execution_count": null,
   "metadata": {
    "colab": {
     "base_uri": "https://localhost:8080/"
    },
    "id": "BGF8hWc2NIK4",
    "outputId": "04561c50-6ba8-4e26-cfa4-3fc7381c9f68"
   },
   "outputs": [
    {
     "name": "stdout",
     "output_type": "stream",
     "text": [
      "(10748,)\n",
      "Top ten words with highest positive weight coefficient\n",
      "word: thank | weight : 5.3640505630429285\n",
      "word: thanks | weight : 4.927407018958909\n",
      "word: awesome | weight : 3.743383553079377\n",
      "word: great | weight : 3.613105156826408\n",
      "word: kudos | weight : 3.4368616416401814\n",
      "word: love | weight : 3.0957925958680375\n",
      "word: excellent | weight : 2.9084835730279206\n",
      "word: amazing | weight : 2.8386753458124017\n",
      "word: best | weight : 2.694490604218021\n",
      "word: appreciate | weight : 2.4189915340998533\n",
      "############################################################\n",
      "Top ten words with highest negative weight coefficient\n",
      "word: worst | weight : -3.065378481242382\n",
      "word: hold | weight : -2.809432570739567\n",
      "word: hours | weight : -2.6007924587434235\n",
      "word: hour | weight : -2.3163933122902014\n",
      "word: website | weight : -2.2812090838530876\n",
      "word: luggage | weight : -2.205132245106403\n",
      "word: delayed | weight : -2.132692732027176\n",
      "word: paid | weight : -1.8709818874773707\n",
      "word: delay | weight : -1.8156610702566187\n",
      "word: sit | weight : -1.7964710679874405\n"
     ]
    }
   ],
   "source": [
    "# Your code goes here\n",
    "all_features = vectorizer.get_feature_names_out() # Name of the word being trained\n",
    "print(all_features.shape)\n",
    "feature_weights = svm_model.coef_.data            # weight coefficient of the words being trained\n",
    "feature_index   = svm_model.coef_.indices         # feature index respective to weight coefficient\n",
    "\n",
    "# Calculation of ten words with highest positive weight coefficient\n",
    "sorted_index          = np.argsort(feature_weights)[::-1][:10] # Fliping to get the decending\n",
    "sorted_features_index = feature_index[sorted_index]            # Select the top 10 sorted index\n",
    "sorted_weights        = feature_weights[sorted_index]          # Select the top 10 sorted weights\n",
    "\n",
    "print(\"Top ten words with highest positive weight coefficient\")\n",
    "for word, weight in zip(all_features[sorted_features_index], sorted_weights):\n",
    "  print(f\"word: {word} | weight : {weight}\")\n",
    "\n",
    "print(\"############################################################\")\n",
    "# Calculation of ten words with highest negative weight coefficient\n",
    "sorted_index          = np.argsort(feature_weights)[:10]\n",
    "sorted_features_index = feature_index[sorted_index]            # Select the top 10 sorted index\n",
    "sorted_weights        = feature_weights[sorted_index]          # Select the top 10 sorted weights\n",
    "\n",
    "print(\"Top ten words with highest negative weight coefficient\")\n",
    "for word, weight in zip(all_features[sorted_features_index], sorted_weights):\n",
    "  print(f\"word: {word} | weight : {weight}\")"
   ]
  },
  {
   "cell_type": "markdown",
   "metadata": {
    "id": "WKLV4USMOFoc"
   },
   "source": [
    "# Part 2. (35 pts) SVM with RBF kernel\n",
    "\n",
    "Use sklearn to train SVMs with RBF kernel and tune the hyperparameters $c$ and $\\gamma$ ($\\gamma=1/\\sigma^2$ in the RBF kernel definition provided in the lecture slides) using grid search based on the validation accuracy. For $c$, please search over $c = 10^i$ with $i$ ranging from $-3$ to $3$. For $\\gamma$, please search over $\\gamma=10^{-i}$ with $i$ ranging from -3 to 1.  For each $c$ and $\\gamma$ value combination, please\n",
    "1. build a SVM model using the svm.SVC class with kernel=\"rbf\"\n",
    "2. record the total number of support vectors of your model\n",
    "3. evaluate the model's accuracy on the training data and validation data respectively.\n",
    "\n",
    "\n",
    "Please plot the training accuracy, validation accuracy, and the number of support vectors as function of $c$ and $\\gamma$ using the heatmap function from the seaborn package (https://seaborn.pydata.org/generated/seaborn.heatmap.html). Please use 'annot=True' and specify appropriate format to ensure the annotation can be easily read on the heatmap.\n"
   ]
  },
  {
   "cell_type": "code",
   "execution_count": 114,
   "metadata": {
    "colab": {
     "base_uri": "https://localhost:8080/"
    },
    "id": "ahexiQHudOfX",
    "outputId": "6faa8314-c435-4c01-adb1-38f4132563e1"
   },
   "outputs": [
    {
     "name": "stdout",
     "output_type": "stream",
     "text": [
      "Number of Support Vectors: 3677\n",
      "Training Accuracy: 79.6333 | Validation Accuracy: 79.04\n"
     ]
    }
   ],
   "source": [
    "# Your code goes here\n",
    "from os import access\n",
    "# Your code goes here.`\n",
    "c = 0.001\n",
    "gamma = 1\n",
    "\n",
    "def evaluate_SVM(c, gamma, predict_train=True):\n",
    "  # Building linear SVM\n",
    "  svm_model = svm.SVC(kernel='rbf', C = c, gamma=gamma)\n",
    "  svm_model.fit(X_train, Y_train) # Fitting training data for SVM model\n",
    "\n",
    "  train_acc = 0.0\n",
    "  if predict_train:\n",
    "    # Predict Training accuracy\n",
    "    Y_train_pred = svm_model.predict(X_train)\n",
    "    train_acc    = accuracy_score(Y_train, Y_train_pred)\n",
    "\n",
    "  # Predict Validation accuracy\n",
    "  Y_val_pred   = svm_model.predict(X_val)\n",
    "  val_acc      = accuracy_score(Y_val, Y_val_pred)\n",
    "\n",
    "  return svm_model, train_acc, val_acc\n",
    "\n",
    "svm_model, train_acc, val_acc = evaluate_SVM(c, gamma)                                                 # 1) build a SVM model using the svm.SVC class with kernel=\"rbf\"\n",
    "print(f\"Number of Support Vectors: {svm_model.support_vectors_.shape[0]}\")                             # 2) record the total number of support vectors of your model\n",
    "print(f\"Training Accuracy: {round(train_acc * 100, 4)} | Validation Accuracy: {round(val_acc*100, 4)}\")# 3) evaluate the model's accuracy on the training data and validation data respectively\n"
   ]
  },
  {
   "cell_type": "code",
   "execution_count": 115,
   "metadata": {
    "colab": {
     "base_uri": "https://localhost:8080/"
    },
    "id": "U7O4BibGZNuw",
    "outputId": "6b027d34-bae2-422f-c46d-761b85677d15"
   },
   "outputs": [
    {
     "name": "stderr",
     "output_type": "stream",
     "text": [
      "0it [00:00, ?it/s]\n",
      "0it [00:00, ?it/s]\u001b[A\n",
      "1it [00:09,  9.54s/it]\u001b[A\n",
      "2it [00:18,  9.43s/it]\u001b[A\n",
      "3it [00:28,  9.70s/it]\u001b[A\n",
      "4it [00:37,  9.36s/it]\u001b[A\n",
      "5it [00:48,  9.69s/it]\n",
      "1it [00:48, 48.45s/it]\n",
      "0it [00:00, ?it/s]\u001b[A\n",
      "1it [00:08,  8.35s/it]\u001b[A\n",
      "2it [00:18,  9.51s/it]\u001b[A\n",
      "3it [00:27,  9.35s/it]\u001b[A\n",
      "4it [00:40, 10.82s/it]\u001b[A\n",
      "5it [01:19, 15.91s/it]\n",
      "2it [02:08, 66.76s/it]\n",
      "0it [00:00, ?it/s]\u001b[A\n",
      "1it [00:10, 10.76s/it]\u001b[A\n",
      "2it [00:25, 13.20s/it]\u001b[A\n",
      "3it [00:36, 11.91s/it]\u001b[A\n",
      "4it [00:49, 12.52s/it]\u001b[A\n",
      "5it [01:21, 16.37s/it]\n",
      "3it [03:29, 73.66s/it]\n",
      "0it [00:00, ?it/s]\u001b[A\n",
      "1it [00:08,  8.81s/it]\u001b[A\n",
      "2it [00:19, 10.21s/it]\u001b[A\n",
      "3it [00:29,  9.98s/it]\u001b[A\n",
      "4it [00:43, 11.44s/it]\u001b[A\n",
      "5it [01:19, 15.99s/it]\n",
      "4it [04:49, 76.15s/it]\n",
      "0it [00:00, ?it/s]\u001b[A\n",
      "1it [00:11, 11.20s/it]\u001b[A\n",
      "2it [00:20, 10.18s/it]\u001b[A\n",
      "3it [00:30,  9.98s/it]\u001b[A\n",
      "4it [00:49, 13.50s/it]\u001b[A\n",
      "5it [01:43, 20.62s/it]\n",
      "5it [06:33, 85.88s/it]\n",
      "0it [00:00, ?it/s]\u001b[A\n",
      "1it [00:10, 10.60s/it]\u001b[A\n",
      "2it [00:18,  9.27s/it]\u001b[A\n",
      "3it [00:29,  9.99s/it]\u001b[A\n",
      "4it [00:49, 13.64s/it]\u001b[A\n",
      "5it [01:42, 20.54s/it]\n",
      "6it [08:15, 91.60s/it]\n",
      "0it [00:00, ?it/s]\u001b[A\n",
      "1it [00:08,  8.86s/it]\u001b[A\n",
      "2it [00:18,  9.11s/it]\u001b[A\n",
      "3it [00:29, 10.23s/it]\u001b[A\n",
      "4it [00:52, 15.30s/it]\u001b[A\n",
      "5it [01:46, 21.27s/it]\n",
      "7it [10:02, 86.01s/it]\n"
     ]
    }
   ],
   "source": [
    "from tqdm import tqdm\n",
    "\n",
    "# Creating a search grid for tunning hypterparamters c\n",
    "accuracies_train    = []      # Store training accuracy for different value of c\n",
    "accuracies_val      = []      # Store validation accuracy for different value of c\n",
    "num_support_vectors = []      # Store support vectors for different value of c\n",
    "\n",
    "c_ranges            = range(-3, 4)\n",
    "lambda_ranges       = range(-3, 2)\n",
    "\n",
    "for ind_i, i in tqdm(enumerate(c_ranges)):\n",
    "  c = 10**i\n",
    "  accuracies_val.append([])\n",
    "  accuracies_train.append([])\n",
    "  num_support_vectors.append([])\n",
    "\n",
    "  for ind_j, j in tqdm(enumerate(lambda_ranges)):\n",
    "\n",
    "    gamma  = 10**(-j)\n",
    "    svm_model, train_acc, val_acc = evaluate_SVM(c, gamma)\n",
    "\n",
    "    accuracies_val[ind_i].append(val_acc)                                    # Store the validation accuracy\n",
    "    accuracies_train[ind_i].append(train_acc)                                # Store the training accuracy\n",
    "    num_support_vectors[ind_i].append(svm_model.support_vectors_.shape[0])   # Store number of support vectors"
   ]
  },
  {
   "cell_type": "code",
   "execution_count": 116,
   "metadata": {
    "colab": {
     "base_uri": "https://localhost:8080/"
    },
    "id": "wjn0TulZNP0f",
    "outputId": "d4bf7907-1a9d-4df6-9b2c-c76197571314"
   },
   "outputs": [
    {
     "data": {
      "text/plain": [
       "[[3666, 3666, 3666, 3677, 3745],\n",
       " [3666, 3666, 3818, 4645, 8937],\n",
       " [3666, 3816, 4033, 4666, 8937],\n",
       " [3819, 3992, 3596, 4803, 8866],\n",
       " [3989, 3499, 3246, 5264, 8821],\n",
       " [3494, 3059, 3179, 5264, 8821],\n",
       " [3044, 2734, 3213, 5264, 8821]]"
      ]
     },
     "execution_count": 116,
     "metadata": {},
     "output_type": "execute_result"
    }
   ],
   "source": [
    "accuracies_train\n",
    "accuracies_val\n",
    "num_support_vectors"
   ]
  },
  {
   "cell_type": "code",
   "execution_count": 117,
   "metadata": {
    "colab": {
     "base_uri": "https://localhost:8080/",
     "height": 466
    },
    "id": "9ZManFv6NKx3",
    "outputId": "1e314fe5-63fd-4688-c2ae-6d1324f2fbab"
   },
   "outputs": [
    {
     "data": {
      "text/plain": [
       "[Text(0.5, 23.52222222222222, 'lamda'), Text(50.722222222222214, 0.5, 'c')]"
      ]
     },
     "execution_count": 117,
     "metadata": {},
     "output_type": "execute_result"
    },
    {
     "data": {
      "image/png": "[encoded data removed]",
      "text/plain": [
       "<Figure size 640x480 with 2 Axes>"
      ]
     },
     "metadata": {},
     "output_type": "display_data"
    }
   ],
   "source": [
    "import seaborn as sns\n",
    "\n",
    "c_ranges            = [10**i for i in range(-3, 4)]\n",
    "lambda_ranges       = [10**(-i)for i in range(-3, 2)]\n",
    "\n",
    "ax = sns.heatmap(accuracies_train, annot=True, xticklabels = lambda_ranges, yticklabels = c_ranges)\n",
    "ax.set(xlabel=\"lamda\", ylabel=\"c\")"
   ]
  },
  {
   "cell_type": "code",
   "execution_count": 118,
   "metadata": {
    "colab": {
     "base_uri": "https://localhost:8080/",
     "height": 466
    },
    "id": "8Lbc3mikMYGi",
    "outputId": "92b2a4c0-80a0-4402-fd02-031afe7810af"
   },
   "outputs": [
    {
     "data": {
      "text/plain": [
       "[Text(0.5, 23.52222222222222, 'lamda'), Text(50.722222222222214, 0.5, 'c')]"
      ]
     },
     "execution_count": 118,
     "metadata": {},
     "output_type": "execute_result"
    },
    {
     "data": {
      "image/png": "[encoded data removed]",
      "text/plain": [
       "<Figure size 640x480 with 2 Axes>"
      ]
     },
     "metadata": {},
     "output_type": "display_data"
    }
   ],
   "source": [
    "import seaborn as sns\n",
    "\n",
    "c_ranges            = [10**i for i in range(-3, 4)]\n",
    "lambda_ranges       = [10**(-i)for i in range(-3, 2)]\n",
    "\n",
    "ax = sns.heatmap(accuracies_val, annot=True, xticklabels = lambda_ranges, yticklabels = c_ranges)\n",
    "ax.set(xlabel=\"lamda\", ylabel=\"c\")"
   ]
  },
  {
   "cell_type": "code",
   "execution_count": 119,
   "metadata": {
    "colab": {
     "base_uri": "https://localhost:8080/",
     "height": 466
    },
    "id": "-XF2V-xCSoa9",
    "outputId": "dcabba92-fb7d-43af-beb2-e9353fcf052b"
   },
   "outputs": [
    {
     "data": {
      "text/plain": [
       "[Text(0.5, 23.52222222222222, 'lamda'), Text(50.722222222222214, 0.5, 'c')]"
      ]
     },
     "execution_count": 119,
     "metadata": {},
     "output_type": "execute_result"
    },
    {
     "data": {
      "image/png": "[encoded data removed]",
      "text/plain": [
       "<Figure size 640x480 with 2 Axes>"
      ]
     },
     "metadata": {},
     "output_type": "display_data"
    }
   ],
   "source": [
    "import seaborn as sns\n",
    "\n",
    "c_ranges            = [10**i for i in range(-3, 4)]\n",
    "lambda_ranges       = [10**(-i)for i in range(-3, 2)]\n",
    "\n",
    "ax = sns.heatmap(num_support_vectors, annot=True, xticklabels = lambda_ranges, yticklabels = c_ranges)\n",
    "ax.set(xlabel=\"lamda\", ylabel=\"c\")"
   ]
  },
  {
   "cell_type": "markdown",
   "metadata": {
    "id": "hNB91yGIdSU5"
   },
   "source": [
    "**Question**\n",
    "1. From a theoretical perspective, how would you expect the parameters $c$ and $\\gamma$ to influence the model's ability to overfit to the training data? Based on this perspective, how would you expect the training accuracy to change as you change $c$ (keeping $\\gamma$ constant), and as you change $\\gamma$ (keeping $c$ constant)? Are there any discrepancies between the expected and observed trends? If so, provide some possible explanations for the discrepancies.\n",
    "\n",
    "2. Similarly, how would you expect the validation accuracy to change as you change $c$ (keeping $\\gamma$ constant) and as you change $\\gamma$ (keeping $c$ constant)? Are there any discrepancies between the expected and observed trends? If so, please provide some possible explanations for the differences.\n",
    "\n",
    "3. From a theoretical perspective, how would you expect the parameters $c$ and $\\gamma$ influence the number of support vectors? Are there any discrepencies between the expected and observed trends?  If so, provide some possible explanations for the differences."
   ]
  },
  {
   "cell_type": "markdown",
   "metadata": {
    "id": "lYMyGlQhze04"
   },
   "source": [
    "**Your answer goes here**\n",
    "\n",
    "\n",
    "1. Influence on Training Accuracy:\n",
    "\n",
    " Higher values of C allow the model to classify more training points correctly, potentially leading to overfitting as it becomes more sensitive to individual data points.\n",
    "  The parameter $\\gamma$ in the RBF kernel controls the shape of the decision boundary. Larger values of $\\gamma$ lead to a more complex decision boundary, which might overfit the training data.\n",
    "  Increasing c (keeping $\\gamma$ constant) should, increase the training accuracy as the model becomes more sensitive to individual data points. Similarly, increasing $\\gamma$ (keeping c constant) should also increase training accuracy because it allows the model to create a more complex decision boundary.\n",
    "  The observed trend of increasing training accuracy with increasing C aligns with expectations.\n",
    "  The observed trend of increasing training accuracy with increasing $\\gamma$ also aligns with expectations.\n",
    "  \n",
    "\n",
    "  2. Influence on Validation Accuracy:\n",
    "\n",
    "  Increasing c (keeping $\\gamma$ constant) should, increase the validation accuracy as the model becomes better at predicting the data but will likely decrease at larger values as it overfits on the training data. Similarly, increasing $\\gamma$ (keeping c constant) should also increase training validation because as it creates more complex decision boundary but this too will overfit on the training data at larger values.\n",
    "  This fits the observed data, we see a general increase in training data for increases in c and $\\gamma$ that decreases again at larger values.\n",
    "\n",
    "3. Influence on Number of Support Vectors:\n",
    "Higher values of c should lead to fewer support vectors as the model becomes more focused on correctly classifying each training example. A larger $\\gamma$ should result in more support vectors as it creates a more complex decision boundary.\n",
    "This mostly fits the overved data. We see some deviation ar lerger values, for example, for the largest value of $\\gamma$, we see that as c increases the number of support vectors increases instead of decreasnig as expected. THis is likely due to complex interactions between c and $\\gamma$, In this case it is likely that the increaded complexity of the decision boundary benefited from more support vectors despite the higher penalty."
   ]
  },
  {
   "cell_type": "markdown",
   "metadata": {
    "id": "Ncsldt9I1-sq"
   },
   "source": [
    "Expand your search using the strategy introduced in part 1 to search for the $c$ and $\\gamma$ values that leads to the highest validation accuracy on this data set. Please report the best validation accuracy you achieve and the corresponding $c$ and $\\gamma$ values used."
   ]
  },
  {
   "cell_type": "code",
   "execution_count": 74,
   "metadata": {
    "id": "bSrXmbtCJQnP"
   },
   "outputs": [],
   "source": [
    "# Your code goes here\n",
    "\n",
    "import matplotlib.pyplot as plt\n",
    "from tqdm import tqdm\n",
    "\n",
    "# This function calculates the best value of gamma through looping\n",
    "def find_best_gamma(c, min_range_gamma, max_range_gamma, grid_step_gamma, num_step_gamma, prev_acc_gamma, same_acc_count_gamma):\n",
    "  # Loop until you find the best gamma value\n",
    "  while True:\n",
    "    gamma_range          = np.arange(min_range_gamma, max_range_gamma, grid_step_gamma, dtype=float)\n",
    "    accuracies_val_gamma = []\n",
    "\n",
    "    for g in (gamma_range):\n",
    "      gamma = 10**(-g)\n",
    "      svm_model, train_acc, val_acc = evaluate_SVM(c, gamma, predict_train=False)\n",
    "      accuracies_val_gamma.append(val_acc)               # Store the validation accuracy\n",
    "\n",
    "    optimal_gamma   = gamma_range[np.argmax(accuracies_val_gamma)]\n",
    "    optimal_acc     = np.max(accuracies_val_gamma)\n",
    "\n",
    "    num_step_gamma += 1\n",
    "\n",
    "    print(f'min:{10**(-min_range_gamma)}, max:{10**(-max_range_gamma)}, grid_step:{grid_step_gamma}, gamma: {10**(-optimal_gamma)} | accuracy: {optimal_acc}')\n",
    "\n",
    "    # calculate new range\n",
    "    if (optimal_gamma == gamma_range[0]):\n",
    "      min_range_gamma = optimal_gamma -1 * grid_step_gamma\n",
    "      max_range_gamma = optimal_gamma\n",
    "\n",
    "    elif (optimal_gamma == gamma_range[1]):\n",
    "      max_range_gamma = optimal_gamma + 1 * grid_step_gamma\n",
    "      min_range_gamma = optimal_gamma\n",
    "\n",
    "    else:\n",
    "      grid_step_gamma = grid_step_gamma / (2*num_step_gamma)\n",
    "      min_range_gamma = optimal_gamma - 2 * grid_step_gamma\n",
    "      max_range_gamma = optimal_gamma + 2 * grid_step_gamma\n",
    "\n",
    "\n",
    "    same_acc_count_gamma = (same_acc_count_gamma + 1) if abs(prev_acc_gamma - optimal_acc) < 1e-4 else 0\n",
    "\n",
    "    if same_acc_count_gamma > 2:                           # Break the loop if the accuracy doesn't changes\n",
    "      break\n",
    "\n",
    "    prev_acc_gamma = optimal_acc\n",
    "\n",
    "    optimal_acc_gamma_all.append(optimal_acc)\n",
    "    optimal_gamma_all.append(optimal_gamma)\n",
    "\n",
    "  ind        = np.argmax(optimal_acc_gamma_all)\n",
    "  best_gamma = optimal_gamma_all[ind]\n",
    "  best_acc   = optimal_acc_gamma_all[ind]\n",
    "\n",
    "  return best_gamma, best_acc\n"
   ]
  },
  {
   "cell_type": "code",
   "execution_count": 99,
   "metadata": {
    "id": "t2A3L2w9VXhy"
   },
   "outputs": [],
   "source": [
    "# This function calculates the best value of c through looping\n",
    "def find_best_c(gamma, min_range_c, max_range_c, grid_step_c, num_step_c, prev_acc_c, same_acc_count_c):\n",
    "  # Loop until you find the best gamma value\n",
    "  while True:\n",
    "    c_range          = np.arange(min_range_c, max_range_c, grid_step_c, dtype=float)\n",
    "    accuracies_val_c = []\n",
    "\n",
    "    for c in tqdm(c_range):\n",
    "      c = 10**(c)\n",
    "      svm_model, train_acc, val_acc = evaluate_SVM(c, gamma, predict_train=False)\n",
    "      accuracies_val_c.append(val_acc)               # Store the validation accuracy\n",
    "\n",
    "    optimal_c   = c_range[np.argmax(accuracies_val_c)]\n",
    "    optimal_acc = np.max(accuracies_val_c)\n",
    "\n",
    "    num_step_c += 1\n",
    "\n",
    "    print(f'min:{10**(min_range_c)}, max:{10**(max_range_c)}, grid_step:{grid_step_c}, c: {10**(optimal_c)} | accuracy: {optimal_acc}')\n",
    "\n",
    "    # calculate new range\n",
    "    if (optimal_c == c_range[0]):\n",
    "      min_range_c = optimal_c - 1 * grid_step_c\n",
    "      max_range_c = optimal_c\n",
    "\n",
    "    elif (optimal_c == c_range[1]):\n",
    "      max_range_c = optimal_c + 1 * grid_step_c\n",
    "      min_range_c = optimal_c\n",
    "\n",
    "    else:\n",
    "      grid_step_c = grid_step_c / (2*num_step_c)\n",
    "      min_range_c = optimal_c - 2 * grid_step_c\n",
    "      max_range_c = optimal_c + 2 * grid_step_c\n",
    "\n",
    "\n",
    "    same_acc_count_c = (same_acc_count_c + 1) if abs(prev_acc_c - optimal_acc) < 1e-4 else 0\n",
    "\n",
    "    if same_acc_count_c > 2:                           # Break the loop if the accuracy doesn't changes\n",
    "      break\n",
    "\n",
    "    prev_acc_c = optimal_acc\n",
    "\n",
    "    optimal_acc_c_all.append(optimal_acc)\n",
    "    optimal_c_all.append(optimal_c)\n",
    "\n",
    "  ind        = np.argmax(optimal_acc_c_all)\n",
    "  best_c     = optimal_c_all[ind]\n",
    "  best_acc   = optimal_acc_c_all[ind]\n",
    "\n",
    "  return best_c, best_acc"
   ]
  },
  {
   "cell_type": "code",
   "execution_count": 76,
   "metadata": {
    "colab": {
     "base_uri": "https://localhost:8080/",
     "height": 1000
    },
    "id": "t7GvsqUKX3ZD",
    "outputId": "89aff588-1ae4-41b7-c6d5-bc68cbed59a4"
   },
   "outputs": [
    {
     "name": "stderr",
     "output_type": "stream",
     "text": [
      "\r",
      "  0%|          | 0/7 [00:00<?, ?it/s]"
     ]
    },
    {
     "name": "stdout",
     "output_type": "stream",
     "text": [
      "C 0.001\n",
      "min:1000, max:0.01, grid_step:1, gamma: 1000.0 | accuracy: 0.7904\n",
      "min:10000.0, max:1000.0, grid_step:1, gamma: 10000.0 | accuracy: 0.7904\n",
      "min:100000.0, max:10000.0, grid_step:1, gamma: 100000.0 | accuracy: 0.7904\n"
     ]
    },
    {
     "name": "stderr",
     "output_type": "stream",
     "text": [
      "\r",
      " 14%|█▍        | 1/7 [01:00<06:04, 60.76s/it]"
     ]
    },
    {
     "name": "stdout",
     "output_type": "stream",
     "text": [
      "min:1000000.0, max:100000.0, grid_step:1, gamma: 1000000.0 | accuracy: 0.7904\n",
      "C 0.01\n",
      "min:1000, max:0.01, grid_step:1, gamma: 1000.0 | accuracy: 0.7904\n",
      "min:10000.0, max:1000.0, grid_step:1, gamma: 10000.0 | accuracy: 0.7904\n",
      "min:100000.0, max:10000.0, grid_step:1, gamma: 100000.0 | accuracy: 0.7904\n"
     ]
    },
    {
     "name": "stderr",
     "output_type": "stream",
     "text": [
      "\r",
      " 29%|██▊       | 2/7 [02:49<07:23, 88.74s/it]"
     ]
    },
    {
     "name": "stdout",
     "output_type": "stream",
     "text": [
      "min:1000000.0, max:100000.0, grid_step:1, gamma: 1000000.0 | accuracy: 0.7904\n",
      "C 0.1\n",
      "min:1000, max:0.01, grid_step:1, gamma: 1.0 | accuracy: 0.8232\n",
      "min:10.0, max:0.1, grid_step:0.5, gamma: 0.31622776601683794 | accuracy: 0.8248\n",
      "min:0.5623413251903491, max:0.1778279410038923, grid_step:0.125, gamma: 0.5623413251903491 | accuracy: 0.8288\n",
      "min:0.7498942093324559, max:0.5623413251903491, grid_step:0.125, gamma: 0.7498942093324559 | accuracy: 0.828\n",
      "min:1.0, max:0.7498942093324559, grid_step:0.125, gamma: 1.0 | accuracy: 0.8232\n",
      "min:1.333521432163324, max:1.0, grid_step:0.125, gamma: 1.333521432163324 | accuracy: 0.8148\n",
      "min:1.7782794100389228, max:1.333521432163324, grid_step:0.125, gamma: 1.7782794100389228 | accuracy: 0.808\n",
      "min:2.371373705661655, max:1.7782794100389228, grid_step:0.125, gamma: 2.371373705661655 | accuracy: 0.8036\n",
      "min:3.1622776601683795, max:2.371373705661655, grid_step:0.125, gamma: 3.1622776601683795 | accuracy: 0.802\n",
      "min:4.216965034285822, max:3.1622776601683795, grid_step:0.125, gamma: 4.216965034285822 | accuracy: 0.7992\n",
      "min:5.623413251903491, max:4.216965034285822, grid_step:0.125, gamma: 5.623413251903491 | accuracy: 0.7992\n",
      "min:7.498942093324558, max:5.623413251903491, grid_step:0.125, gamma: 7.498942093324558 | accuracy: 0.7972\n",
      "min:10.0, max:7.498942093324558, grid_step:0.125, gamma: 10.0 | accuracy: 0.7972\n",
      "min:13.33521432163324, max:10.0, grid_step:0.125, gamma: 13.33521432163324 | accuracy: 0.7972\n"
     ]
    },
    {
     "name": "stderr",
     "output_type": "stream",
     "text": [
      "\r",
      " 43%|████▎     | 3/7 [09:50<16:03, 240.85s/it]"
     ]
    },
    {
     "name": "stdout",
     "output_type": "stream",
     "text": [
      "min:17.78279410038923, max:13.33521432163324, grid_step:0.125, gamma: 17.78279410038923 | accuracy: 0.7972\n",
      "C 1\n",
      "min:1000, max:0.01, grid_step:1, gamma: 1.0 | accuracy: 0.9128\n",
      "min:10.0, max:0.1, grid_step:0.5, gamma: 1.0 | accuracy: 0.9128\n",
      "min:1.7782794100389228, max:0.5623413251903491, grid_step:0.125, gamma: 0.7498942093324559 | accuracy: 0.9144\n",
      "min:0.8254041852680184, max:0.6812920690579612, grid_step:0.020833333333333332, gamma: 0.7498942093324559 | accuracy: 0.9144\n",
      "min:0.7589415559523426, max:0.7409547161832591, grid_step:0.0026041666666666665, gamma: 0.754404319997192 | accuracy: 0.9144\n"
     ]
    },
    {
     "name": "stderr",
     "output_type": "stream",
     "text": [
      "\r",
      " 57%|█████▋    | 4/7 [14:38<12:58, 259.36s/it]"
     ]
    },
    {
     "name": "stdout",
     "output_type": "stream",
     "text": [
      "min:0.754404319997192, max:0.7498942093324559, grid_step:0.0026041666666666665, gamma: 0.754404319997192 | accuracy: 0.9144\n",
      "C 10\n",
      "min:1000, max:0.01, grid_step:1, gamma: 0.1 | accuracy: 0.9252\n",
      "min:1.0, max:0.01, grid_step:0.5, gamma: 0.31622776601683794 | accuracy: 0.926\n",
      "min:0.31622776601683794, max:0.1, grid_step:0.5, gamma: 0.31622776601683794 | accuracy: 0.926\n",
      "min:1.0, max:0.31622776601683794, grid_step:0.5, gamma: 1.0 | accuracy: 0.9188\n",
      "min:3.1622776601683795, max:1.0, grid_step:0.5, gamma: 3.1622776601683795 | accuracy: 0.8356\n",
      "min:10.0, max:3.1622776601683795, grid_step:0.5, gamma: 10.0 | accuracy: 0.806\n",
      "min:31.622776601683793, max:10.0, grid_step:0.5, gamma: 31.622776601683793 | accuracy: 0.8052\n",
      "min:100.0, max:31.622776601683793, grid_step:0.5, gamma: 100.0 | accuracy: 0.8052\n",
      "min:316.22776601683796, max:100.0, grid_step:0.5, gamma: 316.22776601683796 | accuracy: 0.8052\n"
     ]
    },
    {
     "name": "stderr",
     "output_type": "stream",
     "text": [
      "\r",
      " 71%|███████▏  | 5/7 [23:15<11:44, 352.03s/it]"
     ]
    },
    {
     "name": "stdout",
     "output_type": "stream",
     "text": [
      "min:1000.0, max:316.22776601683796, grid_step:0.5, gamma: 1000.0 | accuracy: 0.8052\n",
      "C 100\n",
      "min:1000, max:0.01, grid_step:1, gamma: 1.0 | accuracy: 0.9188\n",
      "min:10.0, max:0.1, grid_step:0.5, gamma: 0.31622776601683794 | accuracy: 0.9228\n",
      "min:0.5623413251903491, max:0.1778279410038923, grid_step:0.125, gamma: 0.4216965034285822 | accuracy: 0.9256\n",
      "min:0.4216965034285822, max:0.31622776601683794, grid_step:0.125, gamma: 0.4216965034285822 | accuracy: 0.9256\n",
      "min:0.5623413251903491, max:0.4216965034285822, grid_step:0.125, gamma: 0.5623413251903491 | accuracy: 0.924\n",
      "min:0.7498942093324559, max:0.5623413251903491, grid_step:0.125, gamma: 0.7498942093324559 | accuracy: 0.9228\n",
      "min:1.0, max:0.7498942093324559, grid_step:0.125, gamma: 1.0 | accuracy: 0.9188\n",
      "min:1.333521432163324, max:1.0, grid_step:0.125, gamma: 1.333521432163324 | accuracy: 0.9132\n",
      "min:1.7782794100389228, max:1.333521432163324, grid_step:0.125, gamma: 1.7782794100389228 | accuracy: 0.9076\n",
      "min:2.371373705661655, max:1.7782794100389228, grid_step:0.125, gamma: 2.371373705661655 | accuracy: 0.88\n",
      "min:3.1622776601683795, max:2.371373705661655, grid_step:0.125, gamma: 3.1622776601683795 | accuracy: 0.8356\n",
      "min:4.216965034285822, max:3.1622776601683795, grid_step:0.125, gamma: 4.216965034285822 | accuracy: 0.8148\n",
      "min:5.623413251903491, max:4.216965034285822, grid_step:0.125, gamma: 5.623413251903491 | accuracy: 0.8096\n",
      "min:7.498942093324558, max:5.623413251903491, grid_step:0.125, gamma: 7.498942093324558 | accuracy: 0.8072\n",
      "min:10.0, max:7.498942093324558, grid_step:0.125, gamma: 10.0 | accuracy: 0.806\n"
     ]
    },
    {
     "name": "stderr",
     "output_type": "stream",
     "text": [
      "\r",
      " 71%|███████▏  | 5/7 [34:24<13:45, 412.82s/it]\n"
     ]
    },
    {
     "ename": "KeyboardInterrupt",
     "evalue": "ignored",
     "output_type": "error",
     "traceback": [
      "\u001b[0;31m---------------------------------------------------------------------------\u001b[0m",
      "\u001b[0;31mKeyboardInterrupt\u001b[0m                         Traceback (most recent call last)",
      "\u001b[0;32m<ipython-input-76-1d3d0c7a2bf4>\u001b[0m in \u001b[0;36m<cell line: 8>\u001b[0;34m()\u001b[0m\n\u001b[1;32m     28\u001b[0m   \u001b[0msame_acc_count_gamma\u001b[0m   \u001b[0;34m=\u001b[0m \u001b[0;36m0\u001b[0m\u001b[0;34m\u001b[0m\u001b[0;34m\u001b[0m\u001b[0m\n\u001b[1;32m     29\u001b[0m \u001b[0;34m\u001b[0m\u001b[0m\n\u001b[0;32m---> 30\u001b[0;31m   \u001b[0mbest_gamma\u001b[0m\u001b[0;34m,\u001b[0m \u001b[0mbest_acc\u001b[0m \u001b[0;34m=\u001b[0m \u001b[0mfind_best_gamma\u001b[0m\u001b[0;34m(\u001b[0m\u001b[0mc\u001b[0m\u001b[0;34m,\u001b[0m \u001b[0mmin_range_gamma\u001b[0m\u001b[0;34m,\u001b[0m \u001b[0mmax_range_gamma\u001b[0m\u001b[0;34m,\u001b[0m \u001b[0mgrid_step_gamma\u001b[0m\u001b[0;34m,\u001b[0m \u001b[0mnum_step_gamma\u001b[0m\u001b[0;34m,\u001b[0m \u001b[0mprev_acc_gamma\u001b[0m\u001b[0;34m,\u001b[0m \u001b[0msame_acc_count_gamma\u001b[0m\u001b[0;34m)\u001b[0m\u001b[0;34m\u001b[0m\u001b[0;34m\u001b[0m\u001b[0m\n\u001b[0m\u001b[1;32m     31\u001b[0m \u001b[0;34m\u001b[0m\u001b[0m\n\u001b[1;32m     32\u001b[0m   \u001b[0mbest_gammas\u001b[0m\u001b[0;34m.\u001b[0m\u001b[0mappend\u001b[0m\u001b[0;34m(\u001b[0m\u001b[0mbest_gamma\u001b[0m\u001b[0;34m)\u001b[0m\u001b[0;34m\u001b[0m\u001b[0;34m\u001b[0m\u001b[0m\n",
      "\u001b[0;32m<ipython-input-74-869581df71e4>\u001b[0m in \u001b[0;36mfind_best_gamma\u001b[0;34m(c, min_range_gamma, max_range_gamma, grid_step_gamma, num_step_gamma, prev_acc_gamma, same_acc_count_gamma)\u001b[0m\n\u001b[1;32m     13\u001b[0m     \u001b[0;32mfor\u001b[0m \u001b[0mg\u001b[0m \u001b[0;32min\u001b[0m \u001b[0;34m(\u001b[0m\u001b[0mgamma_range\u001b[0m\u001b[0;34m)\u001b[0m\u001b[0;34m:\u001b[0m\u001b[0;34m\u001b[0m\u001b[0;34m\u001b[0m\u001b[0m\n\u001b[1;32m     14\u001b[0m       \u001b[0mgamma\u001b[0m \u001b[0;34m=\u001b[0m \u001b[0;36m10\u001b[0m\u001b[0;34m**\u001b[0m\u001b[0;34m(\u001b[0m\u001b[0;34m-\u001b[0m\u001b[0mg\u001b[0m\u001b[0;34m)\u001b[0m\u001b[0;34m\u001b[0m\u001b[0;34m\u001b[0m\u001b[0m\n\u001b[0;32m---> 15\u001b[0;31m       \u001b[0msvm_model\u001b[0m\u001b[0;34m,\u001b[0m \u001b[0mtrain_acc\u001b[0m\u001b[0;34m,\u001b[0m \u001b[0mval_acc\u001b[0m \u001b[0;34m=\u001b[0m \u001b[0mevaluate_SVM\u001b[0m\u001b[0;34m(\u001b[0m\u001b[0mc\u001b[0m\u001b[0;34m,\u001b[0m \u001b[0mgamma\u001b[0m\u001b[0;34m,\u001b[0m \u001b[0mpredict_train\u001b[0m\u001b[0;34m=\u001b[0m\u001b[0;32mFalse\u001b[0m\u001b[0;34m)\u001b[0m\u001b[0;34m\u001b[0m\u001b[0;34m\u001b[0m\u001b[0m\n\u001b[0m\u001b[1;32m     16\u001b[0m       \u001b[0maccuracies_val_gamma\u001b[0m\u001b[0;34m.\u001b[0m\u001b[0mappend\u001b[0m\u001b[0;34m(\u001b[0m\u001b[0mval_acc\u001b[0m\u001b[0;34m)\u001b[0m               \u001b[0;31m# Store the validation accuracy\u001b[0m\u001b[0;34m\u001b[0m\u001b[0;34m\u001b[0m\u001b[0m\n\u001b[1;32m     17\u001b[0m \u001b[0;34m\u001b[0m\u001b[0m\n",
      "\u001b[0;32m<ipython-input-43-8ea91ba6b609>\u001b[0m in \u001b[0;36mevaluate_SVM\u001b[0;34m(c, gamma, predict_train)\u001b[0m\n\u001b[1;32m      8\u001b[0m   \u001b[0;31m# Building linear SVM\u001b[0m\u001b[0;34m\u001b[0m\u001b[0;34m\u001b[0m\u001b[0m\n\u001b[1;32m      9\u001b[0m   \u001b[0msvm_model\u001b[0m \u001b[0;34m=\u001b[0m \u001b[0msvm\u001b[0m\u001b[0;34m.\u001b[0m\u001b[0mSVC\u001b[0m\u001b[0;34m(\u001b[0m\u001b[0mkernel\u001b[0m\u001b[0;34m=\u001b[0m\u001b[0;34m'rbf'\u001b[0m\u001b[0;34m,\u001b[0m \u001b[0mC\u001b[0m \u001b[0;34m=\u001b[0m \u001b[0mc\u001b[0m\u001b[0;34m,\u001b[0m \u001b[0mgamma\u001b[0m\u001b[0;34m=\u001b[0m\u001b[0mgamma\u001b[0m\u001b[0;34m)\u001b[0m\u001b[0;34m\u001b[0m\u001b[0;34m\u001b[0m\u001b[0m\n\u001b[0;32m---> 10\u001b[0;31m   \u001b[0msvm_model\u001b[0m\u001b[0;34m.\u001b[0m\u001b[0mfit\u001b[0m\u001b[0;34m(\u001b[0m\u001b[0mX_train\u001b[0m\u001b[0;34m,\u001b[0m \u001b[0mY_train\u001b[0m\u001b[0;34m)\u001b[0m \u001b[0;31m# Fitting training data for SVM model\u001b[0m\u001b[0;34m\u001b[0m\u001b[0;34m\u001b[0m\u001b[0m\n\u001b[0m\u001b[1;32m     11\u001b[0m \u001b[0;34m\u001b[0m\u001b[0m\n\u001b[1;32m     12\u001b[0m   \u001b[0mtrain_acc\u001b[0m \u001b[0;34m=\u001b[0m \u001b[0;36m0.0\u001b[0m\u001b[0;34m\u001b[0m\u001b[0;34m\u001b[0m\u001b[0m\n",
      "\u001b[0;32m/usr/local/lib/python3.10/dist-packages/sklearn/svm/_base.py\u001b[0m in \u001b[0;36mfit\u001b[0;34m(self, X, y, sample_weight)\u001b[0m\n\u001b[1;32m    250\u001b[0m \u001b[0;34m\u001b[0m\u001b[0m\n\u001b[1;32m    251\u001b[0m         \u001b[0mseed\u001b[0m \u001b[0;34m=\u001b[0m \u001b[0mrnd\u001b[0m\u001b[0;34m.\u001b[0m\u001b[0mrandint\u001b[0m\u001b[0;34m(\u001b[0m\u001b[0mnp\u001b[0m\u001b[0;34m.\u001b[0m\u001b[0miinfo\u001b[0m\u001b[0;34m(\u001b[0m\u001b[0;34m\"i\"\u001b[0m\u001b[0;34m)\u001b[0m\u001b[0;34m.\u001b[0m\u001b[0mmax\u001b[0m\u001b[0;34m)\u001b[0m\u001b[0;34m\u001b[0m\u001b[0;34m\u001b[0m\u001b[0m\n\u001b[0;32m--> 252\u001b[0;31m         \u001b[0mfit\u001b[0m\u001b[0;34m(\u001b[0m\u001b[0mX\u001b[0m\u001b[0;34m,\u001b[0m \u001b[0my\u001b[0m\u001b[0;34m,\u001b[0m \u001b[0msample_weight\u001b[0m\u001b[0;34m,\u001b[0m \u001b[0msolver_type\u001b[0m\u001b[0;34m,\u001b[0m \u001b[0mkernel\u001b[0m\u001b[0;34m,\u001b[0m \u001b[0mrandom_seed\u001b[0m\u001b[0;34m=\u001b[0m\u001b[0mseed\u001b[0m\u001b[0;34m)\u001b[0m\u001b[0;34m\u001b[0m\u001b[0;34m\u001b[0m\u001b[0m\n\u001b[0m\u001b[1;32m    253\u001b[0m         \u001b[0;31m# see comment on the other call to np.iinfo in this file\u001b[0m\u001b[0;34m\u001b[0m\u001b[0;34m\u001b[0m\u001b[0m\n\u001b[1;32m    254\u001b[0m \u001b[0;34m\u001b[0m\u001b[0m\n",
      "\u001b[0;32m/usr/local/lib/python3.10/dist-packages/sklearn/svm/_base.py\u001b[0m in \u001b[0;36m_sparse_fit\u001b[0;34m(self, X, y, sample_weight, solver_type, kernel, random_seed)\u001b[0m\n\u001b[1;32m    371\u001b[0m             \u001b[0mself\u001b[0m\u001b[0;34m.\u001b[0m\u001b[0mfit_status_\u001b[0m\u001b[0;34m,\u001b[0m\u001b[0;34m\u001b[0m\u001b[0;34m\u001b[0m\u001b[0m\n\u001b[1;32m    372\u001b[0m             \u001b[0mself\u001b[0m\u001b[0;34m.\u001b[0m\u001b[0m_num_iter\u001b[0m\u001b[0;34m,\u001b[0m\u001b[0;34m\u001b[0m\u001b[0;34m\u001b[0m\u001b[0m\n\u001b[0;32m--> 373\u001b[0;31m         \u001b[0;34m)\u001b[0m \u001b[0;34m=\u001b[0m \u001b[0mlibsvm_sparse\u001b[0m\u001b[0;34m.\u001b[0m\u001b[0mlibsvm_sparse_train\u001b[0m\u001b[0;34m(\u001b[0m\u001b[0;34m\u001b[0m\u001b[0;34m\u001b[0m\u001b[0m\n\u001b[0m\u001b[1;32m    374\u001b[0m             \u001b[0mX\u001b[0m\u001b[0;34m.\u001b[0m\u001b[0mshape\u001b[0m\u001b[0;34m[\u001b[0m\u001b[0;36m1\u001b[0m\u001b[0;34m]\u001b[0m\u001b[0;34m,\u001b[0m\u001b[0;34m\u001b[0m\u001b[0;34m\u001b[0m\u001b[0m\n\u001b[1;32m    375\u001b[0m             \u001b[0mX\u001b[0m\u001b[0;34m.\u001b[0m\u001b[0mdata\u001b[0m\u001b[0;34m,\u001b[0m\u001b[0;34m\u001b[0m\u001b[0;34m\u001b[0m\u001b[0m\n",
      "\u001b[0;32msklearn/svm/_libsvm_sparse.pyx\u001b[0m in \u001b[0;36msklearn.svm._libsvm_sparse.libsvm_sparse_train\u001b[0;34m()\u001b[0m\n",
      "\u001b[0;32m/usr/local/lib/python3.10/dist-packages/scipy/sparse/_compressed.py\u001b[0m in \u001b[0;36m__init__\u001b[0;34m(self, arg1, shape, dtype, copy)\u001b[0m\n\u001b[1;32m     23\u001b[0m     \u001b[0;34m\"\"\"base matrix class for compressed row- and column-oriented matrices\"\"\"\u001b[0m\u001b[0;34m\u001b[0m\u001b[0;34m\u001b[0m\u001b[0m\n\u001b[1;32m     24\u001b[0m \u001b[0;34m\u001b[0m\u001b[0m\n\u001b[0;32m---> 25\u001b[0;31m     \u001b[0;32mdef\u001b[0m \u001b[0m__init__\u001b[0m\u001b[0;34m(\u001b[0m\u001b[0mself\u001b[0m\u001b[0;34m,\u001b[0m \u001b[0marg1\u001b[0m\u001b[0;34m,\u001b[0m \u001b[0mshape\u001b[0m\u001b[0;34m=\u001b[0m\u001b[0;32mNone\u001b[0m\u001b[0;34m,\u001b[0m \u001b[0mdtype\u001b[0m\u001b[0;34m=\u001b[0m\u001b[0;32mNone\u001b[0m\u001b[0;34m,\u001b[0m \u001b[0mcopy\u001b[0m\u001b[0;34m=\u001b[0m\u001b[0;32mFalse\u001b[0m\u001b[0;34m)\u001b[0m\u001b[0;34m:\u001b[0m\u001b[0;34m\u001b[0m\u001b[0;34m\u001b[0m\u001b[0m\n\u001b[0m\u001b[1;32m     26\u001b[0m         \u001b[0m_data_matrix\u001b[0m\u001b[0;34m.\u001b[0m\u001b[0m__init__\u001b[0m\u001b[0;34m(\u001b[0m\u001b[0mself\u001b[0m\u001b[0;34m)\u001b[0m\u001b[0;34m\u001b[0m\u001b[0;34m\u001b[0m\u001b[0m\n\u001b[1;32m     27\u001b[0m \u001b[0;34m\u001b[0m\u001b[0m\n",
      "\u001b[0;31mKeyboardInterrupt\u001b[0m: "
     ]
    }
   ],
   "source": [
    "# Finding the best value of gamma for different value of c (best pairr of c and gamma)\n",
    "c_ranges            = range(-3, 4)\n",
    "lambda_ranges       = range(-3, 2)\n",
    "\n",
    "best_gammas = []\n",
    "best_accs   = []\n",
    "best_cs     = []\n",
    "\n",
    "for i in tqdm(c_ranges):\n",
    "  c = 10**i\n",
    "\n",
    "  print(\"C\", c)\n",
    "  # Creating a search grid for tunning hypterparamters gamma\n",
    "  accuracies_train          = []      # Store training accuracy for different value of gamma\n",
    "  optimal_acc_gamma_all     = []      # Store validation accuracy for different value of gamma\n",
    "  optimal_gamma_all         = []      # Store optimal value of gamma\n",
    "  num_support_vectors       = []      # Store support vectors for different value of gamma\n",
    "\n",
    "  min_range_gamma        = -3\n",
    "  max_range_gamma        = 2\n",
    "\n",
    "  grid_step_gamma        = 1\n",
    "\n",
    "  prev_acc               = 0.0\n",
    "\n",
    "  num_step_gamma         = 0\n",
    "  prev_acc_gamma         = 1000\n",
    "\n",
    "  same_acc_count_gamma   = 0\n",
    "\n",
    "  best_gamma, best_acc = find_best_gamma(c, min_range_gamma, max_range_gamma, grid_step_gamma, num_step_gamma, prev_acc_gamma, same_acc_count_gamma)\n",
    "\n",
    "  best_gammas.append(best_gamma)\n",
    "  best_accs.append(best_acc)\n",
    "  best_cs.append(c)\n",
    "\n"
   ]
  },
  {
   "cell_type": "code",
   "execution_count": 105,
   "metadata": {
    "colab": {
     "base_uri": "https://localhost:8080/"
    },
    "id": "rqkm9604jR8v",
    "outputId": "671dcf5c-702d-4d99-e881-b3512b911e5c"
   },
   "outputs": [
    {
     "name": "stdout",
     "output_type": "stream",
     "text": [
      "Best c: 10 Best Gamma 0.31622776601683794 Best accuracy: 0.926\n"
     ]
    }
   ],
   "source": [
    "\n",
    "ind        = np.argmax(best_accs)\n",
    "best_c     = best_cs[ind]\n",
    "best_gamma = 10**(-best_gammas[ind])\n",
    "\n",
    "print('Best c:', best_c, 'Best Gamma', best_gamma, 'Best accuracy:',  best_accs[ind])"
   ]
  },
  {
   "cell_type": "code",
   "execution_count": 106,
   "metadata": {
    "colab": {
     "base_uri": "https://localhost:8080/"
    },
    "id": "zgUU7MPRcOPx",
    "outputId": "d87c371b-2b58-400f-e1fb-f3f53303babd"
   },
   "outputs": [
    {
     "name": "stderr",
     "output_type": "stream",
     "text": [
      "100%|██████████| 4/4 [00:27<00:00,  6.95s/it]\n"
     ]
    },
    {
     "name": "stdout",
     "output_type": "stream",
     "text": [
      "min:1.0, max:100.0, grid_step:0.5, c: 3.1622776601683795 | accuracy: 0.9264\n"
     ]
    },
    {
     "name": "stderr",
     "output_type": "stream",
     "text": [
      "100%|██████████| 1/1 [00:07<00:00,  7.05s/it]\n"
     ]
    },
    {
     "name": "stdout",
     "output_type": "stream",
     "text": [
      "min:3.1622776601683795, max:10.0, grid_step:0.5, c: 3.1622776601683795 | accuracy: 0.9264\n"
     ]
    },
    {
     "name": "stderr",
     "output_type": "stream",
     "text": [
      "100%|██████████| 1/1 [00:05<00:00,  5.64s/it]\n"
     ]
    },
    {
     "name": "stdout",
     "output_type": "stream",
     "text": [
      "min:1.0, max:3.1622776601683795, grid_step:0.5, c: 1.0 | accuracy: 0.9108\n"
     ]
    },
    {
     "name": "stderr",
     "output_type": "stream",
     "text": [
      "100%|██████████| 1/1 [00:05<00:00,  5.41s/it]\n"
     ]
    },
    {
     "name": "stdout",
     "output_type": "stream",
     "text": [
      "min:0.31622776601683794, max:1.0, grid_step:0.5, c: 0.31622776601683794 | accuracy: 0.8764\n"
     ]
    },
    {
     "name": "stderr",
     "output_type": "stream",
     "text": [
      "100%|██████████| 1/1 [00:06<00:00,  6.78s/it]\n"
     ]
    },
    {
     "name": "stdout",
     "output_type": "stream",
     "text": [
      "min:0.1, max:0.31622776601683794, grid_step:0.5, c: 0.1 | accuracy: 0.8248\n"
     ]
    },
    {
     "name": "stderr",
     "output_type": "stream",
     "text": [
      "100%|██████████| 1/1 [00:05<00:00,  5.85s/it]\n"
     ]
    },
    {
     "name": "stdout",
     "output_type": "stream",
     "text": [
      "min:0.03162277660168379, max:0.1, grid_step:0.5, c: 0.03162277660168379 | accuracy: 0.7976\n"
     ]
    },
    {
     "name": "stderr",
     "output_type": "stream",
     "text": [
      "100%|██████████| 1/1 [00:05<00:00,  5.40s/it]\n"
     ]
    },
    {
     "name": "stdout",
     "output_type": "stream",
     "text": [
      "min:0.01, max:0.03162277660168379, grid_step:0.5, c: 0.01 | accuracy: 0.7904\n"
     ]
    },
    {
     "name": "stderr",
     "output_type": "stream",
     "text": [
      "100%|██████████| 1/1 [00:06<00:00,  6.14s/it]\n"
     ]
    },
    {
     "name": "stdout",
     "output_type": "stream",
     "text": [
      "min:0.0031622776601683794, max:0.01, grid_step:0.5, c: 0.0031622776601683794 | accuracy: 0.7904\n"
     ]
    },
    {
     "name": "stderr",
     "output_type": "stream",
     "text": [
      "100%|██████████| 1/1 [00:05<00:00,  5.06s/it]\n"
     ]
    },
    {
     "name": "stdout",
     "output_type": "stream",
     "text": [
      "min:0.001, max:0.0031622776601683794, grid_step:0.5, c: 0.001 | accuracy: 0.7904\n"
     ]
    },
    {
     "name": "stderr",
     "output_type": "stream",
     "text": [
      "100%|██████████| 1/1 [00:04<00:00,  4.63s/it]"
     ]
    },
    {
     "name": "stdout",
     "output_type": "stream",
     "text": [
      "min:0.00031622776601683794, max:0.001, grid_step:0.5, c: 0.00031622776601683794 | accuracy: 0.7904\n",
      "Best fine tune value of c:  3.1622776601683795 best fine tuned gamma: 0.31622776601683794 Best accuracy: 0.9264\n"
     ]
    },
    {
     "name": "stderr",
     "output_type": "stream",
     "text": [
      "\n"
     ]
    }
   ],
   "source": [
    "# Expanding the space for c to find the best value of c provided best value of gamma\n",
    "accuracies_train     = []      # Store training accuracy for different value of gamma\n",
    "optimal_acc_c_all    = []      # Store validation accuracy for different value of gamma\n",
    "optimal_c_all        = []      # Store optimal value of gamma\n",
    "num_support_vectors  = []      # Store support vectors for different value of gamma\n",
    "\n",
    "min_range_c        = np.log10(best_c) - 1\n",
    "max_range_c        = np.log10(best_c) + 1\n",
    "\n",
    "grid_step_c        = 0.5\n",
    "\n",
    "num_step_c         = 0\n",
    "prev_acc_c         = 1000\n",
    "\n",
    "same_acc_count_c   = 0\n",
    "\n",
    "best_c, best_acc = find_best_c(best_gamma, min_range_c, max_range_c, grid_step_c, num_step_c, prev_acc_c, same_acc_count_c)\n",
    "print(\"Best fine tune value of c: \", 10**(best_c), \"best fine tuned gamma:\", best_gamma, \"Best accuracy:\", best_acc)\n"
   ]
  },
  {
   "cell_type": "markdown",
   "metadata": {
    "id": "NrPB1sLCg5OJ"
   },
   "source": [
    "Therefore, the best value of c is 3.1622776601683795 and gamma is 0.31622776601683794, accuracy: 0.9264"
   ]
  },
  {
   "cell_type": "markdown",
   "metadata": {
    "id": "qNGgSM6YoyMJ"
   },
   "source": [
    "# Part 3: (30 pts) Naive Bayes Classifier\n",
    "\n",
    "In this part, you will use the same TF-IDF representation of the documents and experiment with MultiNomial Naive Bayes classifier to tune the smoothing parameter $\\alpha$. Please consider the following initial values for $\\alpha$: [2, 1, 0.5, 0.1, 0.05, 0.01]\n",
    "\n",
    "For each of the $\\alpha$ value, please\n",
    "1. build a multinomial Naive Bayes model using the MultinomialNB class in the sklearn.naive_bayes package\n",
    "2. evaluate the model's accuracy on the training data and validation data respectively.\n",
    "\n",
    "For results, please\n",
    "1. plot the training and validation accuracy as a function of $\\alpha$ (using log scale).\n",
    "2. print out the best training accuracy with its corresponding $\\alpha$ and the best validation accuracy with its corresponding $\\alpha$."
   ]
  },
  {
   "cell_type": "code",
   "execution_count": null,
   "metadata": {
    "colab": {
     "base_uri": "https://localhost:8080/",
     "height": 666
    },
    "id": "Wpj-fa1puZy7",
    "outputId": "b3c653f0-fc78-49e2-d210-319f2e3444f0"
   },
   "outputs": [
    {
     "name": "stdout",
     "output_type": "stream",
     "text": [
      "alpha: 2 | Training accuracy : 0.8247777777777778 | Validation accuracy : 0.812\n",
      "alpha: 1 | Training accuracy : 0.8728888888888889 | Validation accuracy : 0.8332\n",
      "alpha: 0.5 | Training accuracy : 0.9215555555555556 | Validation accuracy : 0.8604\n",
      "alpha: 0.1 | Training accuracy : 0.9617777777777777 | Validation accuracy : 0.8892\n",
      "alpha: 0.05 | Training accuracy : 0.9664444444444444 | Validation accuracy : 0.8892\n",
      "alpha: 0.01 | Training accuracy : 0.9717777777777777 | Validation accuracy : 0.8848\n"
     ]
    },
    {
     "data": {
      "image/png": "[encoded data removed]",
      "text/plain": [
       "<Figure size 800x500 with 1 Axes>"
      ]
     },
     "metadata": {},
     "output_type": "display_data"
    },
    {
     "name": "stdout",
     "output_type": "stream",
     "text": [
      "best train alpha: 0.01\n",
      "best train accuracy: 0.9717777777777777\n",
      "best validation alpha: 0.1\n",
      "best validation accuracy: 0.8892\n"
     ]
    }
   ],
   "source": [
    "# Your code goes here.\n",
    "from sklearn.naive_bayes import MultinomialNB\n",
    "from sklearn.metrics import accuracy_score\n",
    "import numpy as np\n",
    "import matplotlib.pyplot as plt\n",
    "\n",
    "# Alpha values\n",
    "alpha_values = [2, 1, 0.5, 0.1, 0.05, 0.01]\n",
    "\n",
    "#Store accuracies\n",
    "train_acs = []\n",
    "val_acs   = []\n",
    "\n",
    "# Models for alpha_values\n",
    "for a in alpha_values:\n",
    "    # 1) build a multinomial Naive Bayes model using the MultinomialNB class in the sklearn.naive_bayes package\n",
    "    nb_model = MultinomialNB(alpha=a)\n",
    "    nb_model.fit(X_train, Y_train)\n",
    "\n",
    "    # prediction and accuracy of training data\n",
    "    y_train_pred   = nb_model.predict(X_train)\n",
    "    train_accuracy = accuracy_score(Y_train, y_train_pred)\n",
    "    train_acs.append(train_accuracy)\n",
    "\n",
    "    # prediction and accuracy of validation data\n",
    "    y_val_pred   = nb_model.predict(X_val)\n",
    "    val_accuracy = accuracy_score(Y_val, y_val_pred)\n",
    "    val_acs.append(val_accuracy)\n",
    "\n",
    "    # 2) Evaluate the model's accuracy on the training data and validation data respectively.\n",
    "    print(f\"alpha: {a} | Training accuracy : {train_accuracy} | Validation accuracy : {val_accuracy}\")\n",
    "\n",
    "\n",
    "#1) plot the training and validation accuracy as a function of  𝛼  (using log scale).\n",
    "plt.figure(figsize=(8, 5))\n",
    "plt.plot(alpha_values, train_acs, marker='o', label='training_accuracy')\n",
    "plt.plot(alpha_values, val_acs, marker='o', label='validation_Accuracy')\n",
    "plt.xscale('log')\n",
    "plt.xlabel('alpha_value(log scale)')\n",
    "plt.ylabel('accuracy')\n",
    "plt.legend()\n",
    "plt.title('train&val_accuracy VS. alpha_value')\n",
    "plt.show()\n",
    "\n",
    "# print out the best training accuracy with its corresponding  𝛼  and the best validation accuracy with its corresponding  𝛼 .\n",
    "best_train_a   = alpha_values[np.argmax(train_acs)]\n",
    "best_val_a     = alpha_values[np.argmax(val_acs)]\n",
    "best_train_acy = max(train_acs)\n",
    "best_val_acy   = max(val_acs)\n",
    "\n",
    "print('best train alpha:', best_train_a,)\n",
    "print('best train accuracy:',best_train_acy)\n",
    "print('best validation alpha:',best_val_a)\n",
    "print('best validation accuracy:', best_val_acy)\n"
   ]
  },
  {
   "cell_type": "markdown",
   "metadata": {
    "id": "uKMWOhjyucSx"
   },
   "source": [
    "**Question**\n",
    "Theoretically, how do you expect changing the $\\alpha$ parameter influence overfitting for Naive Bayes model?\n",
    "Based on this perspective, how do you expect the training and validation accuracy to change as we change $\\alpha$? Are there any discrepancies between the expected and observed trends? If so, can you propose some possible explanations for these differences?"
   ]
  },
  {
   "cell_type": "markdown",
   "metadata": {
    "id": "1mmPvV6VJU4u"
   },
   "source": []
  },
  {
   "cell_type": "markdown",
   "metadata": {
    "id": "0Mp4R8dcu5kj"
   },
   "source": [
    "**Your answer goes here**"
   ]
  },
  {
   "cell_type": "markdown",
   "metadata": {
    "id": "WLyYOKpuuY94"
   },
   "source": [
    "Theoretically, alpha plays an important role in handling zero probabilities in the dataset. Higher alpha has more smooothing and reduces impact of individual features. This helps the model to reduce overfitting and be less sensitive to the noise in the training data. Smaller alpha has less smoothing. The model is more influenced by the frequencies of each feature in the training data. When decreasing alpha can improve training accuracy, but it may lead to overfitting. The model will become too sensitive. Consequently, the expectation of training accuracy and validation accuracy will increase when alpha decease generally. During the decreasing alpha, the validation accuracy will climb to reach a peak and then gets overfitting and decreases.\n",
    "\n",
    "The results of the experiment show that the training accuracy increased when the value of alpha decreased, which aligns with the theoretical expectations. For validation accuracy, it increased gradually until an optimal point at log($\\alpha$) = 0.1, then it started declining when the value of alpha was further increased. This happened because increasing the value of alpha decreased the overfitting, incresing the generalization capacity of the model but the larger value of alpha highly inglected individual features so the model was underfitted. In addition, it could be due to factors such as bias in the training set, the complexity and noise in the data, or violations of Naive Bayes' independence assumption between features. Moreover, the size and diversity of the dataset may not capture the full range of variations expected in real-world data and may affect the accuracy."
   ]
  },
  {
   "cell_type": "markdown",
   "metadata": {
    "id": "vIqdimuBu90y"
   },
   "source": [
    "Expand your search using the strategy introduced in part 1 to search for the $\\alpha$ that leads to the highest validation accuracy on this data set.\n",
    "Please report the best validation accuracy you achieve and the corresponding $\\alpha$ value used."
   ]
  },
  {
   "cell_type": "code",
   "execution_count": null,
   "metadata": {
    "colab": {
     "base_uri": "https://localhost:8080/"
    },
    "id": "CxOUbTPju8Wp",
    "outputId": "76928601-f693-4354-961d-ba5289622999"
   },
   "outputs": [
    {
     "name": "stderr",
     "output_type": "stream",
     "text": [
      "100%|██████████| 40/40 [00:00<00:00, 67.10it/s]\n"
     ]
    },
    {
     "name": "stdout",
     "output_type": "stream",
     "text": [
      "min:0.01, max:2, grid_step:0.05, Alpha: 0.11 | accuracy: 0.8892\n"
     ]
    },
    {
     "name": "stderr",
     "output_type": "stream",
     "text": [
      "100%|██████████| 6/6 [00:00<00:00, 109.37it/s]\n"
     ]
    },
    {
     "name": "stdout",
     "output_type": "stream",
     "text": [
      "min:0.095, max:0.125, grid_step:0.005, Alpha: 0.095 | accuracy: 0.8892\n"
     ]
    },
    {
     "name": "stderr",
     "output_type": "stream",
     "text": [
      "100%|██████████| 3/3 [00:00<00:00, 56.12it/s]\n"
     ]
    },
    {
     "name": "stdout",
     "output_type": "stream",
     "text": [
      "min:0.08, max:0.095, grid_step:0.005, Alpha: 0.08 | accuracy: 0.8904\n"
     ]
    },
    {
     "name": "stderr",
     "output_type": "stream",
     "text": [
      "100%|██████████| 3/3 [00:00<00:00, 54.59it/s]\n"
     ]
    },
    {
     "name": "stdout",
     "output_type": "stream",
     "text": [
      "min:0.065, max:0.08, grid_step:0.005, Alpha: 0.07500000000000001 | accuracy: 0.8908\n"
     ]
    },
    {
     "name": "stderr",
     "output_type": "stream",
     "text": [
      "100%|██████████| 7/7 [00:00<00:00, 50.85it/s]\n"
     ]
    },
    {
     "name": "stdout",
     "output_type": "stream",
     "text": [
      "min:0.07462500000000001, max:0.07537500000000001, grid_step:0.000125, Alpha: 0.07462500000000001 | accuracy: 0.8908\n"
     ]
    },
    {
     "name": "stderr",
     "output_type": "stream",
     "text": [
      "100%|██████████| 4/4 [00:00<00:00, 68.65it/s]\n"
     ]
    },
    {
     "name": "stdout",
     "output_type": "stream",
     "text": [
      "min:0.07425000000000001, max:0.07462500000000001, grid_step:0.000125, Alpha: 0.07425000000000001 | accuracy: 0.8908\n"
     ]
    },
    {
     "name": "stderr",
     "output_type": "stream",
     "text": [
      "100%|██████████| 4/4 [00:00<00:00, 64.25it/s]\n"
     ]
    },
    {
     "name": "stdout",
     "output_type": "stream",
     "text": [
      "min:0.07387500000000001, max:0.07425000000000001, grid_step:0.000125, Alpha: 0.07387500000000001 | accuracy: 0.8908\n"
     ]
    },
    {
     "name": "stderr",
     "output_type": "stream",
     "text": [
      "100%|██████████| 4/4 [00:00<00:00, 70.80it/s]\n"
     ]
    },
    {
     "name": "stdout",
     "output_type": "stream",
     "text": [
      "min:0.07350000000000001, max:0.07387500000000001, grid_step:0.000125, Alpha: 0.07350000000000001 | accuracy: 0.8908\n"
     ]
    },
    {
     "name": "stderr",
     "output_type": "stream",
     "text": [
      "100%|██████████| 4/4 [00:00<00:00, 66.12it/s]"
     ]
    },
    {
     "name": "stdout",
     "output_type": "stream",
     "text": [
      "min:0.07312500000000001, max:0.07350000000000001, grid_step:0.000125, Alpha: 0.07312500000000001 | accuracy: 0.8908\n",
      "Best value of alpha 0.07500000000000001 Best Accuracy:  0.8908\n"
     ]
    },
    {
     "name": "stderr",
     "output_type": "stream",
     "text": [
      "\n"
     ]
    }
   ],
   "source": [
    "# Your code goes here\n",
    "\n",
    "import matplotlib.pyplot as plt\n",
    "from tqdm import tqdm\n",
    "\n",
    "# Creating a search grid for tunning hypterparamters alpha\n",
    "accuracies_train    = []      # Store training accuracy for different value of alpha\n",
    "optimal_acc_all     = []      # Store validation accuracy for different value of alpha\n",
    "optimal_alpha_all   = []      # Store optimal value of alpha\n",
    "num_support_vectors = []      # Store support vectors for different value of alpha\n",
    "\n",
    "min_range           = 0.01\n",
    "max_range           = 2\n",
    "grid_step           = 0.05\n",
    "\n",
    "prev_acc            = 0.0\n",
    "\n",
    "num_step            = 0\n",
    "prev_acc            = 1000\n",
    "\n",
    "same_acc_count      = 0\n",
    "\n",
    "\n",
    "while True:\n",
    "  alpha_range = np.arange(min_range, max_range, grid_step, dtype=float)\n",
    "  accuracies_val = []\n",
    "\n",
    "  for a in tqdm(alpha_range):\n",
    "\n",
    "    nb_model = MultinomialNB(alpha=a)\n",
    "    nb_model.fit(X_train, Y_train)\n",
    "\n",
    "    # prediction and accuracy of validation data\n",
    "    y_val_pred   = nb_model.predict(X_val)\n",
    "    val_accuracy = accuracy_score(Y_val, y_val_pred)\n",
    "    accuracies_val.append(val_accuracy)               # Store the validation accuracy\n",
    "\n",
    "  optimal_alpha   = alpha_range[np.argmax(accuracies_val)]\n",
    "  optimal_acc     = np.max(accuracies_val)\n",
    "\n",
    "  num_step += 1\n",
    "\n",
    "  print(f'min:{min_range}, max:{max_range}, grid_step:{grid_step}, Alpha: {optimal_alpha} | accuracy: {optimal_acc}')\n",
    "\n",
    "  # calculate new range\n",
    "  if (optimal_alpha == alpha_range[0]):\n",
    "    min_range = optimal_alpha -3 * grid_step\n",
    "    max_range = optimal_alpha\n",
    "\n",
    "  elif (optimal_alpha == alpha_range[1]):\n",
    "    max_range = optimal_alpha + 3 * grid_step\n",
    "    min_range = optimal_alpha\n",
    "\n",
    "  else:\n",
    "    grid_step = grid_step / (10*num_step)\n",
    "    min_range = optimal_alpha - 3 * grid_step\n",
    "    max_range = optimal_alpha + 3 * grid_step\n",
    "\n",
    "\n",
    "  same_acc_count = (same_acc_count + 1) if abs(prev_acc - optimal_acc) < 1e-4 else 0\n",
    "\n",
    "  if same_acc_count > 4:                           # Break the loop if the accuracy doesn't changes\n",
    "    break\n",
    "  prev_acc = optimal_acc\n",
    "\n",
    "  optimal_acc_all.append(optimal_acc)\n",
    "  optimal_alpha_all.append(optimal_alpha)\n",
    "\n",
    "ind        = np.argmax(optimal_acc_all)\n",
    "best_alpha = optimal_alpha_all[ind]\n",
    "print(\"Best value of alpha\", best_alpha, \"Best Accuracy: \", optimal_acc_all[ind])\n"
   ]
  },
  {
   "cell_type": "markdown",
   "metadata": {
    "id": "cj-DNhUovoQC"
   },
   "source": [
    "As discussed in class, the multinomial naive bayes classifier learns a linear classifier where the weight coeffcient for each word $i$ can be computed as follows:\n",
    "\n",
    "$\\log P(w_i|y=1) - \\log P(w_i|y=0)$\n",
    "\n",
    "where $P(w_i|y=\\cdot)$ denotes the probability for word $i$ when $y=\\cdot$\n",
    "\n",
    "Examine two naive bayes models: one with $\\alpha =1$, the other with the best $\\alpha$ you identified above. For each model, sort the words based on their weight coefficients. Identify and list the top 10 words along with their corresponding weights, focusing on those with the highest positive weights and the highest negative weights for each model."
   ]
  },
  {
   "cell_type": "code",
   "execution_count": null,
   "metadata": {
    "colab": {
     "base_uri": "https://localhost:8080/"
    },
    "id": "S8PlR7WqyGok",
    "outputId": "ddacad58-f79b-47c9-dc5e-a4a0bdeddcf2"
   },
   "outputs": [
    {
     "name": "stdout",
     "output_type": "stream",
     "text": [
      "alpha = 1, 10 positive words: [('thank', 2.8844084732627095), ('awesome', 2.4953873957134), ('fortunemagazine', 2.473274677665928), ('imaginedragons', 2.4421102524663247), ('favorite', 2.3865097990131208), ('rock', 2.3658824868683777), ('outstanding', 2.2774735424529595), ('kudos', 2.2552462975829064), ('amazing', 2.2378256417964746), ('passbook', 2.129243170273295)]\n",
      "alpha = 1, 10 negative words: [('worst', -3.3531344895289728), ('hours', -3.2625174133504133), ('hold', -3.076962407390657), ('online', -2.6492995076374175), ('hrs', -2.6215638765711917), ('rude', -2.620176108777578), ('ridiculous', -2.5174182505689275), ('delayed', -2.4968107888634297), ('pay', -2.4762753986079558), ('stuck', -2.4727924223353064)]\n",
      "best alpha, 10 positive words: [('fortunemagazine', 4.6745666737055664), ('imaginedragons', 4.638002845648053), ('outstanding', 4.4412793895549205), ('pleasure', 4.170522991954909), ('aww', 4.135938924714553), ('smooth', 4.057596056125601), ('love_dragonss', 4.052551222349998), ('dancing', 3.8701547581339195), ('lauren', 3.8693358037349928), ('favorite', 3.859608921696374)]\n",
      "best alpha, 10 negative words: [('worst', -4.614137066655764), ('rude', -3.8654532588000228), ('ridiculous', -3.7593881921865275), ('pay', -3.7168195486433504), ('unacceptable', -3.6610820653953438), ('hung', -3.6582777600460297), ('fail', -3.637931857154527), ('disappointed', -3.6171516915249526), ('money', -3.5915127516327328), ('poor', -3.5658908383536403)]\n"
     ]
    }
   ],
   "source": [
    "#your code goes here\n",
    "def get_words(model, feature_name, n=10):\n",
    "\n",
    "    log_p = model.feature_log_prob_[1] - model.feature_log_prob_[0]\n",
    "    indice = np.argsort(log_p)\n",
    "    pwords = []\n",
    "    for i in range(-n, 0):\n",
    "      index = indice[i]\n",
    "      word = feature_name[index]\n",
    "      weight = log_p[index]\n",
    "      pwords.append((word, weight))\n",
    "    pwords.reverse()\n",
    "\n",
    "    nwords = []\n",
    "    for i in range(n):\n",
    "      index = indice[i]\n",
    "      word = feature_name[index]\n",
    "      weight = log_p[index]\n",
    "      nwords.append((word, weight))\n",
    "\n",
    "\n",
    "    return pwords, nwords\n",
    "\n",
    "fn              = vectorizer.get_feature_names_out()\n",
    "model_alpha_1   = MultinomialNB(alpha=1).fit(X_train, Y_train)\n",
    "model_opt_alpha = MultinomialNB(alpha=best_alpha).fit(X_train, Y_train)\n",
    "\n",
    "#get the words\n",
    "alpha_1_words = get_words(model_alpha_1, fn)\n",
    "alpha_opt_words = get_words(model_opt_alpha, fn)\n",
    "print('alpha = 1, 10 positive words:', alpha_1_words[0])\n",
    "print('alpha = 1, 10 negative words:', alpha_1_words[1])\n",
    "print('best alpha, 10 positive words:', alpha_opt_words[0])\n",
    "print('best alpha, 10 negative words:', alpha_opt_words[1])"
   ]
  },
  {
   "cell_type": "markdown",
   "metadata": {
    "id": "bFr3cCpJcTqg"
   },
   "source": []
  },
  {
   "cell_type": "markdown",
   "metadata": {
    "id": "aFFuMorTyN8r"
   },
   "source": [
    "**Question**\n",
    "1. Comparing the list of words and their weights between the two Naive Bayes models. Discuss any noticeable trends or differences in the weights as you change the $\\alpha$ value. Provide your explanation for this trend.\n",
    "2. Compare the list of words and their weights from your best performing Naive Bayes model, with those from the best linear SVM model in part 1. Discuss any noticeable differences between the two models. How do you think the differences influence the model's ability to generalize."
   ]
  },
  {
   "cell_type": "markdown",
   "metadata": {
    "id": "-cniVjSXy8qA"
   },
   "source": [
    "Your answer goes here."
   ]
  },
  {
   "cell_type": "markdown",
   "metadata": {
    "id": "CLDA8lSfQqyr"
   },
   "source": [
    "1) The two bayes models share almost half of the words for each positive and negative. The models share fortunemagazine, imaginedragons,favorite, outstanding for positive and worst, rude, ridiculous, pay, for negative.\n",
    "$\\alpha$ = 0.162: The weights are more extreme for either highly positive words or highly negative words compared to $\\alpha$ = 1. Since the smoothing parameter is low, it makes the model more sensitive to the frequency of words in the training data. It can better distinguish features that are strongly indicative of a particular class, but there's a risk of overfitting.\n",
    "\n",
    "\n",
    "\n",
    "\n",
    "2) When $\\alpha$=1 The Bayes model shares many of its highest weighed words with the linear svm. The positive words have thank awesome kudos amazing, in common, while the negative words have worst hold hours delayed, in common. However, when using the optimal value for $\\alpha$ the two do not have any words in common except the word worst apearing at the top of negative words.\n",
    "In Naive Bayes model, the weights represent the log probabilities. They are influenced by the frequency of words and their distribution. In SVM, the weights are the coefficients in a linear decision boundary. SVM focuses on the features of maximally separating the classes.\n",
    "\n",
    "\n"
   ]
  }
 ],
 "metadata": {
  "colab": {
   "provenance": []
  },
  "kernelspec": {
   "display_name": "Python 3 (ipykernel)",
   "language": "python",
   "name": "python3"
  },
  "language_info": {
   "codemirror_mode": {
    "name": "ipython",
    "version": 3
   },
   "file_extension": ".py",
   "mimetype": "text/x-python",
   "name": "python",
   "nbconvert_exporter": "python",
   "pygments_lexer": "ipython3",
   "version": "3.11.5"
  }
 },
 "nbformat": 4,
 "nbformat_minor": 1
}
